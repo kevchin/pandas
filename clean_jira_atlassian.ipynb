{
 "cells": [
  {
   "cell_type": "code",
   "execution_count": null,
   "id": "27a8cbc4",
   "metadata": {},
   "outputs": [],
   "source": [
    "## From: https://levelup.gitconnected.com/jira-api-with-python-and-pandas-c1226fd41219\n",
    "## Sample code: https://gist.github.com/dmort-ca/a3bbeaac4729ba2c72a9a33512402ae4"
   ]
  },
  {
   "cell_type": "code",
   "execution_count": null,
   "id": "e5a1b5e8",
   "metadata": {},
   "outputs": [],
   "source": [
    "from atlassian import Jira\n",
    "import pandas as pd\n",
    "import matplotlib.pyplot as plt"
   ]
  },
  {
   "cell_type": "markdown",
   "id": "ff022478",
   "metadata": {},
   "source": [
    "## From: https://id.atlassian.com/manage-profile/security/api-tokens\n",
    "  * API Tokens"
   ]
  },
  {
   "cell_type": "code",
   "execution_count": null,
   "id": "fbefbfdc",
   "metadata": {},
   "outputs": [],
   "source": [
    "keyfile = open(\"apikey.txt\")\n",
    "\n",
    "apikey = keyfile.read().replace(\"\\n\",\"\")\n",
    "keyfile.close()"
   ]
  },
  {
   "cell_type": "code",
   "execution_count": null,
   "id": "3c182c7f",
   "metadata": {},
   "outputs": [],
   "source": [
    "INSTANCE_URL = \"https://HOSTNAME.atlassian.net/\"\n",
    "USER_NAME=\"EMAIL@COMPANY.com\""
   ]
  },
  {
   "cell_type": "markdown",
   "id": "e8912262",
   "metadata": {},
   "source": [
    "## https://atlassian-python-api.readthedocs.io/"
   ]
  },
  {
   "cell_type": "code",
   "execution_count": null,
   "id": "33f958fc",
   "metadata": {},
   "outputs": [],
   "source": [
    "jira_instance = Jira(\n",
    "    url=INSTANCE_URL,\n",
    "    username=USER_NAME,\n",
    "    password=apikey,\n",
    "    cloud=True)"
   ]
  },
  {
   "cell_type": "code",
   "execution_count": null,
   "id": "5c214193",
   "metadata": {},
   "outputs": [],
   "source": [
    "jira_instance"
   ]
  },
  {
   "cell_type": "code",
   "execution_count": null,
   "id": "5dca3c5e",
   "metadata": {},
   "outputs": [],
   "source": [
    "jira_instance.issue(key = \"WEB-23\", fields = [\"issuetype\", \"status\", \"summary\"])"
   ]
  },
  {
   "cell_type": "code",
   "execution_count": null,
   "id": "9a92b58d",
   "metadata": {},
   "outputs": [],
   "source": [
    "def retrieve_all_query_results(jira_instance: Jira, query_string: str, fields: list) -> list:\n",
    "    issues_per_query = 5\n",
    "    list_of_jira_issues = []\n",
    "    \n",
    "    # Get the total issues in the results set. This is one extra request but it keeps things simple.\n",
    "    num_issues_in_query_result_set = jira_instance.jql(query_string, limit = 0)[\"total\"]\n",
    "    print(f\"Query `{query_string}` returns {num_issues_in_query_result_set} issues\")\n",
    "    \n",
    "    # Use floor division + 1 to calculate the number of requests needed\n",
    "    for query_number in range(0, (num_issues_in_query_result_set // issues_per_query) + 1):\n",
    "        results = jira_instance.jql(query_string, limit = issues_per_query, start = query_number * issues_per_query, fields = fields)\n",
    "        print (query_number, query_number * issues_per_query)\n",
    "        list_of_jira_issues.extend(results[\"issues\"])\n",
    "    \n",
    "    return list_of_jira_issues"
   ]
  },
  {
   "cell_type": "code",
   "execution_count": null,
   "id": "da124523",
   "metadata": {},
   "outputs": [],
   "source": [
    "first_query_results = retrieve_all_query_results(jira_instance, \"Project = WEB\", fields = [\"issuelinks\", \"summary\"])\n",
    "# Create an empty list to add issues when not all the blocking issues are closed."
   ]
  },
  {
   "cell_type": "code",
   "execution_count": null,
   "id": "b818adeb",
   "metadata": {},
   "outputs": [],
   "source": [
    "df = pd.json_normalize(first_query_results)\n",
    "df.head()"
   ]
  },
  {
   "cell_type": "code",
   "execution_count": null,
   "id": "beaec381",
   "metadata": {},
   "outputs": [],
   "source": [
    "FIELDS_OF_INTEREST = [\"key\", \"fields.summary\", \"fields.summary\", \"fields.issuelinks\"]\n",
    "df = pd.json_normalize(first_query_results)\n",
    "df[FIELDS_OF_INTEREST].head()"
   ]
  },
  {
   "cell_type": "code",
   "execution_count": null,
   "id": "cc962708",
   "metadata": {},
   "outputs": [],
   "source": [
    "df.columns"
   ]
  },
  {
   "cell_type": "code",
   "execution_count": null,
   "id": "98ed2adf",
   "metadata": {},
   "outputs": [],
   "source": [
    "jql_result_set_issues = retrieve_all_query_results(jira_instance, \"Project = WEB\", fields = \"*all\")\n",
    "df = pd.json_normalize(jql_result_set_issues)\n",
    "df.head()"
   ]
  },
  {
   "cell_type": "code",
   "execution_count": null,
   "id": "0b6bb422",
   "metadata": {},
   "outputs": [],
   "source": [
    "jql_result_set_issues[0]['fields']"
   ]
  },
  {
   "cell_type": "code",
   "execution_count": null,
   "id": "899d262c",
   "metadata": {},
   "outputs": [],
   "source": [
    "all_projects = jira_instance.projects(included_archived=None)\n",
    "projects_df = pd.json_normalize(all_projects)\n"
   ]
  },
  {
   "cell_type": "code",
   "execution_count": null,
   "id": "e59152ec",
   "metadata": {},
   "outputs": [],
   "source": []
  },
  {
   "cell_type": "code",
   "execution_count": null,
   "id": "f13e5110",
   "metadata": {},
   "outputs": [],
   "source": [
    "PROJ_FIELDS_OF_INTEREST = [\"key\", \"name\", \"id\", \"projectTypeKey\"]\n",
    "projects_df[PROJ_FIELDS_OF_INTEREST].head()"
   ]
  },
  {
   "cell_type": "code",
   "execution_count": null,
   "id": "8e95d3c6",
   "metadata": {},
   "outputs": [],
   "source": [
    "account_id = '111111111111111111111111'\n",
    "u = jira_instance.get_user_groups(account_id)\n",
    "u"
   ]
  },
  {
   "cell_type": "code",
   "execution_count": null,
   "id": "d63071c3",
   "metadata": {},
   "outputs": [],
   "source": [
    "# Get all users from group\n",
    "group= 'site-admins'\n",
    "g = jira_instance.get_all_users_from_group(group, include_inactive_users=False, start=0, limit=50)\n",
    "g"
   ]
  },
  {
   "cell_type": "code",
   "execution_count": null,
   "id": "00e70584",
   "metadata": {},
   "outputs": [],
   "source": [
    "group_df = pd.json_normalize(g['values'])\n",
    "GROUP_FIELDS_OF_INTEREST = [ \"displayName\", \"emailAddress\",  \"self\", \"accountId\", \"active\"]\n",
    "group_df[GROUP_FIELDS_OF_INTEREST].head()\n"
   ]
  },
  {
   "cell_type": "markdown",
   "id": "f8deb6f0",
   "metadata": {},
   "source": [
    "## Requests Library\n",
    "  * https://developer.atlassian.com/cloud/jira/platform/rest/v3/api-group-user-search/#api-rest-api-3-user-search-query-get\n",
    "  * search"
   ]
  },
  {
   "cell_type": "code",
   "execution_count": null,
   "id": "2e51f3ce",
   "metadata": {},
   "outputs": [],
   "source": [
    "import requests\n",
    "from requests.auth import HTTPBasicAuth\n",
    "import json\n",
    "\n",
    "url = INSTANCE_URL + \"/rest/api/2/user\"\n",
    "\n",
    "auth = HTTPBasicAuth(USER_NAME, apikey)\n",
    "\n",
    "headers = {\n",
    "  \"Accept\": \"application/json\"\n",
    "}\n",
    "\n",
    "\n",
    "account_id = '111111111111111111111111'\n",
    "query = {\n",
    "  'accountId': account_id\n",
    "}\n",
    "\n",
    "response = requests.request(\n",
    "   \"GET\",\n",
    "   url,\n",
    "   headers=headers,\n",
    "   params=query,\n",
    "   auth=auth\n",
    ")\n",
    "\n",
    "print(json.dumps(json.loads(response.text), sort_keys=True, indent=4, separators=(\",\", \": \")))\n"
   ]
  },
  {
   "cell_type": "code",
   "execution_count": null,
   "id": "9aa98f95",
   "metadata": {},
   "outputs": [],
   "source": [
    "url = INSTANCE_URL + \"/rest/api/3/user/search\"\n",
    "\n",
    "auth = HTTPBasicAuth(USER_NAME, apikey)\n",
    "\n",
    "headers = {\n",
    "  \"Accept\": \"application/json\"\n",
    "}\n",
    "\n",
    "# Syntax: https://developer.atlassian.com/cloud/jira/platform/rest/v3/api-group-user-search/#api-rest-api-3-user-search-get\n",
    "\n",
    "query = {\n",
    "  'query': 'query=k'\n",
    "}\n",
    "\n",
    "response = requests.request(\n",
    "   \"GET\",\n",
    "   url,\n",
    "   headers=headers,\n",
    "   params=query,\n",
    "   auth=auth\n",
    ")\n",
    "\n",
    "print(json.dumps(json.loads(response.text), sort_keys=True, indent=4, separators=(\",\", \": \")))\n"
   ]
  },
  {
   "cell_type": "code",
   "execution_count": null,
   "id": "2a0b7f96",
   "metadata": {},
   "outputs": [],
   "source": [
    "url = INSTANCE_URL + \"/rest/api/3/user/search/query\"\n",
    "\n",
    "auth = HTTPBasicAuth(USER_NAME, apikey)\n",
    "\n",
    "headers = {\n",
    "  \"Accept\": \"application/json\"\n",
    "}\n",
    "\n",
    "# Syntax: https://developer.atlassian.com/cloud/jira/platform/rest/v3/api-group-user-search/#api-rest-api-3-user-search-get\n",
    "\n",
    "query = {\n",
    "  'query': 'is assignee of WEB'\n",
    "}\n",
    "\n",
    "response = requests.request(\n",
    "   \"GET\",\n",
    "   url,\n",
    "   headers=headers,\n",
    "   params=query,\n",
    "   auth=auth\n",
    ")\n",
    "\n",
    "print(json.dumps(json.loads(response.text), sort_keys=True, indent=4, separators=(\",\", \": \")))\n"
   ]
  },
  {
   "cell_type": "code",
   "execution_count": null,
   "id": "946af01c",
   "metadata": {},
   "outputs": [],
   "source": [
    "url = INSTANCE_URL + \"/rest/api/3/user/viewissue/search\"\n",
    "\n",
    "auth = HTTPBasicAuth(USER_NAME, apikey)\n",
    "\n",
    "headers = {\n",
    "  \"Accept\": \"application/json\"\n",
    "}\n",
    "\n",
    "query = {\n",
    "  'query': 'query=kev',\n",
    "  'projectKey': 'WEB'\n",
    "}\n",
    "\n",
    "response = requests.request(\n",
    "   \"GET\",\n",
    "   url,\n",
    "   headers=headers,\n",
    "   params=query,\n",
    "   auth=auth\n",
    ")\n",
    "\n",
    "print(json.dumps(json.loads(response.text), sort_keys=True, indent=4, separators=(\",\", \": \")))"
   ]
  },
  {
   "cell_type": "markdown",
   "id": "8b718f2a",
   "metadata": {},
   "source": [
    "## User ID's\n",
    "  * https://developer.atlassian.com/cloud/jira/platform/rest/v3/api-group-users/#api-rest-api-3-user-bulk-migration-get"
   ]
  },
  {
   "cell_type": "code",
   "execution_count": null,
   "id": "13bdd648",
   "metadata": {},
   "outputs": [],
   "source": [
    "## https://levelup.gitconnected.com/jira-api-with-python-and-pandas-c1226fd41219"
   ]
  },
  {
   "cell_type": "code",
   "execution_count": null,
   "id": "e152d2ee",
   "metadata": {},
   "outputs": [],
   "source": [
    "url = INSTANCE_URL + \"/rest/api/3/users/search\"\n",
    "\n",
    "auth = HTTPBasicAuth(USER_NAME, apikey)\n",
    "\n",
    "headers = {\n",
    "  \"Accept\": \"application/json\"\n",
    "}\n",
    "\n",
    "response = requests.request(\n",
    "   \"GET\",\n",
    "   url,\n",
    "   headers=headers,\n",
    "   auth=auth\n",
    ")\n",
    "\n",
    "print(json.dumps(json.loads(response.text), sort_keys=True, indent=4, separators=(\",\", \": \")))"
   ]
  },
  {
   "cell_type": "code",
   "execution_count": null,
   "id": "c4fa5a87",
   "metadata": {},
   "outputs": [],
   "source": [
    "j = response.json()\n",
    "u_df = pd.DataFrame.from_dict(j)\n",
    "rslt_df = u_df[u_df['accountType'] == 'atlassian'] \n",
    "USER_FIELDS_OF_INTEREST = [ \"displayName\", \"emailAddress\",  \"self\", \"accountId\", \"active\"]\n",
    "rslt_df[USER_FIELDS_OF_INTEREST].head()"
   ]
  },
  {
   "cell_type": "markdown",
   "id": "063e2849",
   "metadata": {},
   "source": [
    "# Done - ZZZZ"
   ]
  },
  {
   "cell_type": "markdown",
   "id": "9108106e",
   "metadata": {},
   "source": [
    "## Custom Fields"
   ]
  },
  {
   "cell_type": "code",
   "execution_count": null,
   "id": "c61f6033",
   "metadata": {},
   "outputs": [],
   "source": [
    "custom_fields_list = jira_instance.get_all_custom_fields()\n",
    "df_custom_fields = pd.DataFrame.from_records(custom_fields_list, index = [\"key\"])"
   ]
  },
  {
   "cell_type": "code",
   "execution_count": null,
   "id": "a62a34b4",
   "metadata": {},
   "outputs": [],
   "source": [
    "## https://gist.github.com/dmort-ca/a3bbeaac4729ba2c72a9a33512402ae4"
   ]
  }
 ],
 "metadata": {
  "kernelspec": {
   "display_name": "Python 3 (ipykernel)",
   "language": "python",
   "name": "python3"
  },
  "language_info": {
   "codemirror_mode": {
    "name": "ipython",
    "version": 3
   },
   "file_extension": ".py",
   "mimetype": "text/x-python",
   "name": "python",
   "nbconvert_exporter": "python",
   "pygments_lexer": "ipython3",
   "version": "3.8.15"
  }
 },
 "nbformat": 4,
 "nbformat_minor": 5
}
