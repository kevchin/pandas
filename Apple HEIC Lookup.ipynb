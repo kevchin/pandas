{
 "cells": [
  {
   "cell_type": "markdown",
   "id": "c8d72562",
   "metadata": {},
   "source": [
    "## How:\n",
    "    * 214  conda create --name exif\n",
    "    * 216  conda activate exif\n",
    "    * 220  conda install pip\n",
    "    * 221  pip install exif seaborn jupyter\n",
    "    * 254  pip install reverse_geocoder\n",
    "    * 265  pip install geopy\n",
    "    * http://download.geonames.org/export/dump/\n",
    "      * geonames-all-cities-with-a-population-1000.csv\n",
    "    \n",
    "## Where:\n",
    "    * https://towardsdatascience.com/reverse-geocoding-in-python-a915acf29eb6\n",
    "    * https://gis.stackexchange.com/questions/357578/python-geopys-nominatim-reverse-geocoding-access-type-e-g-amenity\n",
    "    * https://gis.stackexchange.com/questions/331144/bulk-reverse-geocoding-with-geopy-using-built-in-rate-limiter\n",
    "    * https://pypi.org/project/geopy/\n",
    "    * https://github.com/thampiman/reverse-geocoder\n",
    "    * https://medium.com/analytics-vidhya/reverse-geocoding-with-geonames-in-python-3b5bb176a26c\n",
    "    * https://medium.com/spatial-data-science/how-to-extract-gps-coordinates-from-images-in-python-e66e542af354\n",
    "    * https://stackoverflow.com/questions/72522522/how-to-extract-gps-location-from-heic-files\n",
    "    \n",
    "  \n"
   ]
  },
  {
   "cell_type": "code",
   "execution_count": 1,
   "id": "7dc619c5",
   "metadata": {},
   "outputs": [],
   "source": [
    "import pandas as pd\n",
    "from datetime import datetime\n",
    "from PIL import Image\n",
    "from pillow_heif import register_heif_opener"
   ]
  },
  {
   "cell_type": "markdown",
   "id": "9c3fd02a",
   "metadata": {},
   "source": [
    "## Get HEIC metadata for GEOCODING"
   ]
  },
  {
   "cell_type": "code",
   "execution_count": 2,
   "id": "856cb1a9",
   "metadata": {},
   "outputs": [],
   "source": [
    "from PIL import Image\n",
    "def get_exif(filename):\n",
    "    image = Image.open(filename)\n",
    "    image.verify()\n",
    "    return image.getexif().get_ifd(0x8825)\n",
    "\n",
    "\n",
    "def get_geotagging(exif):\n",
    "    geo_tagging_info = {}\n",
    "    if not exif:\n",
    "        raise ValueError(\"No EXIF metadata found\")\n",
    "    else:\n",
    "        gps_keys = ['GPSVersionID', 'GPSLatitudeRef', 'GPSLatitude', 'GPSLongitudeRef', 'GPSLongitude',\n",
    "                    'GPSAltitudeRef', 'GPSAltitude', 'GPSTimeStamp', 'GPSSatellites', 'GPSStatus', 'GPSMeasureMode',\n",
    "                    'GPSDOP', 'GPSSpeedRef', 'GPSSpeed', 'GPSTrackRef', 'GPSTrack', 'GPSImgDirectionRef',\n",
    "                    'GPSImgDirection', 'GPSMapDatum', 'GPSDestLatitudeRef', 'GPSDestLatitude', 'GPSDestLongitudeRef',\n",
    "                    'GPSDestLongitude', 'GPSDestBearingRef', 'GPSDestBearing', 'GPSDestDistanceRef', 'GPSDestDistance',\n",
    "                    'GPSProcessingMethod', 'GPSAreaInformation', 'GPSDateStamp', 'GPSDifferential']\n",
    "\n",
    "        for k, v in exif.items():\n",
    "            try:\n",
    "                geo_tagging_info[gps_keys[k]] = str(v)\n",
    "            except IndexError:\n",
    "                pass\n",
    "        return geo_tagging_info\n",
    "\n",
    "def dms2dd(degrees, minutes, seconds, direction):\n",
    "    dd = float(degrees) + float(minutes)/60 + float(seconds)/(60*60);\n",
    "    if direction in ('S','W'):\n",
    "        dd*= -1\n",
    "    return dd\n",
    "\n",
    "register_heif_opener()"
   ]
  },
  {
   "cell_type": "code",
   "execution_count": 3,
   "id": "86ad9a54",
   "metadata": {},
   "outputs": [
    {
     "name": "stdout",
     "output_type": "stream",
     "text": [
      "{'GPSLatitudeRef': 'N', 'GPSLatitude': '(37.0, 34.0, 42.91)', 'GPSLongitudeRef': 'E', 'GPSLongitude': '(126.0, 58.0, 38.23)', 'GPSAltitudeRef': \"b'\\\\x00'\", 'GPSAltitude': '48.525146484375', 'GPSTimeStamp': '(7.0, 15.0, 0.0)', 'GPSSpeedRef': 'K', 'GPSSpeed': '0.0', 'GPSImgDirectionRef': 'T', 'GPSImgDirection': '273.68064876957493', 'GPSDestBearingRef': 'T', 'GPSDestBearing': '273.68064876957493', 'GPSDateStamp': '2019:06:19'}\n"
     ]
    }
   ],
   "source": [
    "my_image = 'sample_images/IMG_1152.HEIC'\n",
    "#my_image = 'sample_images/IMG_4225.HEIC'\n",
    "image_info = get_exif(my_image)\n",
    "results = get_geotagging(image_info)\n",
    "print(results)"
   ]
  },
  {
   "cell_type": "code",
   "execution_count": 4,
   "id": "16b51327",
   "metadata": {},
   "outputs": [
    {
     "name": "stdout",
     "output_type": "stream",
     "text": [
      "2019 6 19 37.578586111111115 126.97728611111111\n"
     ]
    }
   ],
   "source": [
    "dateValue = datetime.strptime(results['GPSDateStamp'], \"%Y:%m:%d\").date()\n",
    "year, month, day = map(int, results['GPSDateStamp'].strip('()').split(':'))\n",
    "\n",
    "degrees, minutes, seconds = map(float, results['GPSLatitude'].strip('()').split(','))\n",
    "direction = results['GPSLatitudeRef']\n",
    "dd_lat = dms2dd(degrees, minutes, seconds, direction)\n",
    "\n",
    "degrees, minutes, seconds = map(float, results['GPSLongitude'].strip('()').split(','))\n",
    "direction = results['GPSLongitudeRef']\n",
    "dd_long = dms2dd(degrees, minutes, seconds, direction)\n",
    "\n",
    "print (year, month, day, dd_lat, dd_long)"
   ]
  },
  {
   "cell_type": "markdown",
   "id": "676b0d9c",
   "metadata": {},
   "source": [
    "## Reverse GeoCode"
   ]
  },
  {
   "cell_type": "code",
   "execution_count": 5,
   "id": "d841c750",
   "metadata": {},
   "outputs": [],
   "source": [
    "from geopy.geocoders import Nominatim\n",
    "from geopy.extra.rate_limiter import RateLimiter"
   ]
  },
  {
   "cell_type": "code",
   "execution_count": 6,
   "id": "ed28cdef",
   "metadata": {},
   "outputs": [
    {
     "name": "stdout",
     "output_type": "stream",
     "text": [
      "{'place_id': 299911227, 'licence': 'Data © OpenStreetMap contributors, ODbL 1.0. https://osm.org/copyright', 'osm_type': 'relation', 'osm_id': 5501517, 'lat': '37.57975395', 'lon': '126.97668069886859', 'display_name': 'Gyeongbokgung Palace, Hyoja-ro, Jeokseon-dong, Cheongunhyoja-dong, Jongno-gu, Seoul, 03044, South Korea', 'address': {'tourism': 'Gyeongbokgung Palace', 'road': 'Hyoja-ro', 'quarter': 'Jeokseon-dong', 'suburb': 'Cheongunhyoja-dong', 'borough': 'Jongno-gu', 'city': 'Seoul', 'ISO3166-2-lvl4': 'KR-11', 'postcode': '03044', 'country': 'South Korea', 'country_code': 'kr'}, 'boundingbox': ['37.5758581', '37.583667', '126.973755', '126.9800491']}\n"
     ]
    }
   ],
   "source": [
    "geolocator = Nominatim(user_agent=\"application\")\n",
    "\n",
    "reverse = RateLimiter(geolocator.reverse, min_delay_seconds=1)\n",
    "\n",
    "location = reverse((dd_lat, dd_long), language='en', exactly_one=True)\n",
    "\n",
    "print (location.raw)"
   ]
  },
  {
   "cell_type": "code",
   "execution_count": 7,
   "id": "87148aea",
   "metadata": {},
   "outputs": [
    {
     "name": "stdout",
     "output_type": "stream",
     "text": [
      "Gyeongbokgung Palace, Hyoja-ro, Jeokseon-dong, Cheongunhyoja-dong, Jongno-gu, Seoul, 03044, South Korea Seoul South Korea\n"
     ]
    }
   ],
   "source": [
    "print (location.raw['display_name'], \n",
    "       location.raw['address']['city'],\n",
    "       location.raw['address']['country'],\n",
    "      )"
   ]
  },
  {
   "cell_type": "markdown",
   "id": "c41f271e",
   "metadata": {},
   "source": [
    "## Static File Lookup for City State"
   ]
  },
  {
   "cell_type": "code",
   "execution_count": 8,
   "id": "3616f2c4",
   "metadata": {},
   "outputs": [],
   "source": [
    "import reverse_geocoder as rg\n",
    "import io"
   ]
  },
  {
   "cell_type": "code",
   "execution_count": 9,
   "id": "447b55aa",
   "metadata": {},
   "outputs": [
    {
     "name": "stdout",
     "output_type": "stream",
     "text": [
      "Loading formatted geocoded file...\n",
      "[{'lat': '51.51116', 'lon': '-0.18426', 'name': 'Bayswater', 'admin1': 'England', 'admin2': 'Greater London', 'cc': 'GB'}, {'lat': '9.93988', 'lon': '76.26022', 'name': 'Cochin', 'admin1': 'Kerala', 'admin2': 'Ernakulam', 'cc': 'IN'}, {'lat': '37.38605', 'lon': '-122.08385', 'name': 'Mountain View', 'admin1': 'California', 'admin2': 'Santa Clara County', 'cc': 'US'}]\n"
     ]
    }
   ],
   "source": [
    "coordinates = (51.5214588,-0.1729636),(9.936033, 76.259952),(37.38605,-122.08385)\n",
    "\n",
    "results = rg.search(coordinates) # default mode = 2\n",
    "\n",
    "print (results)"
   ]
  },
  {
   "cell_type": "code",
   "execution_count": 10,
   "id": "0a32275c",
   "metadata": {},
   "outputs": [
    {
     "name": "stdout",
     "output_type": "stream",
     "text": [
      "[{'lat': '37.566', 'lon': '126.9784', 'name': 'Seoul', 'admin1': 'Seoul', 'admin2': '', 'cc': 'KR'}, {'lat': '9.93988', 'lon': '76.26022', 'name': 'Cochin', 'admin1': 'Kerala', 'admin2': 'Ernakulam', 'cc': 'IN'}, {'lat': '37.38605', 'lon': '-122.08385', 'name': 'Mountain View', 'admin1': 'California', 'admin2': 'Santa Clara County', 'cc': 'US'}]\n"
     ]
    }
   ],
   "source": [
    "geo = rg.RGeocoder(mode=2, verbose=True, stream=io.StringIO(open('geonames-all-cities-with-a-population-1000.csv', encoding='utf-8').read()))\n",
    "coordinates = (dd_lat, dd_long),(9.936033, 76.259952),(37.38605,-122.08385)\n",
    "results = geo.query(coordinates)\n",
    "print (results)"
   ]
  },
  {
   "cell_type": "code",
   "execution_count": 11,
   "id": "a5b6395c",
   "metadata": {},
   "outputs": [
    {
     "name": "stdout",
     "output_type": "stream",
     "text": [
      "37.566,126.9784,Seoul,Seoul,\n",
      "9.93988,76.26022,Cochin,Kerala,Ernakulam\n",
      "37.38605,-122.08385,Mountain View,California,Santa Clara County\n"
     ]
    }
   ],
   "source": [
    "for c in results:\n",
    "    l = [c['lat'], c['lon'], c['name'], c['admin1'], c['admin2']]\n",
    "    print (','.join(l))"
   ]
  },
  {
   "cell_type": "markdown",
   "id": "55e9e70b",
   "metadata": {},
   "source": [
    "## JPG"
   ]
  },
  {
   "cell_type": "code",
   "execution_count": 12,
   "id": "6e8eb4c4",
   "metadata": {},
   "outputs": [],
   "source": [
    "from exif import Image\n",
    "def image_coordinates(image_path):\n",
    "    with open(image_path, 'rb') as src:\n",
    "        img = Image(src)\n",
    "    if img.has_exif:\n",
    "        try:\n",
    "            img.gps_longitude\n",
    "            coords = (decimal_coords(img.gps_latitude,\n",
    "                      img.gps_latitude_ref),\n",
    "                      decimal_coords(img.gps_longitude,\n",
    "                      img.gps_longitude_ref))\n",
    "        except AttributeError:\n",
    "            print ('No Coordinates')\n",
    "    else:\n",
    "        print ('The Image has no EXIF information')\n",
    "        print(f\"Image {src.name}, OS Version:{img.get('software', 'Not Known')} ------\")\n",
    "        print(f\"Was taken: {img.datetime_original}, and has coordinates:{coords}\")"
   ]
  },
  {
   "cell_type": "markdown",
   "id": "21bfbddb",
   "metadata": {},
   "source": [
    "# Done - ZZZZZ"
   ]
  },
  {
   "cell_type": "code",
   "execution_count": null,
   "id": "b05bf941",
   "metadata": {},
   "outputs": [],
   "source": []
  }
 ],
 "metadata": {
  "kernelspec": {
   "display_name": "Python 3 (ipykernel)",
   "language": "python",
   "name": "python3"
  },
  "language_info": {
   "codemirror_mode": {
    "name": "ipython",
    "version": 3
   },
   "file_extension": ".py",
   "mimetype": "text/x-python",
   "name": "python",
   "nbconvert_exporter": "python",
   "pygments_lexer": "ipython3",
   "version": "3.10.9"
  }
 },
 "nbformat": 4,
 "nbformat_minor": 5
}
