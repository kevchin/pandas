{
 "cells": [
  {
   "cell_type": "markdown",
   "id": "0afa504c-d5f8-4b71-afc2-47e2bf60ac00",
   "metadata": {},
   "source": [
    "## From: https://stackoverflow.com/questions/35373714/reverse-legend-order-pandas-plot"
   ]
  },
  {
   "cell_type": "code",
   "execution_count": 1,
   "id": "94b8b32e-a1eb-4d42-8b32-60b009eaf680",
   "metadata": {},
   "outputs": [],
   "source": [
    "import pandas as pd\n",
    "import numpy as np\n",
    "import math"
   ]
  },
  {
   "cell_type": "code",
   "execution_count": 25,
   "id": "4389001d-6222-4fc7-bd35-d45a3b3ba94e",
   "metadata": {},
   "outputs": [
    {
     "data": {
      "text/plain": [
       "['a', 'b', 'c']"
      ]
     },
     "execution_count": 25,
     "metadata": {},
     "output_type": "execute_result"
    },
    {
     "data": {
      "image/png": "[encoded data removed]",
      "text/plain": [
       "<Figure size 640x480 with 1 Axes>"
      ]
     },
     "metadata": {},
     "output_type": "display_data"
    }
   ],
   "source": [
    "df = pd.DataFrame({'a': np.random.randn(10) + 1, 'b': np.random.randn(10),\n",
    "                   'c': np.random.randn(10) - 1}, columns=['a', 'b', 'c'])\n",
    "ax = df.plot(kind='barh', stacked=True)\n",
    "handles, labels = ax.get_legend_handles_labels()\n",
    "labels"
   ]
  },
  {
   "cell_type": "code",
   "execution_count": 26,
   "id": "946140db-2766-49a2-a5b2-0b94d7a1a717",
   "metadata": {},
   "outputs": [
    {
     "data": {
      "text/plain": [
       "<matplotlib.legend.Legend at 0x7fe45912a680>"
      ]
     },
     "execution_count": 26,
     "metadata": {},
     "output_type": "execute_result"
    },
    {
     "data": {
      "image/png": "[encoded data removed]",
      "text/plain": [
       "<Figure size 640x480 with 1 Axes>"
      ]
     },
     "metadata": {},
     "output_type": "display_data"
    }
   ],
   "source": [
    "ax = df.plot(kind='barh', stacked=True)\n",
    "handles, labels = ax.get_legend_handles_labels()\n",
    "handles, labels = ax.get_legend_handles_labels()\n",
    "ax.legend(reversed(handles), reversed(labels), loc='upper left')  # reverse both handles and labels"
   ]
  },
  {
   "cell_type": "code",
   "execution_count": 2,
   "id": "2e69478e-6a68-4ec5-811c-84828f5d0285",
   "metadata": {},
   "outputs": [
    {
     "data": {
      "text/plain": [
       "<matplotlib.legend.Legend at 0x7fe4395c4e20>"
      ]
     },
     "execution_count": 2,
     "metadata": {},
     "output_type": "execute_result"
    },
    {
     "data": {
      "image/png": "[encoded data removed]",
      "text/plain": [
       "<Figure size 640x480 with 1 Axes>"
      ]
     },
     "metadata": {},
     "output_type": "display_data"
    }
   ],
   "source": [
    "df = pd.DataFrame({'a': np.random.randn(10) + 1, 'b': np.random.randn(10),\n",
    "                   'c': np.random.randn(10) - 1}, columns=['a', 'b', 'c'])\n",
    "ax = df.plot(kind='bar', stacked=True)\n",
    "handles, labels = ax.get_legend_handles_labels()\n",
    "ax.legend(reversed(handles), reversed(labels), loc='upper left')  # reverse both handles and labels"
   ]
  },
  {
   "cell_type": "code",
   "execution_count": 3,
   "id": "b127ac00-8709-4a71-857c-852eee18cfe6",
   "metadata": {},
   "outputs": [],
   "source": [
    "np.random.seed(2019)\n",
    "\n",
    "# Hard-code the custom ordering of categories\n",
    "categories = ['unsure', '<25%', '25 - 50%', '50 - 75%', '75 - 100%']\n",
    "\n",
    "# Generate some example data\n",
    "# I'm not sure if this matches your input exactly\n",
    "df_orig = pd.DataFrame({'District': np.random.choice(list('ABCDE'), size=100), \n",
    "                        'Portion of income': np.random.choice(categories + [np.nan], size=100)})"
   ]
  },
  {
   "cell_type": "code",
   "execution_count": 4,
   "id": "fd5bf819-538e-4bea-91f1-406de9ec30a3",
   "metadata": {},
   "outputs": [
    {
     "data": {
      "text/html": [
       "<div>\n",
       "<style scoped>\n",
       "    .dataframe tbody tr th:only-of-type {\n",
       "        vertical-align: middle;\n",
       "    }\n",
       "\n",
       "    .dataframe tbody tr th {\n",
       "        vertical-align: top;\n",
       "    }\n",
       "\n",
       "    .dataframe thead th {\n",
       "        text-align: right;\n",
       "    }\n",
       "</style>\n",
       "<table border=\"1\" class=\"dataframe\">\n",
       "  <thead>\n",
       "    <tr style=\"text-align: right;\">\n",
       "      <th></th>\n",
       "      <th>District</th>\n",
       "      <th>Portion of income</th>\n",
       "    </tr>\n",
       "  </thead>\n",
       "  <tbody>\n",
       "    <tr>\n",
       "      <th>0</th>\n",
       "      <td>A</td>\n",
       "      <td>25 - 50%</td>\n",
       "    </tr>\n",
       "    <tr>\n",
       "      <th>1</th>\n",
       "      <td>C</td>\n",
       "      <td>75 - 100%</td>\n",
       "    </tr>\n",
       "    <tr>\n",
       "      <th>2</th>\n",
       "      <td>A</td>\n",
       "      <td>75 - 100%</td>\n",
       "    </tr>\n",
       "    <tr>\n",
       "      <th>3</th>\n",
       "      <td>A</td>\n",
       "      <td>&lt;25%</td>\n",
       "    </tr>\n",
       "    <tr>\n",
       "      <th>4</th>\n",
       "      <td>E</td>\n",
       "      <td>&lt;25%</td>\n",
       "    </tr>\n",
       "  </tbody>\n",
       "</table>\n",
       "</div>"
      ],
      "text/plain": [
       "  District Portion of income\n",
       "0        A          25 - 50%\n",
       "1        C         75 - 100%\n",
       "2        A         75 - 100%\n",
       "3        A              <25%\n",
       "4        E              <25%"
      ]
     },
     "execution_count": 4,
     "metadata": {},
     "output_type": "execute_result"
    }
   ],
   "source": [
    "df_orig.head()"
   ]
  },
  {
   "cell_type": "code",
   "execution_count": 5,
   "id": "57d259ce-4857-4c44-887a-2079654c9afa",
   "metadata": {},
   "outputs": [
    {
     "name": "stdout",
     "output_type": "stream",
     "text": [
      "29\n"
     ]
    },
    {
     "data": {
      "text/plain": [
       "District  Portion of income\n",
       "A         unsure               27.586207\n",
       "          <25%                 20.689655\n",
       "          25 - 50%             17.241379\n",
       "          75 - 100%            17.241379\n",
       "          50 - 75%             10.344828\n",
       "Name: Portion of income, dtype: float64"
      ]
     },
     "execution_count": 5,
     "metadata": {},
     "output_type": "execute_result"
    }
   ],
   "source": [
    "# Unchanged from your code. Note that value_counts() returns a \n",
    "# Series, but you name it df\n",
    "df = df_orig.groupby('District')['Portion of income'].value_counts(dropna=False)\n",
    "df = df.groupby('District').transform(lambda x: 100*x/sum(x))\n",
    "print (len(df.index))\n",
    "df.head()"
   ]
  },
  {
   "cell_type": "code",
   "execution_count": 6,
   "id": "6a881f2d-07f3-4bde-aaf5-82a1bc534c86",
   "metadata": {},
   "outputs": [],
   "source": [
    "# In my example data, np.nan was cast to the string 'nan', so \n",
    "# I have to drop it like this\n",
    "df = df.drop(labels='nan', level=1)"
   ]
  },
  {
   "cell_type": "code",
   "execution_count": 7,
   "id": "7eb88c3d-92e2-473b-8a23-3c2403b1e421",
   "metadata": {},
   "outputs": [
    {
     "data": {
      "text/html": [
       "<div>\n",
       "<style scoped>\n",
       "    .dataframe tbody tr th:only-of-type {\n",
       "        vertical-align: middle;\n",
       "    }\n",
       "\n",
       "    .dataframe tbody tr th {\n",
       "        vertical-align: top;\n",
       "    }\n",
       "\n",
       "    .dataframe thead th {\n",
       "        text-align: right;\n",
       "    }\n",
       "</style>\n",
       "<table border=\"1\" class=\"dataframe\">\n",
       "  <thead>\n",
       "    <tr style=\"text-align: right;\">\n",
       "      <th>Portion of income</th>\n",
       "      <th>unsure</th>\n",
       "      <th>&lt;25%</th>\n",
       "      <th>25 - 50%</th>\n",
       "      <th>75 - 100%</th>\n",
       "      <th>50 - 75%</th>\n",
       "    </tr>\n",
       "    <tr>\n",
       "      <th>District</th>\n",
       "      <th></th>\n",
       "      <th></th>\n",
       "      <th></th>\n",
       "      <th></th>\n",
       "      <th></th>\n",
       "    </tr>\n",
       "  </thead>\n",
       "  <tbody>\n",
       "    <tr>\n",
       "      <th>A</th>\n",
       "      <td>27.586207</td>\n",
       "      <td>20.689655</td>\n",
       "      <td>17.241379</td>\n",
       "      <td>17.241379</td>\n",
       "      <td>10.344828</td>\n",
       "    </tr>\n",
       "    <tr>\n",
       "      <th>B</th>\n",
       "      <td>23.529412</td>\n",
       "      <td>23.529412</td>\n",
       "      <td>11.764706</td>\n",
       "      <td>11.764706</td>\n",
       "      <td>17.647059</td>\n",
       "    </tr>\n",
       "    <tr>\n",
       "      <th>C</th>\n",
       "      <td>19.047619</td>\n",
       "      <td>9.523810</td>\n",
       "      <td>4.761905</td>\n",
       "      <td>28.571429</td>\n",
       "      <td>14.285714</td>\n",
       "    </tr>\n",
       "    <tr>\n",
       "      <th>D</th>\n",
       "      <td>21.428571</td>\n",
       "      <td>NaN</td>\n",
       "      <td>21.428571</td>\n",
       "      <td>7.142857</td>\n",
       "      <td>21.428571</td>\n",
       "    </tr>\n",
       "    <tr>\n",
       "      <th>E</th>\n",
       "      <td>26.315789</td>\n",
       "      <td>10.526316</td>\n",
       "      <td>10.526316</td>\n",
       "      <td>15.789474</td>\n",
       "      <td>15.789474</td>\n",
       "    </tr>\n",
       "  </tbody>\n",
       "</table>\n",
       "</div>"
      ],
      "text/plain": [
       "Portion of income     unsure       <25%   25 - 50%  75 - 100%   50 - 75%\n",
       "District                                                                \n",
       "A                  27.586207  20.689655  17.241379  17.241379  10.344828\n",
       "B                  23.529412  23.529412  11.764706  11.764706  17.647059\n",
       "C                  19.047619   9.523810   4.761905  28.571429  14.285714\n",
       "D                  21.428571        NaN  21.428571   7.142857  21.428571\n",
       "E                  26.315789  10.526316  10.526316  15.789474  15.789474"
      ]
     },
     "execution_count": 7,
     "metadata": {},
     "output_type": "execute_result"
    }
   ],
   "source": [
    "# Instead of plotting right away, unstack the MultiIndex\n",
    "# into columns, then convert those columns to a CategoricalIndex \n",
    "# with custom sort order\n",
    "df = df.unstack()\n",
    "df"
   ]
  },
  {
   "cell_type": "code",
   "execution_count": 8,
   "id": "893bc6c2-d975-4f1f-9642-f80ee6ed4450",
   "metadata": {},
   "outputs": [],
   "source": [
    "df.columns = pd.CategoricalIndex(df.columns.values, \n",
    "                                 ordered=True, \n",
    "                                 categories=categories)"
   ]
  },
  {
   "cell_type": "code",
   "execution_count": 9,
   "id": "bb74d0d0-d097-4326-baa1-d7c52d3152a1",
   "metadata": {},
   "outputs": [
    {
     "data": {
      "text/html": [
       "<div>\n",
       "<style scoped>\n",
       "    .dataframe tbody tr th:only-of-type {\n",
       "        vertical-align: middle;\n",
       "    }\n",
       "\n",
       "    .dataframe tbody tr th {\n",
       "        vertical-align: top;\n",
       "    }\n",
       "\n",
       "    .dataframe thead th {\n",
       "        text-align: right;\n",
       "    }\n",
       "</style>\n",
       "<table border=\"1\" class=\"dataframe\">\n",
       "  <thead>\n",
       "    <tr style=\"text-align: right;\">\n",
       "      <th></th>\n",
       "      <th>unsure</th>\n",
       "      <th>&lt;25%</th>\n",
       "      <th>25 - 50%</th>\n",
       "      <th>75 - 100%</th>\n",
       "      <th>50 - 75%</th>\n",
       "    </tr>\n",
       "    <tr>\n",
       "      <th>District</th>\n",
       "      <th></th>\n",
       "      <th></th>\n",
       "      <th></th>\n",
       "      <th></th>\n",
       "      <th></th>\n",
       "    </tr>\n",
       "  </thead>\n",
       "  <tbody>\n",
       "    <tr>\n",
       "      <th>A</th>\n",
       "      <td>27.586207</td>\n",
       "      <td>20.689655</td>\n",
       "      <td>17.241379</td>\n",
       "      <td>17.241379</td>\n",
       "      <td>10.344828</td>\n",
       "    </tr>\n",
       "    <tr>\n",
       "      <th>B</th>\n",
       "      <td>23.529412</td>\n",
       "      <td>23.529412</td>\n",
       "      <td>11.764706</td>\n",
       "      <td>11.764706</td>\n",
       "      <td>17.647059</td>\n",
       "    </tr>\n",
       "    <tr>\n",
       "      <th>C</th>\n",
       "      <td>19.047619</td>\n",
       "      <td>9.523810</td>\n",
       "      <td>4.761905</td>\n",
       "      <td>28.571429</td>\n",
       "      <td>14.285714</td>\n",
       "    </tr>\n",
       "    <tr>\n",
       "      <th>D</th>\n",
       "      <td>21.428571</td>\n",
       "      <td>NaN</td>\n",
       "      <td>21.428571</td>\n",
       "      <td>7.142857</td>\n",
       "      <td>21.428571</td>\n",
       "    </tr>\n",
       "    <tr>\n",
       "      <th>E</th>\n",
       "      <td>26.315789</td>\n",
       "      <td>10.526316</td>\n",
       "      <td>10.526316</td>\n",
       "      <td>15.789474</td>\n",
       "      <td>15.789474</td>\n",
       "    </tr>\n",
       "  </tbody>\n",
       "</table>\n",
       "</div>"
      ],
      "text/plain": [
       "             unsure       <25%   25 - 50%  75 - 100%   50 - 75%\n",
       "District                                                       \n",
       "A         27.586207  20.689655  17.241379  17.241379  10.344828\n",
       "B         23.529412  23.529412  11.764706  11.764706  17.647059\n",
       "C         19.047619   9.523810   4.761905  28.571429  14.285714\n",
       "D         21.428571        NaN  21.428571   7.142857  21.428571\n",
       "E         26.315789  10.526316  10.526316  15.789474  15.789474"
      ]
     },
     "execution_count": 9,
     "metadata": {},
     "output_type": "execute_result"
    }
   ],
   "source": [
    "df.head()"
   ]
  },
  {
   "cell_type": "code",
   "execution_count": 10,
   "id": "e876a678-c091-4616-a06c-b538c02e42e1",
   "metadata": {},
   "outputs": [],
   "source": [
    "# Sort the columns (axis=1) by the new categorical ordering\n",
    "df = df.sort_index(axis=1)"
   ]
  },
  {
   "cell_type": "markdown",
   "id": "1d26234f-8e95-496c-9008-d3e1c25b694c",
   "metadata": {},
   "source": [
    "# Income Level sort for stacked Bar -- see 75 is first?\n",
    "  * https://stackoverflow.com/questions/54874269/ordering-of-elements-in-pandas-stacked-bar-chart"
   ]
  },
  {
   "cell_type": "code",
   "execution_count": 11,
   "id": "6b6a5ee7-ba70-40cd-a703-ea490d35254d",
   "metadata": {},
   "outputs": [
    {
     "data": {
      "text/plain": [
       "<matplotlib.legend.Legend at 0x7fe439b10dc0>"
      ]
     },
     "execution_count": 11,
     "metadata": {},
     "output_type": "execute_result"
    },
    {
     "data": {
      "image/png": "[encoded data removed]",
      "text/plain": [
       "<Figure size 640x480 with 1 Axes>"
      ]
     },
     "metadata": {},
     "output_type": "display_data"
    }
   ],
   "source": [
    "# Plot\n",
    "ax = df.plot.bar(stacked=True, rot=0)\n",
    "ax.set_ylim(ymax=100)\n",
    "\n",
    "# Matplotlib idiom to reverse legend entries \n",
    "handles, labels = ax.get_legend_handles_labels()\n",
    "ax.legend(reversed(handles), reversed(labels))"
   ]
  },
  {
   "cell_type": "code",
   "execution_count": 12,
   "id": "97886e28-eb06-4557-81ad-c8fbd217f00d",
   "metadata": {},
   "outputs": [],
   "source": [
    "import matplotlib.pyplot as plt\n",
    "\n",
    "SMALL_SIZE = 8\n",
    "MEDIUM_SIZE = 10\n",
    "BIGGER_SIZE = 12\n",
    "\n",
    "plt.rc('font', size=SMALL_SIZE)          # controls default text sizes\n",
    "plt.rc('axes', titlesize=SMALL_SIZE)     # fontsize of the axes title\n",
    "plt.rc('axes', labelsize=MEDIUM_SIZE)    # fontsize of the x and y labels\n",
    "plt.rc('xtick', labelsize=SMALL_SIZE)    # fontsize of the tick labels\n",
    "plt.rc('ytick', labelsize=SMALL_SIZE)    # fontsize of the tick labels\n",
    "plt.rc('legend', fontsize=SMALL_SIZE)    # legend fontsize\n",
    "plt.rc('figure', titlesize=BIGGER_SIZE)  # fontsize of the figure title"
   ]
  },
  {
   "cell_type": "code",
   "execution_count": 14,
   "id": "728287a4-7e60-41b1-be36-7f710c07628f",
   "metadata": {},
   "outputs": [
    {
     "data": {
      "image/png": "[encoded data removed]",
      "text/plain": [
       "<Figure size 640x480 with 1 Axes>"
      ]
     },
     "metadata": {},
     "output_type": "display_data"
    }
   ],
   "source": [
    "ax = plt.subplot(111, xlabel='x', ylabel='y', title='title')\n",
    "for item in ([ax.title, ax.xaxis.label, ax.yaxis.label] +\n",
    "             ax.get_xticklabels() + ax.get_yticklabels()):\n",
    "    item.set_fontsize(20)"
   ]
  },
  {
   "cell_type": "markdown",
   "id": "17d74355-27d5-4fc6-af20-8fc3d32cefe1",
   "metadata": {},
   "source": [
    "# Sort a boxplot by Median (or Mean)\n",
    "  * https://stackoverflow.com/questions/21912634/how-can-i-sort-a-boxplot-in-pandas-by-the-median-values"
   ]
  },
  {
   "cell_type": "code",
   "execution_count": 15,
   "id": "69050cc7-af91-400e-a141-f6b39645182d",
   "metadata": {},
   "outputs": [
    {
     "data": {
      "image/png": "[encoded data removed]",
      "text/plain": [
       "<Figure size 640x480 with 1 Axes>"
      ]
     },
     "metadata": {},
     "output_type": "display_data"
    }
   ],
   "source": [
    "import random\n",
    "import matplotlib.pyplot as plt\n",
    "\n",
    "n = 100\n",
    "# this is probably a strange way to generate random data; please feel free to correct it\n",
    "df = pd.DataFrame({\"X\": [random.choice([\"A\",\"B\",\"C\"]) for i in range(n)], \n",
    "                   \"Y\": [random.choice([\"a\",\"b\",\"c\"]) for i in range(n)],\n",
    "                   \"Z\": [random.gauss(0,1) for i in range(n)]})\n",
    "grouped = df.groupby([\"X\", \"Y\"])\n",
    "\n",
    "df2 = pd.DataFrame({col:vals['Z'] for col,vals in grouped})\n",
    "\n",
    "meds = df2.median()\n",
    "meds.sort_values(ascending=False, inplace=True)\n",
    "df2 = df2[meds.index]\n",
    "df2.boxplot()\n",
    "\n",
    "plt.show()"
   ]
  },
  {
   "cell_type": "markdown",
   "id": "f1eb9d06-9208-4152-b43a-17ab34d076de",
   "metadata": {},
   "source": [
    "# Change font size of existing plot\n",
    "  * https://stackoverflow.com/questions/3899980/how-to-change-the-font-size-on-a-matplotlib-plot"
   ]
  },
  {
   "cell_type": "code",
   "execution_count": 16,
   "id": "0ad01856-1063-495b-9047-0b81a12b448e",
   "metadata": {},
   "outputs": [],
   "source": [
    "#import matplotlib.pyplot as plt\n",
    "\n",
    "SMALL_SIZE = 8\n",
    "MEDIUM_SIZE = 10\n",
    "BIGGER_SIZE = 12\n",
    "\n",
    "plt.rc('font', size=SMALL_SIZE)          # controls default text sizes\n",
    "plt.rc('axes', titlesize=SMALL_SIZE)     # fontsize of the axes title\n",
    "plt.rc('axes', labelsize=MEDIUM_SIZE)    # fontsize of the x and y labels\n",
    "plt.rc('xtick', labelsize=SMALL_SIZE)    # fontsize of the tick labels\n",
    "plt.rc('ytick', labelsize=SMALL_SIZE)    # fontsize of the tick labels\n",
    "plt.rc('legend', fontsize=SMALL_SIZE)    # legend fontsize\n",
    "plt.rc('figure', titlesize=BIGGER_SIZE)  # fontsize of the figure title"
   ]
  },
  {
   "cell_type": "markdown",
   "id": "bde4fdb1-dedb-4923-8a14-b8a09e76c96d",
   "metadata": {},
   "source": [
    "# Time delta to hours or days\n",
    "  * https://stackoverflow.com/questions/22923775/calculate-time-difference-between-two-pandas-columns-in-hours-and-minutes"
   ]
  },
  {
   "cell_type": "code",
   "execution_count": 18,
   "id": "6f17e1a4-8de4-4c91-aa96-97d96865dda6",
   "metadata": {},
   "outputs": [
    {
     "data": {
      "text/plain": [
       "0    58.0\n",
       "1     3.0\n",
       "2     8.0\n",
       "dtype: float64"
      ]
     },
     "execution_count": 18,
     "metadata": {},
     "output_type": "execute_result"
    }
   ],
   "source": [
    "df = pd.DataFrame(columns=['to','fr','ans'])\n",
    "df.to = [pd.Timestamp('2014-01-24 13:03:12.050000'), pd.Timestamp('2014-01-27 11:57:18.240000'), pd.Timestamp('2014-01-23 10:07:47.660000')]\n",
    "df.fr = [pd.Timestamp('2014-01-26 23:41:21.870000'), pd.Timestamp('2014-01-27 15:38:22.540000'), pd.Timestamp('2014-01-23 18:50:41.420000')]\n",
    "(df.fr-df.to).astype('timedelta64[h]')"
   ]
  },
  {
   "cell_type": "code",
   "execution_count": null,
   "id": "ac00de10-e65c-44ad-b472-fd185030d534",
   "metadata": {},
   "outputs": [],
   "source": []
  },
  {
   "cell_type": "code",
   "execution_count": 19,
   "id": "85d9619b-6289-4541-82f6-ba935d5302ec",
   "metadata": {},
   "outputs": [
    {
     "data": {
      "image/png": "[encoded data removed]",
      "text/plain": [
       "<Figure size 640x480 with 1 Axes>"
      ]
     },
     "metadata": {},
     "output_type": "display_data"
    }
   ],
   "source": [
    "import matplotlib.pyplot as plt\n",
    "\n",
    "ax = plt.subplot(111, xlabel='x', ylabel='y', title='title')\n",
    "for item in ([ax.title, ax.xaxis.label, ax.yaxis.label] +\n",
    "             ax.get_xticklabels() + ax.get_yticklabels()):\n",
    "    item.set_fontsize(20)"
   ]
  },
  {
   "cell_type": "markdown",
   "id": "dfeaeb4d-f09b-41a6-b92a-f6683a867a95",
   "metadata": {},
   "source": [
    "## From:\n",
    "  * https://stackoverflow.com/questions/64034882/change-order-of-plot-in-stacked-bar-plot-pandas"
   ]
  },
  {
   "cell_type": "code",
   "execution_count": 39,
   "id": "92a16435-a0b7-4875-b972-320b67552b9f",
   "metadata": {},
   "outputs": [
    {
     "name": "stdout",
     "output_type": "stream",
     "text": [
      "20\n"
     ]
    },
    {
     "data": {
      "text/html": [
       "<div>\n",
       "<style scoped>\n",
       "    .dataframe tbody tr th:only-of-type {\n",
       "        vertical-align: middle;\n",
       "    }\n",
       "\n",
       "    .dataframe tbody tr th {\n",
       "        vertical-align: top;\n",
       "    }\n",
       "\n",
       "    .dataframe thead th {\n",
       "        text-align: right;\n",
       "    }\n",
       "</style>\n",
       "<table border=\"1\" class=\"dataframe\">\n",
       "  <thead>\n",
       "    <tr style=\"text-align: right;\">\n",
       "      <th></th>\n",
       "      <th>counts</th>\n",
       "      <th>Category</th>\n",
       "      <th>Decade</th>\n",
       "    </tr>\n",
       "  </thead>\n",
       "  <tbody>\n",
       "    <tr>\n",
       "      <th>0</th>\n",
       "      <td>7</td>\n",
       "      <td>5</td>\n",
       "      <td>80s</td>\n",
       "    </tr>\n",
       "    <tr>\n",
       "      <th>1</th>\n",
       "      <td>13</td>\n",
       "      <td>5</td>\n",
       "      <td>90s</td>\n",
       "    </tr>\n",
       "    <tr>\n",
       "      <th>2</th>\n",
       "      <td>10</td>\n",
       "      <td>3</td>\n",
       "      <td>10s</td>\n",
       "    </tr>\n",
       "    <tr>\n",
       "      <th>3</th>\n",
       "      <td>11</td>\n",
       "      <td>2</td>\n",
       "      <td>80s</td>\n",
       "    </tr>\n",
       "    <tr>\n",
       "      <th>4</th>\n",
       "      <td>7</td>\n",
       "      <td>9</td>\n",
       "      <td>10s</td>\n",
       "    </tr>\n",
       "  </tbody>\n",
       "</table>\n",
       "</div>"
      ],
      "text/plain": [
       "   counts  Category Decade\n",
       "0       7         5    80s\n",
       "1      13         5    90s\n",
       "2      10         3    10s\n",
       "3      11         2    80s\n",
       "4       7         9    10s"
      ]
     },
     "execution_count": 39,
     "metadata": {},
     "output_type": "execute_result"
    }
   ],
   "source": [
    "n= 20\n",
    "df = pd.DataFrame({\"counts\": np.random.randint(5, 15, n),\n",
    "                   \"Category\": np.random.randint(1, 10, n),\n",
    "                   \"Decade\": [random.choice([\"80s\",\"90s\",\"00s\", \"10s\"]) for i in range(n)]})\n",
    "print (len(df.index))\n",
    "df.head()"
   ]
  },
  {
   "cell_type": "markdown",
   "id": "2e142031-3c7e-435b-9cd8-2f0b80d9f60b",
   "metadata": {},
   "source": [
    "# Notice Wrong Alpha/Chronological order for bar chart"
   ]
  },
  {
   "cell_type": "code",
   "execution_count": 41,
   "id": "1a0bcf74-5920-45c1-be35-a24106c76d70",
   "metadata": {},
   "outputs": [
    {
     "data": {
      "text/plain": [
       "<Axes: xlabel='Decade'>"
      ]
     },
     "execution_count": 41,
     "metadata": {},
     "output_type": "execute_result"
    },
    {
     "data": {
      "image/png": "[encoded data removed]",
      "text/plain": [
       "<Figure size 640x480 with 1 Axes>"
      ]
     },
     "metadata": {},
     "output_type": "display_data"
    }
   ],
   "source": [
    "df.pivot_table('counts', 'Decade', 'Category', 'first').plot.bar(stacked=True)"
   ]
  },
  {
   "cell_type": "code",
   "execution_count": 44,
   "id": "485e8909-d9f0-44ea-a3c5-379a3d6f4d07",
   "metadata": {},
   "outputs": [
    {
     "data": {
      "text/plain": [
       "<Axes: xlabel='Decade'>"
      ]
     },
     "execution_count": 44,
     "metadata": {},
     "output_type": "execute_result"
    },
    {
     "data": {
      "image/png": "[encoded data removed]",
      "text/plain": [
       "<Figure size 400x300 with 1 Axes>"
      ]
     },
     "metadata": {},
     "output_type": "display_data"
    }
   ],
   "source": [
    "(df.pivot_table('counts', 'Decade', 'Category', 'first')\\\n",
    ".reindex(['80s', '90s', '00s', '10s'])\\\n",
    ".plot.bar(stacked=True, figsize=(4,3)))"
   ]
  },
  {
   "cell_type": "code",
   "execution_count": 49,
   "id": "456fa5e9-f1e5-4c69-90c9-fc4a99f99592",
   "metadata": {},
   "outputs": [],
   "source": [
    "import pandas as pd\n",
    "\n",
    "my_cat = pd.CategoricalDtype(categories=['80s', '90s', '00s', '10s'], ordered=True)\n",
    "df['Decade'] = df['Decade'].astype(my_cat)"
   ]
  },
  {
   "cell_type": "code",
   "execution_count": 50,
   "id": "917b38ad-975c-4559-9063-50e339197d2f",
   "metadata": {},
   "outputs": [
    {
     "data": {
      "text/plain": [
       "<Axes: ylabel='Decade'>"
      ]
     },
     "execution_count": 50,
     "metadata": {},
     "output_type": "execute_result"
    },
    {
     "data": {
      "image/png": "[encoded data removed]",
      "text/plain": [
       "<Figure size 640x480 with 1 Axes>"
      ]
     },
     "metadata": {},
     "output_type": "display_data"
    }
   ],
   "source": [
    "df.pivot_table('counts', 'Decade', 'Category', 'first').plot.barh(stacked=True)"
   ]
  },
  {
   "cell_type": "markdown",
   "id": "05bb6ade-9a71-42af-a5bc-498d769a21c6",
   "metadata": {},
   "source": [
    "## bars sorted by sum then displayed\n",
    "  * https://stackoverflow.com/questions/40745875/pandas-stacked-bar-chart-with-sorted-values"
   ]
  },
  {
   "cell_type": "code",
   "execution_count": 64,
   "id": "ad956abc-d6e8-4287-b0bc-9981c6964c3c",
   "metadata": {},
   "outputs": [
    {
     "data": {
      "text/plain": [
       "qux    47\n",
       "foo    34\n",
       "baz    32\n",
       "bar    30\n",
       "dtype: int64"
      ]
     },
     "execution_count": 64,
     "metadata": {},
     "output_type": "execute_result"
    }
   ],
   "source": [
    "import pandas as pd\n",
    "import numpy as np\n",
    "\n",
    "arrays = [np.array(['bar', 'bar', 'baz', 'baz', 'foo', 'foo', 'qux', 'qux', 'qux']),\n",
    "          np.array(['one', 'two', 'one', 'two', 'one', 'two', 'one', 'two', 'three'])]\n",
    "\n",
    "s = pd.Series([10,20,10,22,10,24,10,26, 11], index=arrays)\n",
    "s_sort = s.groupby(level=[0]).sum().sort_values(ascending=False)\n",
    "s_sort"
   ]
  },
  {
   "cell_type": "code",
   "execution_count": 65,
   "id": "87c236fc-697b-4c57-a3eb-0deaf0fca100",
   "metadata": {},
   "outputs": [
    {
     "data": {
      "text/plain": [
       "<Axes: >"
      ]
     },
     "execution_count": 65,
     "metadata": {},
     "output_type": "execute_result"
    },
    {
     "data": {
      "image/png": "[encoded data removed]",
      "text/plain": [
       "<Figure size 640x480 with 1 Axes>"
      ]
     },
     "metadata": {},
     "output_type": "display_data"
    }
   ],
   "source": [
    "cmp = plt.colormaps['jet']\n",
    "s.reindex(index=s_sort.index, level=0).unstack().plot.bar(stacked=True, cmap=cmp)"
   ]
  },
  {
   "cell_type": "markdown",
   "id": "673a7909-f9c0-4670-acda-8c334efec574",
   "metadata": {},
   "source": [
    "# Order the individual boxes of a STACKED BAR chart - note boxes order 2018, 2019, 2020\n",
    "  * from : https://www.shanelynn.ie/bar-plots-in-python-using-pandas-dataframes/"
   ]
  },
  {
   "cell_type": "code",
   "execution_count": 77,
   "id": "746c8bf8-febf-4339-b33f-031ef0a32e0b",
   "metadata": {},
   "outputs": [
    {
     "data": {
      "text/plain": [
       "Text(0, 0.5, 'Pies Consumed')"
      ]
     },
     "execution_count": 77,
     "metadata": {},
     "output_type": "execute_result"
    },
    {
     "data": {
      "image/png": "[encoded data removed]",
      "text/plain": [
       "<Figure size 640x480 with 1 Axes>"
      ]
     },
     "metadata": {},
     "output_type": "display_data"
    }
   ],
   "source": [
    "plotdata = pd.DataFrame({\n",
    "    \"pies_2018\":[40, 12, 10, 26, 36],\n",
    "    \"pies_2019\":[19, 8, 30, 21, 38],\n",
    "    \"pies_2020\":[10, 10, 42, 17, 37]\n",
    "    }, \n",
    "    index=[\"Dad\", \"Mam\", \"Bro\", \"Sis\", \"Me\"]\n",
    ")\n",
    "plotdata.plot(kind=\"bar\")\n",
    "plt.title(\"Mince Pie Consumption Study\")\n",
    "plt.xlabel(\"Family Member\")\n",
    "plt.ylabel(\"Pies Consumed\")"
   ]
  },
  {
   "cell_type": "code",
   "execution_count": 78,
   "id": "ee3d4f9d-bd15-4f9b-b1e4-fd0ef1e95e24",
   "metadata": {},
   "outputs": [
    {
     "data": {
      "text/html": [
       "<div>\n",
       "<style scoped>\n",
       "    .dataframe tbody tr th:only-of-type {\n",
       "        vertical-align: middle;\n",
       "    }\n",
       "\n",
       "    .dataframe tbody tr th {\n",
       "        vertical-align: top;\n",
       "    }\n",
       "\n",
       "    .dataframe thead th {\n",
       "        text-align: right;\n",
       "    }\n",
       "</style>\n",
       "<table border=\"1\" class=\"dataframe\">\n",
       "  <thead>\n",
       "    <tr style=\"text-align: right;\">\n",
       "      <th></th>\n",
       "      <th>pies_2018</th>\n",
       "      <th>pies_2019</th>\n",
       "      <th>pies_2020</th>\n",
       "    </tr>\n",
       "  </thead>\n",
       "  <tbody>\n",
       "    <tr>\n",
       "      <th>Dad</th>\n",
       "      <td>40</td>\n",
       "      <td>19</td>\n",
       "      <td>10</td>\n",
       "    </tr>\n",
       "    <tr>\n",
       "      <th>Mam</th>\n",
       "      <td>12</td>\n",
       "      <td>8</td>\n",
       "      <td>10</td>\n",
       "    </tr>\n",
       "    <tr>\n",
       "      <th>Bro</th>\n",
       "      <td>10</td>\n",
       "      <td>30</td>\n",
       "      <td>42</td>\n",
       "    </tr>\n",
       "    <tr>\n",
       "      <th>Sis</th>\n",
       "      <td>26</td>\n",
       "      <td>21</td>\n",
       "      <td>17</td>\n",
       "    </tr>\n",
       "    <tr>\n",
       "      <th>Me</th>\n",
       "      <td>36</td>\n",
       "      <td>38</td>\n",
       "      <td>37</td>\n",
       "    </tr>\n",
       "  </tbody>\n",
       "</table>\n",
       "</div>"
      ],
      "text/plain": [
       "     pies_2018  pies_2019  pies_2020\n",
       "Dad         40         19         10\n",
       "Mam         12          8         10\n",
       "Bro         10         30         42\n",
       "Sis         26         21         17\n",
       "Me          36         38         37"
      ]
     },
     "execution_count": 78,
     "metadata": {},
     "output_type": "execute_result"
    }
   ],
   "source": [
    "plotdata"
   ]
  },
  {
   "cell_type": "markdown",
   "id": "caa53afa-832a-4bcb-b119-9892e3ae5675",
   "metadata": {},
   "source": [
    "# See Order of boxes - alpha order from 2018, 2019 to 2020"
   ]
  },
  {
   "cell_type": "code",
   "execution_count": 70,
   "id": "cec510c2-dcd2-4693-9dcd-55527695c425",
   "metadata": {},
   "outputs": [
    {
     "data": {
      "text/plain": [
       "Text(0, 0.5, 'Pies Consumed')"
      ]
     },
     "execution_count": 70,
     "metadata": {},
     "output_type": "execute_result"
    },
    {
     "data": {
      "image/png": "[encoded data removed]",
      "text/plain": [
       "<Figure size 640x480 with 1 Axes>"
      ]
     },
     "metadata": {},
     "output_type": "display_data"
    }
   ],
   "source": [
    "# Adding the stacked=True option to plot() \n",
    "# creates a stacked bar plot\n",
    "plotdata.plot(kind='bar', stacked=True)\n",
    "plt.title(\"Total Pie Consumption\")\n",
    "plt.xlabel(\"Family Member\")\n",
    "plt.ylabel(\"Pies Consumed\")"
   ]
  },
  {
   "cell_type": "markdown",
   "id": "a2650c73-e373-489e-9112-673a87b4d3a9",
   "metadata": {},
   "source": [
    "# CHANGE Order of boxes by re-ordering the input"
   ]
  },
  {
   "cell_type": "code",
   "execution_count": 72,
   "id": "9adcb931-040e-48ca-a873-1ae9dd52af6d",
   "metadata": {},
   "outputs": [
    {
     "data": {
      "text/plain": [
       "Text(0, 0.5, 'Pies Consumed')"
      ]
     },
     "execution_count": 72,
     "metadata": {},
     "output_type": "execute_result"
    },
    {
     "data": {
      "image/png": "[encoded data removed]",
      "text/plain": [
       "<Figure size 640x480 with 1 Axes>"
      ]
     },
     "metadata": {},
     "output_type": "display_data"
    }
   ],
   "source": [
    "# Choose columns in the order to \"stack\" them\n",
    "plotdata[[\"pies_2020\", \"pies_2018\", \"pies_2019\"]].plot(kind=\"bar\", stacked=True)\n",
    "plt.title(\"Mince Pie Consumption Totals\")\n",
    "plt.xlabel(\"Family Member\")\n",
    "plt.ylabel(\"Pies Consumed\")"
   ]
  },
  {
   "cell_type": "markdown",
   "id": "3e101cda-2135-46b1-a687-73fa4d64abae",
   "metadata": {},
   "source": [
    "# Reorder a pivot table column from 1,2,3 to 3,1,2"
   ]
  },
  {
   "cell_type": "code",
   "execution_count": 113,
   "id": "f840e9e8-8dcd-4df5-a07e-480fb27f34d2",
   "metadata": {},
   "outputs": [
    {
     "name": "stdout",
     "output_type": "stream",
     "text": [
      "20\n"
     ]
    },
    {
     "data": {
      "text/html": [
       "<div>\n",
       "<style scoped>\n",
       "    .dataframe tbody tr th:only-of-type {\n",
       "        vertical-align: middle;\n",
       "    }\n",
       "\n",
       "    .dataframe tbody tr th {\n",
       "        vertical-align: top;\n",
       "    }\n",
       "\n",
       "    .dataframe thead th {\n",
       "        text-align: right;\n",
       "    }\n",
       "</style>\n",
       "<table border=\"1\" class=\"dataframe\">\n",
       "  <thead>\n",
       "    <tr style=\"text-align: right;\">\n",
       "      <th></th>\n",
       "      <th>counts</th>\n",
       "      <th>Category</th>\n",
       "      <th>Decade</th>\n",
       "    </tr>\n",
       "  </thead>\n",
       "  <tbody>\n",
       "    <tr>\n",
       "      <th>0</th>\n",
       "      <td>10</td>\n",
       "      <td>2</td>\n",
       "      <td>10s</td>\n",
       "    </tr>\n",
       "    <tr>\n",
       "      <th>1</th>\n",
       "      <td>6</td>\n",
       "      <td>2</td>\n",
       "      <td>90s</td>\n",
       "    </tr>\n",
       "    <tr>\n",
       "      <th>2</th>\n",
       "      <td>11</td>\n",
       "      <td>3</td>\n",
       "      <td>80s</td>\n",
       "    </tr>\n",
       "    <tr>\n",
       "      <th>3</th>\n",
       "      <td>14</td>\n",
       "      <td>2</td>\n",
       "      <td>00s</td>\n",
       "    </tr>\n",
       "    <tr>\n",
       "      <th>4</th>\n",
       "      <td>9</td>\n",
       "      <td>3</td>\n",
       "      <td>10s</td>\n",
       "    </tr>\n",
       "  </tbody>\n",
       "</table>\n",
       "</div>"
      ],
      "text/plain": [
       "   counts  Category Decade\n",
       "0      10         2    10s\n",
       "1       6         2    90s\n",
       "2      11         3    80s\n",
       "3      14         2    00s\n",
       "4       9         3    10s"
      ]
     },
     "execution_count": 113,
     "metadata": {},
     "output_type": "execute_result"
    }
   ],
   "source": [
    "n= 20\n",
    "df = pd.DataFrame({\"counts\": np.random.randint(5, 15, n),\n",
    "                   \"Category\": np.random.randint(1, 4, n),\n",
    "                   \"Decade\": [random.choice([\"80s\",\"90s\",\"00s\", \"10s\"]) for i in range(n)]})\n",
    "print (len(df.index))\n",
    "df.head()"
   ]
  },
  {
   "cell_type": "code",
   "execution_count": 114,
   "id": "fb7e871b-d5f0-41c9-b1d2-cc50c58f78b4",
   "metadata": {},
   "outputs": [],
   "source": [
    "#df.pivot(index='Decade', columns='Category', values='counts')"
   ]
  },
  {
   "cell_type": "code",
   "execution_count": 115,
   "id": "dc424214-b9de-4a85-8b04-87c2a0a2389c",
   "metadata": {},
   "outputs": [],
   "source": [
    "#df['Category'] = pd.Categorical(df['Category'], [\"2\", \"1\", \"4\", \"3\"])"
   ]
  },
  {
   "cell_type": "code",
   "execution_count": 116,
   "id": "24f12418-2acb-4b47-9093-dbba2f2251a1",
   "metadata": {},
   "outputs": [
    {
     "data": {
      "text/plain": [
       "[1, 2, 3]"
      ]
     },
     "execution_count": 116,
     "metadata": {},
     "output_type": "execute_result"
    }
   ],
   "source": [
    "colList = df.pivot_table('counts', 'Decade', 'Category', 'first').columns.tolist()\n",
    "colList"
   ]
  },
  {
   "cell_type": "code",
   "execution_count": 117,
   "id": "42c69590-600b-4709-9f2d-3a489d8a5f29",
   "metadata": {},
   "outputs": [
    {
     "data": {
      "text/plain": [
       "[3, 1, 2]"
      ]
     },
     "execution_count": 117,
     "metadata": {},
     "output_type": "execute_result"
    }
   ],
   "source": [
    "colList = colList[-1:] + colList[:-1]\n",
    "colList"
   ]
  },
  {
   "cell_type": "code",
   "execution_count": 118,
   "id": "edbd7468-6b00-4765-a688-53c696c8e7b1",
   "metadata": {},
   "outputs": [],
   "source": [
    "pivtab = df.pivot_table('counts', 'Decade', 'Category', 'first')\n",
    "pivtab = pivtab[colList]"
   ]
  },
  {
   "cell_type": "markdown",
   "id": "44ec4dc4-195b-4bf4-b422-d35c502d8275",
   "metadata": {},
   "source": [
    "# See 3, 1, 2 order of BOXES (not BARS)"
   ]
  },
  {
   "cell_type": "code",
   "execution_count": 121,
   "id": "2d51fcce-0e75-47bd-b685-b4be6aa92fb0",
   "metadata": {},
   "outputs": [
    {
     "data": {
      "text/plain": [
       "<Axes: ylabel='Decade'>"
      ]
     },
     "execution_count": 121,
     "metadata": {},
     "output_type": "execute_result"
    },
    {
     "data": {
      "image/png": "[encoded data removed]",
      "text/plain": [
       "<Figure size 640x480 with 1 Axes>"
      ]
     },
     "metadata": {},
     "output_type": "display_data"
    }
   ],
   "source": [
    "pivtab.plot.barh(stacked=True)"
   ]
  },
  {
   "cell_type": "code",
   "execution_count": 122,
   "id": "4b3fc74e-cb29-4f14-a0de-9732d4d6a49a",
   "metadata": {},
   "outputs": [
    {
     "data": {
      "text/plain": [
       "<Axes: ylabel='Decade'>"
      ]
     },
     "execution_count": 122,
     "metadata": {},
     "output_type": "execute_result"
    },
    {
     "data": {
      "image/png": "[encoded data removed]",
      "text/plain": [
       "<Figure size 640x480 with 1 Axes>"
      ]
     },
     "metadata": {},
     "output_type": "display_data"
    }
   ],
   "source": [
    "df.pivot_table('counts', 'Decade', 'Category', 'first').plot.barh(stacked=True)"
   ]
  },
  {
   "cell_type": "code",
   "execution_count": 91,
   "id": "09708763-17e8-4cf7-ad94-01852c2d93c6",
   "metadata": {},
   "outputs": [
    {
     "data": {
      "text/html": [
       "<div>\n",
       "<style scoped>\n",
       "    .dataframe tbody tr th:only-of-type {\n",
       "        vertical-align: middle;\n",
       "    }\n",
       "\n",
       "    .dataframe tbody tr th {\n",
       "        vertical-align: top;\n",
       "    }\n",
       "\n",
       "    .dataframe thead th {\n",
       "        text-align: right;\n",
       "    }\n",
       "</style>\n",
       "<table border=\"1\" class=\"dataframe\">\n",
       "  <thead>\n",
       "    <tr style=\"text-align: right;\">\n",
       "      <th></th>\n",
       "      <th>counts</th>\n",
       "      <th>Category</th>\n",
       "      <th>Decade</th>\n",
       "    </tr>\n",
       "  </thead>\n",
       "  <tbody>\n",
       "    <tr>\n",
       "      <th>9</th>\n",
       "      <td>6</td>\n",
       "      <td>2</td>\n",
       "      <td>90s</td>\n",
       "    </tr>\n",
       "    <tr>\n",
       "      <th>16</th>\n",
       "      <td>8</td>\n",
       "      <td>2</td>\n",
       "      <td>80s</td>\n",
       "    </tr>\n",
       "    <tr>\n",
       "      <th>13</th>\n",
       "      <td>14</td>\n",
       "      <td>2</td>\n",
       "      <td>90s</td>\n",
       "    </tr>\n",
       "    <tr>\n",
       "      <th>4</th>\n",
       "      <td>8</td>\n",
       "      <td>2</td>\n",
       "      <td>10s</td>\n",
       "    </tr>\n",
       "    <tr>\n",
       "      <th>7</th>\n",
       "      <td>6</td>\n",
       "      <td>2</td>\n",
       "      <td>10s</td>\n",
       "    </tr>\n",
       "  </tbody>\n",
       "</table>\n",
       "</div>"
      ],
      "text/plain": [
       "    counts  Category Decade\n",
       "9        6         2    90s\n",
       "16       8         2    80s\n",
       "13      14         2    90s\n",
       "4        8         2    10s\n",
       "7        6         2    10s"
      ]
     },
     "execution_count": 91,
     "metadata": {},
     "output_type": "execute_result"
    }
   ],
   "source": [
    "custom_dict = {2: 0, 1: 1, 3: 3} \n",
    "df = df.sort_values(by=['Category'], key=lambda x: x.map(custom_dict))\n",
    "df.head()"
   ]
  },
  {
   "cell_type": "code",
   "execution_count": 93,
   "id": "8e5b3bb7-942d-4216-a85d-47c4d06f50a7",
   "metadata": {},
   "outputs": [
    {
     "data": {
      "text/plain": [
       "<Axes: ylabel='Decade'>"
      ]
     },
     "execution_count": 93,
     "metadata": {},
     "output_type": "execute_result"
    },
    {
     "data": {
      "image/png": "[encoded data removed]",
      "text/plain": [
       "<Figure size 640x480 with 1 Axes>"
      ]
     },
     "metadata": {},
     "output_type": "display_data"
    }
   ],
   "source": [
    "df.sort_values(by=['Category'], key=lambda x: x.map(custom_dict)).pivot_table('counts', 'Decade', 'Category', 'first').plot.barh(stacked=True)"
   ]
  },
  {
   "cell_type": "code",
   "execution_count": 88,
   "id": "401fd7c9-43e1-4a7e-b553-ccc7d8bbb6e9",
   "metadata": {},
   "outputs": [
    {
     "data": {
      "text/html": [
       "<div>\n",
       "<style scoped>\n",
       "    .dataframe tbody tr th:only-of-type {\n",
       "        vertical-align: middle;\n",
       "    }\n",
       "\n",
       "    .dataframe tbody tr th {\n",
       "        vertical-align: top;\n",
       "    }\n",
       "\n",
       "    .dataframe thead th {\n",
       "        text-align: right;\n",
       "    }\n",
       "</style>\n",
       "<table border=\"1\" class=\"dataframe\">\n",
       "  <thead>\n",
       "    <tr style=\"text-align: right;\">\n",
       "      <th></th>\n",
       "      <th>counts</th>\n",
       "      <th>Category</th>\n",
       "      <th>Decade</th>\n",
       "    </tr>\n",
       "  </thead>\n",
       "  <tbody>\n",
       "    <tr>\n",
       "      <th>0</th>\n",
       "      <td>13</td>\n",
       "      <td>3</td>\n",
       "      <td>00s</td>\n",
       "    </tr>\n",
       "    <tr>\n",
       "      <th>1</th>\n",
       "      <td>10</td>\n",
       "      <td>1</td>\n",
       "      <td>10s</td>\n",
       "    </tr>\n",
       "    <tr>\n",
       "      <th>2</th>\n",
       "      <td>9</td>\n",
       "      <td>3</td>\n",
       "      <td>10s</td>\n",
       "    </tr>\n",
       "    <tr>\n",
       "      <th>3</th>\n",
       "      <td>5</td>\n",
       "      <td>1</td>\n",
       "      <td>90s</td>\n",
       "    </tr>\n",
       "    <tr>\n",
       "      <th>4</th>\n",
       "      <td>8</td>\n",
       "      <td>2</td>\n",
       "      <td>10s</td>\n",
       "    </tr>\n",
       "  </tbody>\n",
       "</table>\n",
       "</div>"
      ],
      "text/plain": [
       "   counts  Category Decade\n",
       "0      13         3    00s\n",
       "1      10         1    10s\n",
       "2       9         3    10s\n",
       "3       5         1    90s\n",
       "4       8         2    10s"
      ]
     },
     "execution_count": 88,
     "metadata": {},
     "output_type": "execute_result"
    }
   ],
   "source": [
    "df.head()"
   ]
  },
  {
   "cell_type": "code",
   "execution_count": 90,
   "id": "9c9ed46a-15a9-4616-8dd2-ba50c62881bf",
   "metadata": {},
   "outputs": [
    {
     "data": {
      "text/plain": [
       "<Axes: ylabel='Decade'>"
      ]
     },
     "execution_count": 90,
     "metadata": {},
     "output_type": "execute_result"
    },
    {
     "data": {
      "image/png": "[encoded data removed]",
      "text/plain": [
       "<Figure size 640x480 with 1 Axes>"
      ]
     },
     "metadata": {},
     "output_type": "display_data"
    }
   ],
   "source": []
  },
  {
   "cell_type": "code",
   "execution_count": null,
   "id": "fcb89cd6-d518-40f7-aa47-c923417f66f9",
   "metadata": {},
   "outputs": [],
   "source": []
  },
  {
   "cell_type": "code",
   "execution_count": 67,
   "id": "13d6ac5f-f830-4bb8-86e3-6b8ec39c9db1",
   "metadata": {},
   "outputs": [
    {
     "data": {
      "text/plain": [
       "group\n",
       "a    Axes(0.125,0.11;0.775x0.77)\n",
       "b    Axes(0.125,0.11;0.775x0.77)\n",
       "dtype: object"
      ]
     },
     "execution_count": 67,
     "metadata": {},
     "output_type": "execute_result"
    },
    {
     "data": {
      "image/png": "[encoded data removed]",
      "text/plain": [
       "<Figure size 640x480 with 1 Axes>"
      ]
     },
     "metadata": {},
     "output_type": "display_data"
    },
    {
     "data": {
      "image/png": "[encoded data removed]",
      "text/plain": [
       "<Figure size 640x480 with 1 Axes>"
      ]
     },
     "metadata": {},
     "output_type": "display_data"
    }
   ],
   "source": [
    "df=pd.DataFrame({'group':['a','a','a','a','a','a','a','b','b','b','b','b','b','b'],\n",
    "     'day':['Mon','Tues','Fri','Thurs','Sat','Sun','Weds','Fri','Sun','Thurs','Sat','Weds','Mon','Tues'],\n",
    "     'amount':[1,2,4,2,1,1,2,4,5,3,4,2,1,3]})\n",
    "\n",
    "order = ['Mon', 'Tues', 'Weds','Thurs','Fri','Sat','Sun']\n",
    "df.set_index('day').loc[order].groupby('group').plot(kind='bar')"
   ]
  },
  {
   "cell_type": "code",
   "execution_count": 59,
   "id": "4bea6a02-8434-4fd5-9e3a-d624bdeb99b2",
   "metadata": {},
   "outputs": [
    {
     "name": "stdout",
     "output_type": "stream",
     "text": [
      "20\n"
     ]
    },
    {
     "data": {
      "text/html": [
       "<div>\n",
       "<style scoped>\n",
       "    .dataframe tbody tr th:only-of-type {\n",
       "        vertical-align: middle;\n",
       "    }\n",
       "\n",
       "    .dataframe tbody tr th {\n",
       "        vertical-align: top;\n",
       "    }\n",
       "\n",
       "    .dataframe thead th {\n",
       "        text-align: right;\n",
       "    }\n",
       "</style>\n",
       "<table border=\"1\" class=\"dataframe\">\n",
       "  <thead>\n",
       "    <tr style=\"text-align: right;\">\n",
       "      <th></th>\n",
       "      <th>NaN</th>\n",
       "      <th>NaN</th>\n",
       "      <th>NaN</th>\n",
       "    </tr>\n",
       "  </thead>\n",
       "  <tbody>\n",
       "    <tr>\n",
       "      <th>0</th>\n",
       "      <td>9</td>\n",
       "      <td>2</td>\n",
       "      <td>00s</td>\n",
       "    </tr>\n",
       "    <tr>\n",
       "      <th>1</th>\n",
       "      <td>7</td>\n",
       "      <td>8</td>\n",
       "      <td>80s</td>\n",
       "    </tr>\n",
       "    <tr>\n",
       "      <th>2</th>\n",
       "      <td>11</td>\n",
       "      <td>5</td>\n",
       "      <td>90s</td>\n",
       "    </tr>\n",
       "    <tr>\n",
       "      <th>3</th>\n",
       "      <td>14</td>\n",
       "      <td>8</td>\n",
       "      <td>80s</td>\n",
       "    </tr>\n",
       "    <tr>\n",
       "      <th>4</th>\n",
       "      <td>10</td>\n",
       "      <td>8</td>\n",
       "      <td>00s</td>\n",
       "    </tr>\n",
       "  </tbody>\n",
       "</table>\n",
       "</div>"
      ],
      "text/plain": [
       "  NaN NaN  NaN\n",
       "0   9   2  00s\n",
       "1   7   8  80s\n",
       "2  11   5  90s\n",
       "3  14   8  80s\n",
       "4  10   8  00s"
      ]
     },
     "execution_count": 59,
     "metadata": {},
     "output_type": "execute_result"
    }
   ],
   "source": [
    "n= 20\n",
    "df = pd.DataFrame({\"counts\": np.random.randint(5, 15, n),\n",
    "                   \"Category\": np.random.randint(1, 10, n),\n",
    "                   \"Decade\": [random.choice([\"80s\",\"90s\",\"00s\", \"10s\"]) for i in range(n)]})\n",
    "print (len(df.index))\n",
    "df.head()\n",
    "\n",
    "my_cat = pd.CategoricalDtype(categories=['10s', '00s', '90s', '80s',   ], ordered=True)\n",
    "df['Decade'] = df['Decade'].astype(my_cat)\n",
    "\n",
    "categories=['9','7', '5', '3', '1', '8', '6', '4', '2', '0']\n",
    "#df['Category'] = df['Category'].astype(my_order)\n",
    "\n",
    "df.columns = pd.CategoricalIndex(df.columns.values, \n",
    "                                 ordered=True, \n",
    "                                 categories=categories)\n",
    "\n",
    "# Sort the columns (axis=1) by the new categorical ordering\n",
    "df = df.sort_index(axis=1)\n",
    "df.head()\n",
    "#df.pivot_table('counts', 'Decade', 'Category', 'first').plot.barh(stacked=True)"
   ]
  },
  {
   "cell_type": "code",
   "execution_count": 55,
   "id": "fc1470e8-db1d-48d3-92c6-9ce468f02881",
   "metadata": {},
   "outputs": [
    {
     "data": {
      "text/plain": [
       "CategoricalDtype(categories=['10s', '00s', '90s', '80s'], ordered=True)"
      ]
     },
     "execution_count": 55,
     "metadata": {},
     "output_type": "execute_result"
    }
   ],
   "source": []
  },
  {
   "cell_type": "markdown",
   "id": "282b371c-fdfc-4f68-8142-11162545824c",
   "metadata": {},
   "source": [
    "# Done - ZZZZ"
   ]
  }
 ],
 "metadata": {
  "kernelspec": {
   "display_name": "Python 3 (ipykernel)",
   "language": "python",
   "name": "python3"
  },
  "language_info": {
   "codemirror_mode": {
    "name": "ipython",
    "version": 3
   },
   "file_extension": ".py",
   "mimetype": "text/x-python",
   "name": "python",
   "nbconvert_exporter": "python",
   "pygments_lexer": "ipython3",
   "version": "3.10.9"
  }
 },
 "nbformat": 4,
 "nbformat_minor": 5
}
