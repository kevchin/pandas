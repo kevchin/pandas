{
 "cells": [
  {
   "cell_type": "markdown",
   "id": "0afa504c-d5f8-4b71-afc2-47e2bf60ac00",
   "metadata": {},
   "source": [
    "## From: https://stackoverflow.com/questions/35373714/reverse-legend-order-pandas-plot"
   ]
  },
  {
   "cell_type": "code",
   "execution_count": 1,
   "id": "94b8b32e-a1eb-4d42-8b32-60b009eaf680",
   "metadata": {},
   "outputs": [],
   "source": [
    "import pandas as pd\n",
    "import numpy as np\n",
    "import math"
   ]
  },
  {
   "cell_type": "code",
   "execution_count": 2,
   "id": "2e69478e-6a68-4ec5-811c-84828f5d0285",
   "metadata": {},
   "outputs": [
    {
     "data": {
      "text/plain": [
       "<matplotlib.legend.Legend at 0x7fe4395c4e20>"
      ]
     },
     "execution_count": 2,
     "metadata": {},
     "output_type": "execute_result"
    },
    {
     "data": {
      "image/png": "[encoded data removed]",
      "text/plain": [
       "<Figure size 640x480 with 1 Axes>"
      ]
     },
     "metadata": {},
     "output_type": "display_data"
    }
   ],
   "source": [
    "df = pd.DataFrame({'a': np.random.randn(10) + 1, 'b': np.random.randn(10),\n",
    "                   'c': np.random.randn(10) - 1}, columns=['a', 'b', 'c'])\n",
    "ax = df.plot(kind='bar', stacked=True)\n",
    "handles, labels = ax.get_legend_handles_labels()\n",
    "ax.legend(reversed(handles), reversed(labels), loc='upper left')  # reverse both handles and labels"
   ]
  },
  {
   "cell_type": "code",
   "execution_count": 3,
   "id": "b127ac00-8709-4a71-857c-852eee18cfe6",
   "metadata": {},
   "outputs": [],
   "source": [
    "np.random.seed(2019)\n",
    "\n",
    "# Hard-code the custom ordering of categories\n",
    "categories = ['unsure', '<25%', '25 - 50%', '50 - 75%', '75 - 100%']\n",
    "\n",
    "# Generate some example data\n",
    "# I'm not sure if this matches your input exactly\n",
    "df_orig = pd.DataFrame({'District': np.random.choice(list('ABCDE'), size=100), \n",
    "                        'Portion of income': np.random.choice(categories + [np.nan], size=100)})"
   ]
  },
  {
   "cell_type": "code",
   "execution_count": 4,
   "id": "fd5bf819-538e-4bea-91f1-406de9ec30a3",
   "metadata": {},
   "outputs": [
    {
     "data": {
      "text/html": [
       "<div>\n",
       "<style scoped>\n",
       "    .dataframe tbody tr th:only-of-type {\n",
       "        vertical-align: middle;\n",
       "    }\n",
       "\n",
       "    .dataframe tbody tr th {\n",
       "        vertical-align: top;\n",
       "    }\n",
       "\n",
       "    .dataframe thead th {\n",
       "        text-align: right;\n",
       "    }\n",
       "</style>\n",
       "<table border=\"1\" class=\"dataframe\">\n",
       "  <thead>\n",
       "    <tr style=\"text-align: right;\">\n",
       "      <th></th>\n",
       "      <th>District</th>\n",
       "      <th>Portion of income</th>\n",
       "    </tr>\n",
       "  </thead>\n",
       "  <tbody>\n",
       "    <tr>\n",
       "      <th>0</th>\n",
       "      <td>A</td>\n",
       "      <td>25 - 50%</td>\n",
       "    </tr>\n",
       "    <tr>\n",
       "      <th>1</th>\n",
       "      <td>C</td>\n",
       "      <td>75 - 100%</td>\n",
       "    </tr>\n",
       "    <tr>\n",
       "      <th>2</th>\n",
       "      <td>A</td>\n",
       "      <td>75 - 100%</td>\n",
       "    </tr>\n",
       "    <tr>\n",
       "      <th>3</th>\n",
       "      <td>A</td>\n",
       "      <td>&lt;25%</td>\n",
       "    </tr>\n",
       "    <tr>\n",
       "      <th>4</th>\n",
       "      <td>E</td>\n",
       "      <td>&lt;25%</td>\n",
       "    </tr>\n",
       "  </tbody>\n",
       "</table>\n",
       "</div>"
      ],
      "text/plain": [
       "  District Portion of income\n",
       "0        A          25 - 50%\n",
       "1        C         75 - 100%\n",
       "2        A         75 - 100%\n",
       "3        A              <25%\n",
       "4        E              <25%"
      ]
     },
     "execution_count": 4,
     "metadata": {},
     "output_type": "execute_result"
    }
   ],
   "source": [
    "df_orig.head()"
   ]
  },
  {
   "cell_type": "code",
   "execution_count": 5,
   "id": "57d259ce-4857-4c44-887a-2079654c9afa",
   "metadata": {},
   "outputs": [
    {
     "name": "stdout",
     "output_type": "stream",
     "text": [
      "29\n"
     ]
    },
    {
     "data": {
      "text/plain": [
       "District  Portion of income\n",
       "A         unsure               27.586207\n",
       "          <25%                 20.689655\n",
       "          25 - 50%             17.241379\n",
       "          75 - 100%            17.241379\n",
       "          50 - 75%             10.344828\n",
       "Name: Portion of income, dtype: float64"
      ]
     },
     "execution_count": 5,
     "metadata": {},
     "output_type": "execute_result"
    }
   ],
   "source": [
    "# Unchanged from your code. Note that value_counts() returns a \n",
    "# Series, but you name it df\n",
    "df = df_orig.groupby('District')['Portion of income'].value_counts(dropna=False)\n",
    "df = df.groupby('District').transform(lambda x: 100*x/sum(x))\n",
    "print (len(df.index))\n",
    "df.head()"
   ]
  },
  {
   "cell_type": "code",
   "execution_count": 6,
   "id": "6a881f2d-07f3-4bde-aaf5-82a1bc534c86",
   "metadata": {},
   "outputs": [],
   "source": [
    "# In my example data, np.nan was cast to the string 'nan', so \n",
    "# I have to drop it like this\n",
    "df = df.drop(labels='nan', level=1)"
   ]
  },
  {
   "cell_type": "code",
   "execution_count": 7,
   "id": "7eb88c3d-92e2-473b-8a23-3c2403b1e421",
   "metadata": {},
   "outputs": [
    {
     "data": {
      "text/html": [
       "<div>\n",
       "<style scoped>\n",
       "    .dataframe tbody tr th:only-of-type {\n",
       "        vertical-align: middle;\n",
       "    }\n",
       "\n",
       "    .dataframe tbody tr th {\n",
       "        vertical-align: top;\n",
       "    }\n",
       "\n",
       "    .dataframe thead th {\n",
       "        text-align: right;\n",
       "    }\n",
       "</style>\n",
       "<table border=\"1\" class=\"dataframe\">\n",
       "  <thead>\n",
       "    <tr style=\"text-align: right;\">\n",
       "      <th>Portion of income</th>\n",
       "      <th>unsure</th>\n",
       "      <th>&lt;25%</th>\n",
       "      <th>25 - 50%</th>\n",
       "      <th>75 - 100%</th>\n",
       "      <th>50 - 75%</th>\n",
       "    </tr>\n",
       "    <tr>\n",
       "      <th>District</th>\n",
       "      <th></th>\n",
       "      <th></th>\n",
       "      <th></th>\n",
       "      <th></th>\n",
       "      <th></th>\n",
       "    </tr>\n",
       "  </thead>\n",
       "  <tbody>\n",
       "    <tr>\n",
       "      <th>A</th>\n",
       "      <td>27.586207</td>\n",
       "      <td>20.689655</td>\n",
       "      <td>17.241379</td>\n",
       "      <td>17.241379</td>\n",
       "      <td>10.344828</td>\n",
       "    </tr>\n",
       "    <tr>\n",
       "      <th>B</th>\n",
       "      <td>23.529412</td>\n",
       "      <td>23.529412</td>\n",
       "      <td>11.764706</td>\n",
       "      <td>11.764706</td>\n",
       "      <td>17.647059</td>\n",
       "    </tr>\n",
       "    <tr>\n",
       "      <th>C</th>\n",
       "      <td>19.047619</td>\n",
       "      <td>9.523810</td>\n",
       "      <td>4.761905</td>\n",
       "      <td>28.571429</td>\n",
       "      <td>14.285714</td>\n",
       "    </tr>\n",
       "    <tr>\n",
       "      <th>D</th>\n",
       "      <td>21.428571</td>\n",
       "      <td>NaN</td>\n",
       "      <td>21.428571</td>\n",
       "      <td>7.142857</td>\n",
       "      <td>21.428571</td>\n",
       "    </tr>\n",
       "    <tr>\n",
       "      <th>E</th>\n",
       "      <td>26.315789</td>\n",
       "      <td>10.526316</td>\n",
       "      <td>10.526316</td>\n",
       "      <td>15.789474</td>\n",
       "      <td>15.789474</td>\n",
       "    </tr>\n",
       "  </tbody>\n",
       "</table>\n",
       "</div>"
      ],
      "text/plain": [
       "Portion of income     unsure       <25%   25 - 50%  75 - 100%   50 - 75%\n",
       "District                                                                \n",
       "A                  27.586207  20.689655  17.241379  17.241379  10.344828\n",
       "B                  23.529412  23.529412  11.764706  11.764706  17.647059\n",
       "C                  19.047619   9.523810   4.761905  28.571429  14.285714\n",
       "D                  21.428571        NaN  21.428571   7.142857  21.428571\n",
       "E                  26.315789  10.526316  10.526316  15.789474  15.789474"
      ]
     },
     "execution_count": 7,
     "metadata": {},
     "output_type": "execute_result"
    }
   ],
   "source": [
    "# Instead of plotting right away, unstack the MultiIndex\n",
    "# into columns, then convert those columns to a CategoricalIndex \n",
    "# with custom sort order\n",
    "df = df.unstack()\n",
    "df"
   ]
  },
  {
   "cell_type": "code",
   "execution_count": 8,
   "id": "893bc6c2-d975-4f1f-9642-f80ee6ed4450",
   "metadata": {},
   "outputs": [],
   "source": [
    "df.columns = pd.CategoricalIndex(df.columns.values, \n",
    "                                 ordered=True, \n",
    "                                 categories=categories)"
   ]
  },
  {
   "cell_type": "code",
   "execution_count": 9,
   "id": "bb74d0d0-d097-4326-baa1-d7c52d3152a1",
   "metadata": {},
   "outputs": [
    {
     "data": {
      "text/html": [
       "<div>\n",
       "<style scoped>\n",
       "    .dataframe tbody tr th:only-of-type {\n",
       "        vertical-align: middle;\n",
       "    }\n",
       "\n",
       "    .dataframe tbody tr th {\n",
       "        vertical-align: top;\n",
       "    }\n",
       "\n",
       "    .dataframe thead th {\n",
       "        text-align: right;\n",
       "    }\n",
       "</style>\n",
       "<table border=\"1\" class=\"dataframe\">\n",
       "  <thead>\n",
       "    <tr style=\"text-align: right;\">\n",
       "      <th></th>\n",
       "      <th>unsure</th>\n",
       "      <th>&lt;25%</th>\n",
       "      <th>25 - 50%</th>\n",
       "      <th>75 - 100%</th>\n",
       "      <th>50 - 75%</th>\n",
       "    </tr>\n",
       "    <tr>\n",
       "      <th>District</th>\n",
       "      <th></th>\n",
       "      <th></th>\n",
       "      <th></th>\n",
       "      <th></th>\n",
       "      <th></th>\n",
       "    </tr>\n",
       "  </thead>\n",
       "  <tbody>\n",
       "    <tr>\n",
       "      <th>A</th>\n",
       "      <td>27.586207</td>\n",
       "      <td>20.689655</td>\n",
       "      <td>17.241379</td>\n",
       "      <td>17.241379</td>\n",
       "      <td>10.344828</td>\n",
       "    </tr>\n",
       "    <tr>\n",
       "      <th>B</th>\n",
       "      <td>23.529412</td>\n",
       "      <td>23.529412</td>\n",
       "      <td>11.764706</td>\n",
       "      <td>11.764706</td>\n",
       "      <td>17.647059</td>\n",
       "    </tr>\n",
       "    <tr>\n",
       "      <th>C</th>\n",
       "      <td>19.047619</td>\n",
       "      <td>9.523810</td>\n",
       "      <td>4.761905</td>\n",
       "      <td>28.571429</td>\n",
       "      <td>14.285714</td>\n",
       "    </tr>\n",
       "    <tr>\n",
       "      <th>D</th>\n",
       "      <td>21.428571</td>\n",
       "      <td>NaN</td>\n",
       "      <td>21.428571</td>\n",
       "      <td>7.142857</td>\n",
       "      <td>21.428571</td>\n",
       "    </tr>\n",
       "    <tr>\n",
       "      <th>E</th>\n",
       "      <td>26.315789</td>\n",
       "      <td>10.526316</td>\n",
       "      <td>10.526316</td>\n",
       "      <td>15.789474</td>\n",
       "      <td>15.789474</td>\n",
       "    </tr>\n",
       "  </tbody>\n",
       "</table>\n",
       "</div>"
      ],
      "text/plain": [
       "             unsure       <25%   25 - 50%  75 - 100%   50 - 75%\n",
       "District                                                       \n",
       "A         27.586207  20.689655  17.241379  17.241379  10.344828\n",
       "B         23.529412  23.529412  11.764706  11.764706  17.647059\n",
       "C         19.047619   9.523810   4.761905  28.571429  14.285714\n",
       "D         21.428571        NaN  21.428571   7.142857  21.428571\n",
       "E         26.315789  10.526316  10.526316  15.789474  15.789474"
      ]
     },
     "execution_count": 9,
     "metadata": {},
     "output_type": "execute_result"
    }
   ],
   "source": [
    "df.head()"
   ]
  },
  {
   "cell_type": "code",
   "execution_count": 10,
   "id": "e876a678-c091-4616-a06c-b538c02e42e1",
   "metadata": {},
   "outputs": [],
   "source": [
    "# Sort the columns (axis=1) by the new categorical ordering\n",
    "df = df.sort_index(axis=1)"
   ]
  },
  {
   "cell_type": "markdown",
   "id": "1d26234f-8e95-496c-9008-d3e1c25b694c",
   "metadata": {},
   "source": [
    "# Income Level sort for stacked Bar -- see 75 is first?\n",
    "  * https://stackoverflow.com/questions/54874269/ordering-of-elements-in-pandas-stacked-bar-chart"
   ]
  },
  {
   "cell_type": "code",
   "execution_count": 11,
   "id": "6b6a5ee7-ba70-40cd-a703-ea490d35254d",
   "metadata": {},
   "outputs": [
    {
     "data": {
      "text/plain": [
       "<matplotlib.legend.Legend at 0x7fe439b10dc0>"
      ]
     },
     "execution_count": 11,
     "metadata": {},
     "output_type": "execute_result"
    },
    {
     "data": {
      "image/png": "[encoded data removed]",
      "text/plain": [
       "<Figure size 640x480 with 1 Axes>"
      ]
     },
     "metadata": {},
     "output_type": "display_data"
    }
   ],
   "source": [
    "# Plot\n",
    "ax = df.plot.bar(stacked=True, rot=0)\n",
    "ax.set_ylim(ymax=100)\n",
    "\n",
    "# Matplotlib idiom to reverse legend entries \n",
    "handles, labels = ax.get_legend_handles_labels()\n",
    "ax.legend(reversed(handles), reversed(labels))"
   ]
  },
  {
   "cell_type": "code",
   "execution_count": 12,
   "id": "97886e28-eb06-4557-81ad-c8fbd217f00d",
   "metadata": {},
   "outputs": [],
   "source": [
    "import matplotlib.pyplot as plt\n",
    "\n",
    "SMALL_SIZE = 8\n",
    "MEDIUM_SIZE = 10\n",
    "BIGGER_SIZE = 12\n",
    "\n",
    "plt.rc('font', size=SMALL_SIZE)          # controls default text sizes\n",
    "plt.rc('axes', titlesize=SMALL_SIZE)     # fontsize of the axes title\n",
    "plt.rc('axes', labelsize=MEDIUM_SIZE)    # fontsize of the x and y labels\n",
    "plt.rc('xtick', labelsize=SMALL_SIZE)    # fontsize of the tick labels\n",
    "plt.rc('ytick', labelsize=SMALL_SIZE)    # fontsize of the tick labels\n",
    "plt.rc('legend', fontsize=SMALL_SIZE)    # legend fontsize\n",
    "plt.rc('figure', titlesize=BIGGER_SIZE)  # fontsize of the figure title"
   ]
  },
  {
   "cell_type": "code",
   "execution_count": 14,
   "id": "728287a4-7e60-41b1-be36-7f710c07628f",
   "metadata": {},
   "outputs": [
    {
     "data": {
      "image/png": "[encoded data removed]",
      "text/plain": [
       "<Figure size 640x480 with 1 Axes>"
      ]
     },
     "metadata": {},
     "output_type": "display_data"
    }
   ],
   "source": [
    "ax = plt.subplot(111, xlabel='x', ylabel='y', title='title')\n",
    "for item in ([ax.title, ax.xaxis.label, ax.yaxis.label] +\n",
    "             ax.get_xticklabels() + ax.get_yticklabels()):\n",
    "    item.set_fontsize(20)"
   ]
  },
  {
   "cell_type": "markdown",
   "id": "17d74355-27d5-4fc6-af20-8fc3d32cefe1",
   "metadata": {},
   "source": [
    "# Sort a boxplot by Median (or Mean)\n",
    "  * https://stackoverflow.com/questions/21912634/how-can-i-sort-a-boxplot-in-pandas-by-the-median-values"
   ]
  },
  {
   "cell_type": "code",
   "execution_count": 15,
   "id": "69050cc7-af91-400e-a141-f6b39645182d",
   "metadata": {},
   "outputs": [
    {
     "data": {
      "image/png": "[encoded data removed]",
      "text/plain": [
       "<Figure size 640x480 with 1 Axes>"
      ]
     },
     "metadata": {},
     "output_type": "display_data"
    }
   ],
   "source": [
    "import random\n",
    "import matplotlib.pyplot as plt\n",
    "\n",
    "n = 100\n",
    "# this is probably a strange way to generate random data; please feel free to correct it\n",
    "df = pd.DataFrame({\"X\": [random.choice([\"A\",\"B\",\"C\"]) for i in range(n)], \n",
    "                   \"Y\": [random.choice([\"a\",\"b\",\"c\"]) for i in range(n)],\n",
    "                   \"Z\": [random.gauss(0,1) for i in range(n)]})\n",
    "grouped = df.groupby([\"X\", \"Y\"])\n",
    "\n",
    "df2 = pd.DataFrame({col:vals['Z'] for col,vals in grouped})\n",
    "\n",
    "meds = df2.median()\n",
    "meds.sort_values(ascending=False, inplace=True)\n",
    "df2 = df2[meds.index]\n",
    "df2.boxplot()\n",
    "\n",
    "plt.show()"
   ]
  },
  {
   "cell_type": "markdown",
   "id": "f1eb9d06-9208-4152-b43a-17ab34d076de",
   "metadata": {},
   "source": [
    "# Change font size of existing plot\n",
    "  * https://stackoverflow.com/questions/3899980/how-to-change-the-font-size-on-a-matplotlib-plot"
   ]
  },
  {
   "cell_type": "code",
   "execution_count": 16,
   "id": "0ad01856-1063-495b-9047-0b81a12b448e",
   "metadata": {},
   "outputs": [],
   "source": [
    "#import matplotlib.pyplot as plt\n",
    "\n",
    "SMALL_SIZE = 8\n",
    "MEDIUM_SIZE = 10\n",
    "BIGGER_SIZE = 12\n",
    "\n",
    "plt.rc('font', size=SMALL_SIZE)          # controls default text sizes\n",
    "plt.rc('axes', titlesize=SMALL_SIZE)     # fontsize of the axes title\n",
    "plt.rc('axes', labelsize=MEDIUM_SIZE)    # fontsize of the x and y labels\n",
    "plt.rc('xtick', labelsize=SMALL_SIZE)    # fontsize of the tick labels\n",
    "plt.rc('ytick', labelsize=SMALL_SIZE)    # fontsize of the tick labels\n",
    "plt.rc('legend', fontsize=SMALL_SIZE)    # legend fontsize\n",
    "plt.rc('figure', titlesize=BIGGER_SIZE)  # fontsize of the figure title"
   ]
  },
  {
   "cell_type": "markdown",
   "id": "bde4fdb1-dedb-4923-8a14-b8a09e76c96d",
   "metadata": {},
   "source": [
    "# Time delta to hours or days\n",
    "  * https://stackoverflow.com/questions/22923775/calculate-time-difference-between-two-pandas-columns-in-hours-and-minutes"
   ]
  },
  {
   "cell_type": "code",
   "execution_count": 18,
   "id": "6f17e1a4-8de4-4c91-aa96-97d96865dda6",
   "metadata": {},
   "outputs": [
    {
     "data": {
      "text/plain": [
       "0    58.0\n",
       "1     3.0\n",
       "2     8.0\n",
       "dtype: float64"
      ]
     },
     "execution_count": 18,
     "metadata": {},
     "output_type": "execute_result"
    }
   ],
   "source": [
    "df = pd.DataFrame(columns=['to','fr','ans'])\n",
    "df.to = [pd.Timestamp('2014-01-24 13:03:12.050000'), pd.Timestamp('2014-01-27 11:57:18.240000'), pd.Timestamp('2014-01-23 10:07:47.660000')]\n",
    "df.fr = [pd.Timestamp('2014-01-26 23:41:21.870000'), pd.Timestamp('2014-01-27 15:38:22.540000'), pd.Timestamp('2014-01-23 18:50:41.420000')]\n",
    "(df.fr-df.to).astype('timedelta64[h]')"
   ]
  },
  {
   "cell_type": "code",
   "execution_count": null,
   "id": "ac00de10-e65c-44ad-b472-fd185030d534",
   "metadata": {},
   "outputs": [],
   "source": []
  },
  {
   "cell_type": "code",
   "execution_count": 19,
   "id": "85d9619b-6289-4541-82f6-ba935d5302ec",
   "metadata": {},
   "outputs": [
    {
     "data": {
      "image/png": "[encoded data removed]",
      "text/plain": [
       "<Figure size 640x480 with 1 Axes>"
      ]
     },
     "metadata": {},
     "output_type": "display_data"
    }
   ],
   "source": [
    "import matplotlib.pyplot as plt\n",
    "\n",
    "ax = plt.subplot(111, xlabel='x', ylabel='y', title='title')\n",
    "for item in ([ax.title, ax.xaxis.label, ax.yaxis.label] +\n",
    "             ax.get_xticklabels() + ax.get_yticklabels()):\n",
    "    item.set_fontsize(20)"
   ]
  },
  {
   "cell_type": "markdown",
   "id": "282b371c-fdfc-4f68-8142-11162545824c",
   "metadata": {},
   "source": [
    "# Done - ZZZZ"
   ]
  }
 ],
 "metadata": {
  "kernelspec": {
   "display_name": "Python 3 (ipykernel)",
   "language": "python",
   "name": "python3"
  },
  "language_info": {
   "codemirror_mode": {
    "name": "ipython",
    "version": 3
   },
   "file_extension": ".py",
   "mimetype": "text/x-python",
   "name": "python",
   "nbconvert_exporter": "python",
   "pygments_lexer": "ipython3",
   "version": "3.10.9"
  }
 },
 "nbformat": 4,
 "nbformat_minor": 5
}
