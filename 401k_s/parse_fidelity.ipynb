{
 "cells": [
  {
   "cell_type": "code",
   "execution_count": 1,
   "metadata": {},
   "outputs": [],
   "source": [
    "import plotly.express as px\n",
    "import pandas as pd\n",
    "import matplotlib.pyplot as plt\n",
    "import seaborn as sns\n",
    "from datetime import datetime"
   ]
  },
  {
   "cell_type": "code",
   "execution_count": 2,
   "metadata": {},
   "outputs": [
    {
     "name": "stdout",
     "output_type": "stream",
     "text": [
      "Text replaced, wrote: convert_avg_returns.csv\n",
      "Text replaced, wrote: convert_fees.csv\n",
      "Text replaced, wrote: convert_cumulative_returns.csv\n"
     ]
    }
   ],
   "source": [
    "l1 = ['avg_returns.csv', 'fees.csv', 'cumulative_returns.csv']\n",
    "l2 = ['convert_'+x for x in l1]\n",
    "\n",
    "for infile, outfile in zip(l1, l2):\n",
    "    search_text = 'N/A'\n",
    "    replace_text = '0.0%'\n",
    "\n",
    "    original_df = pd.read_csv(infile)\n",
    "    percent_text = '%'\n",
    "    blank= ''\n",
    "    asterisk_text ='*'\n",
    "\n",
    "    with open(infile, 'r') as file:\n",
    "    \n",
    "        # Reading the content of the file\n",
    "        # using the read() function and storing\n",
    "        # them in a new variable\n",
    "        data = file.read()\n",
    "    \n",
    "        # Searching and replacing the text\n",
    "        # using the replace() function\n",
    "        data = data.replace(search_text, replace_text)\n",
    "        data = data.replace(percent_text, blank)\n",
    "        data = data.replace(asterisk_text, blank)\n",
    "\n",
    "    # Opening our text file in write only\n",
    "    # mode to write the replaced content\n",
    "    with open(outfile, 'w') as file:\n",
    "    \n",
    "        # Writing the replaced data in our\n",
    "        # text file\n",
    "        file.write(data)\n",
    "\n",
    "    # Printing Text replaced\n",
    "    print(\"Text replaced, wrote: \" +  outfile)"
   ]
  },
  {
   "cell_type": "code",
   "execution_count": 3,
   "metadata": {},
   "outputs": [
    {
     "name": "stdout",
     "output_type": "stream",
     "text": [
      "convert_avg_returns.csv Index(['Name/Inception Date', 'Asset Class', 'Category',\n",
      "       'Plan-specific option', '1 Year', '3 Year', '5 Year', '10 Year/LOF',\n",
      "       'Returns As Of', 'Bench- mark', 'ticker'],\n",
      "      dtype='object')\n",
      "convert_fees.csv Index(['Name/Inception Date', 'Asset Class', 'Category',\n",
      "       'Plan-specific option', 'Gross Expense Ratio', 'Shareholder Fees',\n",
      "       'ticker'],\n",
      "      dtype='object')\n",
      "convert_cumulative_returns.csv Index(['Name/Inception Date', 'Asset Class', 'Category',\n",
      "       'Plan-specific option', 'Daily', 'MTD', 'YTD', 'Returns As Of',\n",
      "       '1 Month', '3 Months', 'Returns As Of.1', 'Bench- mark', 'ticker'],\n",
      "      dtype='object')\n"
     ]
    }
   ],
   "source": [
    "for new_csv in l2:\n",
    "    my401k_df = pd.read_csv(new_csv)\n",
    "    l = (my401k_df['Category'] == '0.0')\n",
    "    my401k_df.loc[l, 'Category'] = 'Target Fund'\n",
    "    my401k_df['ticker'] = ''\n",
    "    #print (my401k_df.head())\n",
    "    print (new_csv, my401k_df.columns)"
   ]
  },
  {
   "cell_type": "code",
   "execution_count": 4,
   "metadata": {},
   "outputs": [
    {
     "data": {
      "text/html": [
       "<div>\n",
       "<style scoped>\n",
       "    .dataframe tbody tr th:only-of-type {\n",
       "        vertical-align: middle;\n",
       "    }\n",
       "\n",
       "    .dataframe tbody tr th {\n",
       "        vertical-align: top;\n",
       "    }\n",
       "\n",
       "    .dataframe thead th {\n",
       "        text-align: right;\n",
       "    }\n",
       "</style>\n",
       "<table border=\"1\" class=\"dataframe\">\n",
       "  <thead>\n",
       "    <tr style=\"text-align: right;\">\n",
       "      <th></th>\n",
       "      <th>Name/Inception Date</th>\n",
       "      <th>Gross Expense Ratio</th>\n",
       "    </tr>\n",
       "  </thead>\n",
       "  <tbody>\n",
       "    <tr>\n",
       "      <th>0</th>\n",
       "      <td>DODGE &amp; COX STOCK X (DOXGX)01/04/1965</td>\n",
       "      <td>0.46</td>\n",
       "    </tr>\n",
       "    <tr>\n",
       "      <th>1</th>\n",
       "      <td>FID 500 INDEX (FXAIX)02/17/1988</td>\n",
       "      <td>0.02</td>\n",
       "    </tr>\n",
       "    <tr>\n",
       "      <th>2</th>\n",
       "      <td>FID CONTRAFUND K6 (FLCNX)05/25/2017</td>\n",
       "      <td>0.45</td>\n",
       "    </tr>\n",
       "    <tr>\n",
       "      <th>3</th>\n",
       "      <td>JPM LG CAP GROWTH R6 (JLGMX)02/28/1992</td>\n",
       "      <td>0.52</td>\n",
       "    </tr>\n",
       "    <tr>\n",
       "      <th>4</th>\n",
       "      <td>VAN FTSE SOC IDX ADM (VFTAX)01/14/2003</td>\n",
       "      <td>0.14</td>\n",
       "    </tr>\n",
       "  </tbody>\n",
       "</table>\n",
       "</div>"
      ],
      "text/plain": [
       "                      Name/Inception Date  Gross Expense Ratio\n",
       "0   DODGE & COX STOCK X (DOXGX)01/04/1965                 0.46\n",
       "1         FID 500 INDEX (FXAIX)02/17/1988                 0.02\n",
       "2     FID CONTRAFUND K6 (FLCNX)05/25/2017                 0.45\n",
       "3  JPM LG CAP GROWTH R6 (JLGMX)02/28/1992                 0.52\n",
       "4  VAN FTSE SOC IDX ADM (VFTAX)01/14/2003                 0.14"
      ]
     },
     "execution_count": 4,
     "metadata": {},
     "output_type": "execute_result"
    }
   ],
   "source": [
    "fields = ['Name/Inception Date', 'Gross Expense Ratio']\n",
    "fees_df = pd.read_csv('convert_fees.csv', usecols=fields)\n",
    "fees_df.head()"
   ]
  },
  {
   "cell_type": "code",
   "execution_count": 5,
   "metadata": {},
   "outputs": [
    {
     "data": {
      "text/html": [
       "<div>\n",
       "<style scoped>\n",
       "    .dataframe tbody tr th:only-of-type {\n",
       "        vertical-align: middle;\n",
       "    }\n",
       "\n",
       "    .dataframe tbody tr th {\n",
       "        vertical-align: top;\n",
       "    }\n",
       "\n",
       "    .dataframe thead th {\n",
       "        text-align: right;\n",
       "    }\n",
       "</style>\n",
       "<table border=\"1\" class=\"dataframe\">\n",
       "  <thead>\n",
       "    <tr style=\"text-align: right;\">\n",
       "      <th></th>\n",
       "      <th>Name/Inception Date</th>\n",
       "      <th>Asset Class</th>\n",
       "      <th>Category</th>\n",
       "      <th>Plan-specific option</th>\n",
       "      <th>1 Year</th>\n",
       "      <th>3 Year</th>\n",
       "      <th>5 Year</th>\n",
       "      <th>10 Year/LOF</th>\n",
       "      <th>Returns As Of</th>\n",
       "    </tr>\n",
       "  </thead>\n",
       "  <tbody>\n",
       "    <tr>\n",
       "      <th>0</th>\n",
       "      <td>DODGE &amp; COX STOCK X (DOXGX)01/04/1965</td>\n",
       "      <td>Stock Investments</td>\n",
       "      <td>Large Cap</td>\n",
       "      <td>Yes</td>\n",
       "      <td>27.83</td>\n",
       "      <td>10.38</td>\n",
       "      <td>14.57</td>\n",
       "      <td>11.29</td>\n",
       "      <td>09/30/2024</td>\n",
       "    </tr>\n",
       "    <tr>\n",
       "      <th>1</th>\n",
       "      <td>FID 500 INDEX (FXAIX)02/17/1988</td>\n",
       "      <td>Stock Investments</td>\n",
       "      <td>Large Cap</td>\n",
       "      <td>No</td>\n",
       "      <td>36.33</td>\n",
       "      <td>11.90</td>\n",
       "      <td>15.96</td>\n",
       "      <td>13.37</td>\n",
       "      <td>09/30/2024</td>\n",
       "    </tr>\n",
       "    <tr>\n",
       "      <th>2</th>\n",
       "      <td>FID CONTRAFUND K6 (FLCNX)05/25/2017</td>\n",
       "      <td>Stock Investments</td>\n",
       "      <td>Large Cap</td>\n",
       "      <td>Yes</td>\n",
       "      <td>45.99</td>\n",
       "      <td>12.54</td>\n",
       "      <td>18.77</td>\n",
       "      <td>16.71</td>\n",
       "      <td>09/30/2024</td>\n",
       "    </tr>\n",
       "    <tr>\n",
       "      <th>3</th>\n",
       "      <td>JPM LG CAP GROWTH R6 (JLGMX)02/28/1992</td>\n",
       "      <td>Stock Investments</td>\n",
       "      <td>Large Cap</td>\n",
       "      <td>Yes</td>\n",
       "      <td>44.56</td>\n",
       "      <td>11.64</td>\n",
       "      <td>21.25</td>\n",
       "      <td>17.81</td>\n",
       "      <td>09/30/2024</td>\n",
       "    </tr>\n",
       "    <tr>\n",
       "      <th>4</th>\n",
       "      <td>VAN FTSE SOC IDX ADM (VFTAX)01/14/2003</td>\n",
       "      <td>Stock Investments</td>\n",
       "      <td>Large Cap</td>\n",
       "      <td>Yes</td>\n",
       "      <td>37.64</td>\n",
       "      <td>10.41</td>\n",
       "      <td>16.03</td>\n",
       "      <td>13.82</td>\n",
       "      <td>09/30/2024</td>\n",
       "    </tr>\n",
       "  </tbody>\n",
       "</table>\n",
       "</div>"
      ],
      "text/plain": [
       "                      Name/Inception Date        Asset Class   Category  \\\n",
       "0   DODGE & COX STOCK X (DOXGX)01/04/1965  Stock Investments  Large Cap   \n",
       "1         FID 500 INDEX (FXAIX)02/17/1988  Stock Investments  Large Cap   \n",
       "2     FID CONTRAFUND K6 (FLCNX)05/25/2017  Stock Investments  Large Cap   \n",
       "3  JPM LG CAP GROWTH R6 (JLGMX)02/28/1992  Stock Investments  Large Cap   \n",
       "4  VAN FTSE SOC IDX ADM (VFTAX)01/14/2003  Stock Investments  Large Cap   \n",
       "\n",
       "  Plan-specific option  1 Year  3 Year  5 Year  10 Year/LOF Returns As Of  \n",
       "0                  Yes   27.83   10.38   14.57        11.29    09/30/2024  \n",
       "1                   No   36.33   11.90   15.96        13.37    09/30/2024  \n",
       "2                  Yes   45.99   12.54   18.77        16.71    09/30/2024  \n",
       "3                  Yes   44.56   11.64   21.25        17.81    09/30/2024  \n",
       "4                  Yes   37.64   10.41   16.03        13.82    09/30/2024  "
      ]
     },
     "execution_count": 5,
     "metadata": {},
     "output_type": "execute_result"
    }
   ],
   "source": [
    "#fields = ['Name/Inception Date', 'Gross Expense Ratio']\n",
    "avg_returns_df = pd.read_csv('convert_avg_returns.csv')\n",
    "del avg_returns_df['Bench- mark']\n",
    "renameCols = ['1 Year', '3 Year'\t, '5 Year'\t, 'Returns As Of'\t,'10 Year/LOF']\n",
    "doRename = False\n",
    "if (doRename):\n",
    "    for d in renameCols:\n",
    "        if d in avg_returns_df:\n",
    "            avg_returns_df.rename(columns = {d: \"avg_\"+d}, inplace=True)\n",
    "\n",
    "avg_returns_df.head()"
   ]
  },
  {
   "cell_type": "code",
   "execution_count": 6,
   "metadata": {},
   "outputs": [
    {
     "data": {
      "text/html": [
       "<div>\n",
       "<style scoped>\n",
       "    .dataframe tbody tr th:only-of-type {\n",
       "        vertical-align: middle;\n",
       "    }\n",
       "\n",
       "    .dataframe tbody tr th {\n",
       "        vertical-align: top;\n",
       "    }\n",
       "\n",
       "    .dataframe thead th {\n",
       "        text-align: right;\n",
       "    }\n",
       "</style>\n",
       "<table border=\"1\" class=\"dataframe\">\n",
       "  <thead>\n",
       "    <tr style=\"text-align: right;\">\n",
       "      <th></th>\n",
       "      <th>Name/Inception Date</th>\n",
       "      <th>Daily</th>\n",
       "      <th>MTD</th>\n",
       "      <th>YTD</th>\n",
       "      <th>Returns As Of</th>\n",
       "      <th>1 Month</th>\n",
       "      <th>3 Months</th>\n",
       "    </tr>\n",
       "  </thead>\n",
       "  <tbody>\n",
       "    <tr>\n",
       "      <th>0</th>\n",
       "      <td>DODGE &amp; COX STOCK X (DOXGX)01/04/1965</td>\n",
       "      <td>0.93</td>\n",
       "      <td>1.01</td>\n",
       "      <td>17.55</td>\n",
       "      <td>10/11/2024</td>\n",
       "      <td>0.65</td>\n",
       "      <td>7.19</td>\n",
       "    </tr>\n",
       "    <tr>\n",
       "      <th>1</th>\n",
       "      <td>FID 500 INDEX (FXAIX)02/17/1988</td>\n",
       "      <td>0.61</td>\n",
       "      <td>0.97</td>\n",
       "      <td>23.24</td>\n",
       "      <td>10/11/2024</td>\n",
       "      <td>2.13</td>\n",
       "      <td>5.88</td>\n",
       "    </tr>\n",
       "    <tr>\n",
       "      <th>2</th>\n",
       "      <td>FID CONTRAFUND K6 (FLCNX)05/25/2017</td>\n",
       "      <td>0.88</td>\n",
       "      <td>2.05</td>\n",
       "      <td>33.80</td>\n",
       "      <td>10/11/2024</td>\n",
       "      <td>2.06</td>\n",
       "      <td>4.39</td>\n",
       "    </tr>\n",
       "    <tr>\n",
       "      <th>3</th>\n",
       "      <td>JPM LG CAP GROWTH R6 (JLGMX)02/28/1992</td>\n",
       "      <td>0.60</td>\n",
       "      <td>2.00</td>\n",
       "      <td>29.94</td>\n",
       "      <td>10/11/2024</td>\n",
       "      <td>2.22</td>\n",
       "      <td>2.43</td>\n",
       "    </tr>\n",
       "    <tr>\n",
       "      <th>4</th>\n",
       "      <td>VAN FTSE SOC IDX ADM (VFTAX)01/14/2003</td>\n",
       "      <td>0.57</td>\n",
       "      <td>0.95</td>\n",
       "      <td>22.75</td>\n",
       "      <td>10/11/2024</td>\n",
       "      <td>2.22</td>\n",
       "      <td>5.24</td>\n",
       "    </tr>\n",
       "  </tbody>\n",
       "</table>\n",
       "</div>"
      ],
      "text/plain": [
       "                      Name/Inception Date  Daily   MTD    YTD Returns As Of  \\\n",
       "0   DODGE & COX STOCK X (DOXGX)01/04/1965   0.93  1.01  17.55    10/11/2024   \n",
       "1         FID 500 INDEX (FXAIX)02/17/1988   0.61  0.97  23.24    10/11/2024   \n",
       "2     FID CONTRAFUND K6 (FLCNX)05/25/2017   0.88  2.05  33.80    10/11/2024   \n",
       "3  JPM LG CAP GROWTH R6 (JLGMX)02/28/1992   0.60  2.00  29.94    10/11/2024   \n",
       "4  VAN FTSE SOC IDX ADM (VFTAX)01/14/2003   0.57  0.95  22.75    10/11/2024   \n",
       "\n",
       "   1 Month  3 Months  \n",
       "0     0.65      7.19  \n",
       "1     2.13      5.88  \n",
       "2     2.06      4.39  \n",
       "3     2.22      2.43  \n",
       "4     2.22      5.24  "
      ]
     },
     "execution_count": 6,
     "metadata": {},
     "output_type": "execute_result"
    }
   ],
   "source": [
    "cumulative_returns_df = pd.read_csv('convert_cumulative_returns.csv' )\n",
    "delCols = ['Bench- mark', 'Returns As Of.1', 'Plan-specific option', 'Category','Asset Class']\n",
    "for d in delCols:\n",
    "    if d in cumulative_returns_df:\n",
    "        del cumulative_returns_df[d]\n",
    "renameCols = ['Daily', 'MTD'\t, 'YTD'\t, 'Returns As Of'\t,'1 Month'\t, '3 Months']\n",
    "doRename = False\n",
    "if (doRename):\n",
    "    for d in renameCols:\n",
    "        if d in cumulative_returns_df:\n",
    "            cumulative_returns_df.rename(columns = {d: \"cumlative_\"+d}, inplace=True)\n",
    "        \n",
    "cumulative_returns_df.head()"
   ]
  },
  {
   "cell_type": "code",
   "execution_count": 18,
   "metadata": {},
   "outputs": [
    {
     "data": {
      "text/html": [
       "<div>\n",
       "<style scoped>\n",
       "    .dataframe tbody tr th:only-of-type {\n",
       "        vertical-align: middle;\n",
       "    }\n",
       "\n",
       "    .dataframe tbody tr th {\n",
       "        vertical-align: top;\n",
       "    }\n",
       "\n",
       "    .dataframe thead th {\n",
       "        text-align: right;\n",
       "    }\n",
       "</style>\n",
       "<table border=\"1\" class=\"dataframe\">\n",
       "  <thead>\n",
       "    <tr style=\"text-align: right;\">\n",
       "      <th></th>\n",
       "      <th>Name/Inception Date</th>\n",
       "      <th>Daily</th>\n",
       "      <th>MTD</th>\n",
       "      <th>YTD</th>\n",
       "      <th>Returns As Of_x</th>\n",
       "      <th>1 Month</th>\n",
       "      <th>3 Months</th>\n",
       "      <th>Asset Class</th>\n",
       "      <th>Category</th>\n",
       "      <th>Plan-specific option</th>\n",
       "      <th>1 Year</th>\n",
       "      <th>3 Year</th>\n",
       "      <th>5 Year</th>\n",
       "      <th>10 Year/LOF</th>\n",
       "      <th>Returns As Of_y</th>\n",
       "      <th>Gross Expense Ratio</th>\n",
       "      <th>Name</th>\n",
       "      <th>Inception Date</th>\n",
       "      <th>ticker</th>\n",
       "    </tr>\n",
       "  </thead>\n",
       "  <tbody>\n",
       "    <tr>\n",
       "      <th>0</th>\n",
       "      <td>DODGE &amp; COX STOCK X (DOXGX)01/04/1965</td>\n",
       "      <td>0.93</td>\n",
       "      <td>1.01</td>\n",
       "      <td>17.55</td>\n",
       "      <td>10/11/2024</td>\n",
       "      <td>0.65</td>\n",
       "      <td>7.19</td>\n",
       "      <td>Stock Investments</td>\n",
       "      <td>Large Cap</td>\n",
       "      <td>Yes</td>\n",
       "      <td>27.83</td>\n",
       "      <td>10.38</td>\n",
       "      <td>14.57</td>\n",
       "      <td>11.29</td>\n",
       "      <td>09/30/2024</td>\n",
       "      <td>0.46</td>\n",
       "      <td>DODGE &amp; COX STOCK X (DOXGX)</td>\n",
       "      <td>1965-01-04</td>\n",
       "      <td>DOXGX</td>\n",
       "    </tr>\n",
       "    <tr>\n",
       "      <th>1</th>\n",
       "      <td>FID 500 INDEX (FXAIX)02/17/1988</td>\n",
       "      <td>0.61</td>\n",
       "      <td>0.97</td>\n",
       "      <td>23.24</td>\n",
       "      <td>10/11/2024</td>\n",
       "      <td>2.13</td>\n",
       "      <td>5.88</td>\n",
       "      <td>Stock Investments</td>\n",
       "      <td>Large Cap</td>\n",
       "      <td>No</td>\n",
       "      <td>36.33</td>\n",
       "      <td>11.90</td>\n",
       "      <td>15.96</td>\n",
       "      <td>13.37</td>\n",
       "      <td>09/30/2024</td>\n",
       "      <td>0.02</td>\n",
       "      <td>FID 500 INDEX (FXAIX)</td>\n",
       "      <td>1988-02-17</td>\n",
       "      <td>FXAIX</td>\n",
       "    </tr>\n",
       "    <tr>\n",
       "      <th>2</th>\n",
       "      <td>FID CONTRAFUND K6 (FLCNX)05/25/2017</td>\n",
       "      <td>0.88</td>\n",
       "      <td>2.05</td>\n",
       "      <td>33.80</td>\n",
       "      <td>10/11/2024</td>\n",
       "      <td>2.06</td>\n",
       "      <td>4.39</td>\n",
       "      <td>Stock Investments</td>\n",
       "      <td>Large Cap</td>\n",
       "      <td>Yes</td>\n",
       "      <td>45.99</td>\n",
       "      <td>12.54</td>\n",
       "      <td>18.77</td>\n",
       "      <td>16.71</td>\n",
       "      <td>09/30/2024</td>\n",
       "      <td>0.45</td>\n",
       "      <td>FID CONTRAFUND K6 (FLCNX)</td>\n",
       "      <td>2017-05-25</td>\n",
       "      <td>FLCNX</td>\n",
       "    </tr>\n",
       "    <tr>\n",
       "      <th>3</th>\n",
       "      <td>JPM LG CAP GROWTH R6 (JLGMX)02/28/1992</td>\n",
       "      <td>0.60</td>\n",
       "      <td>2.00</td>\n",
       "      <td>29.94</td>\n",
       "      <td>10/11/2024</td>\n",
       "      <td>2.22</td>\n",
       "      <td>2.43</td>\n",
       "      <td>Stock Investments</td>\n",
       "      <td>Large Cap</td>\n",
       "      <td>Yes</td>\n",
       "      <td>44.56</td>\n",
       "      <td>11.64</td>\n",
       "      <td>21.25</td>\n",
       "      <td>17.81</td>\n",
       "      <td>09/30/2024</td>\n",
       "      <td>0.52</td>\n",
       "      <td>JPM LG CAP GROWTH R6 (JLGMX)</td>\n",
       "      <td>1992-02-28</td>\n",
       "      <td>JLGMX</td>\n",
       "    </tr>\n",
       "    <tr>\n",
       "      <th>4</th>\n",
       "      <td>VAN FTSE SOC IDX ADM (VFTAX)01/14/2003</td>\n",
       "      <td>0.57</td>\n",
       "      <td>0.95</td>\n",
       "      <td>22.75</td>\n",
       "      <td>10/11/2024</td>\n",
       "      <td>2.22</td>\n",
       "      <td>5.24</td>\n",
       "      <td>Stock Investments</td>\n",
       "      <td>Large Cap</td>\n",
       "      <td>Yes</td>\n",
       "      <td>37.64</td>\n",
       "      <td>10.41</td>\n",
       "      <td>16.03</td>\n",
       "      <td>13.82</td>\n",
       "      <td>09/30/2024</td>\n",
       "      <td>0.14</td>\n",
       "      <td>VAN FTSE SOC IDX ADM (VFTAX)</td>\n",
       "      <td>2003-01-14</td>\n",
       "      <td>VFTAX</td>\n",
       "    </tr>\n",
       "  </tbody>\n",
       "</table>\n",
       "</div>"
      ],
      "text/plain": [
       "                      Name/Inception Date  Daily   MTD    YTD Returns As Of_x  \\\n",
       "0   DODGE & COX STOCK X (DOXGX)01/04/1965   0.93  1.01  17.55      10/11/2024   \n",
       "1         FID 500 INDEX (FXAIX)02/17/1988   0.61  0.97  23.24      10/11/2024   \n",
       "2     FID CONTRAFUND K6 (FLCNX)05/25/2017   0.88  2.05  33.80      10/11/2024   \n",
       "3  JPM LG CAP GROWTH R6 (JLGMX)02/28/1992   0.60  2.00  29.94      10/11/2024   \n",
       "4  VAN FTSE SOC IDX ADM (VFTAX)01/14/2003   0.57  0.95  22.75      10/11/2024   \n",
       "\n",
       "   1 Month  3 Months        Asset Class   Category Plan-specific option  \\\n",
       "0     0.65      7.19  Stock Investments  Large Cap                  Yes   \n",
       "1     2.13      5.88  Stock Investments  Large Cap                   No   \n",
       "2     2.06      4.39  Stock Investments  Large Cap                  Yes   \n",
       "3     2.22      2.43  Stock Investments  Large Cap                  Yes   \n",
       "4     2.22      5.24  Stock Investments  Large Cap                  Yes   \n",
       "\n",
       "   1 Year  3 Year  5 Year  10 Year/LOF Returns As Of_y  Gross Expense Ratio  \\\n",
       "0   27.83   10.38   14.57        11.29      09/30/2024                 0.46   \n",
       "1   36.33   11.90   15.96        13.37      09/30/2024                 0.02   \n",
       "2   45.99   12.54   18.77        16.71      09/30/2024                 0.45   \n",
       "3   44.56   11.64   21.25        17.81      09/30/2024                 0.52   \n",
       "4   37.64   10.41   16.03        13.82      09/30/2024                 0.14   \n",
       "\n",
       "                           Name Inception Date ticker  \n",
       "0   DODGE & COX STOCK X (DOXGX)     1965-01-04  DOXGX  \n",
       "1         FID 500 INDEX (FXAIX)     1988-02-17  FXAIX  \n",
       "2     FID CONTRAFUND K6 (FLCNX)     2017-05-25  FLCNX  \n",
       "3  JPM LG CAP GROWTH R6 (JLGMX)     1992-02-28  JLGMX  \n",
       "4  VAN FTSE SOC IDX ADM (VFTAX)     2003-01-14  VFTAX  "
      ]
     },
     "execution_count": 18,
     "metadata": {},
     "output_type": "execute_result"
    }
   ],
   "source": [
    "merged_df = pd.merge(cumulative_returns_df, avg_returns_df, on='Name/Inception Date')\n",
    "fid401k_df = pd.merge(merged_df, fees_df, on='Name/Inception Date')\n",
    "fid401k_df['DateString'] = fid401k_df['Name/Inception Date'].str[-10:]\n",
    "fid401k_df['Name'] = fid401k_df['Name/Inception Date'].str[:-10]\n",
    "fid401k_df['Inception Date'] = pd.to_datetime(fid401k_df['DateString'], format=\"%m/%d/%Y\")\n",
    "fid401k_df['ticker'] = fid401k_df['Name/Inception Date'].apply(lambda st: st[st.find(\"(\")+1:st.find(\")\")])\n",
    "del fid401k_df['DateString'] \n",
    "fid401k_df.head()\n"
   ]
  },
  {
   "cell_type": "code",
   "execution_count": 8,
   "metadata": {},
   "outputs": [
    {
     "data": {
      "text/plain": [
       "<Figure size 1000x1600 with 0 Axes>"
      ]
     },
     "metadata": {},
     "output_type": "display_data"
    },
    {
     "data": {
      "image/png": "[encoded data removed]",
      "text/plain": [
       "<Figure size 640x480 with 1 Axes>"
      ]
     },
     "metadata": {},
     "output_type": "display_data"
    }
   ],
   "source": [
    "# Get the Horizontal bar\n",
    "cols = ['Name', 'Gross Expense Ratio', ]\n",
    "#my401k_df[cols].head()\n",
    "chart_df = fid401k_df[cols].copy()\n",
    "#chart_df = chart_df.sort_values('Gross Expense Ratio', ascending=True)\n",
    "chart_df = chart_df.sort_values('Gross Expense Ratio', ascending=False)\n",
    "\n",
    "chart_df = chart_df.set_index('Name')\n",
    "#chart_df.head()\n",
    "\n",
    "plt.figure(figsize=(10, 16))\n",
    "ax = chart_df.plot.barh(fontsize=8)\n",
    "ax.set_facecolor('xkcd:white')\n",
    "ax.set_xlabel('Annual Expense Ratio (%)')\n",
    "ax.set_ylabel('Fund')\n",
    "plt.title('Expense Ratio (Lower is Better)')\n",
    "#plt.savefig('Exp_v_10yr_perf.png', dpi=300, bbox_inches='tight')\n",
    "plt.show()"
   ]
  },
  {
   "cell_type": "code",
   "execution_count": 9,
   "metadata": {},
   "outputs": [
    {
     "data": {
      "text/plain": [
       "Index(['Name/Inception Date', 'Daily', 'MTD', 'YTD', 'Returns As Of_x',\n",
       "       '1 Month', '3 Months', 'Asset Class', 'Category',\n",
       "       'Plan-specific option', '1 Year', '3 Year', '5 Year', '10 Year/LOF',\n",
       "       'Returns As Of_y', 'Gross Expense Ratio', 'Name', 'Inception Date',\n",
       "       'ticker'],\n",
       "      dtype='object')"
      ]
     },
     "execution_count": 9,
     "metadata": {},
     "output_type": "execute_result"
    }
   ],
   "source": [
    "fid401k_df.columns"
   ]
  },
  {
   "cell_type": "code",
   "execution_count": 10,
   "metadata": {},
   "outputs": [
    {
     "data": {
      "application/vnd.plotly.v1+json": {
       "config": {
        "plotlyServerURL": "https://plot.ly"
       },
       "data": [
        {
         "customdata": [
          [
           "DODGE & COX STOCK X (DOXGX)"
          ],
          [
           "FID 500 INDEX (FXAIX)"
          ],
          [
           "FID CONTRAFUND K6 (FLCNX)"
          ],
          [
           "JPM LG CAP GROWTH R6 (JLGMX)"
          ],
          [
           "VAN FTSE SOC IDX ADM (VFTAX)"
          ]
         ],
         "hovertemplate": "Category=Large Cap<br>Fund Inception=%{x}<br>Return 10 Year/LOF (%)=%{y}<br>Gross Expense Ratio=%{marker.size}<br>Name=%{customdata[0]}<extra></extra>",
         "legendgroup": "Large Cap",
         "marker": {
          "color": "#636efa",
          "size": [
           0.46,
           0.02,
           0.45,
           0.52,
           0.14
          ],
          "sizemode": "area",
          "sizeref": 0.001875,
          "symbol": "circle"
         },
         "mode": "markers",
         "name": "Large Cap",
         "orientation": "v",
         "showlegend": true,
         "type": "scatter",
         "x": [
          "1965-01-04T00:00:00",
          "1988-02-17T00:00:00",
          "2017-05-25T00:00:00",
          "1992-02-28T00:00:00",
          "2003-01-14T00:00:00"
         ],
         "xaxis": "x",
         "y": [
          11.29,
          13.37,
          16.71,
          17.81,
          13.82
         ],
         "yaxis": "y"
        },
        {
         "customdata": [
          [
           "AM CENT MD CP VAL R6 (AMDVX)"
          ],
          [
           "EAGLE MID CAP GR F"
          ],
          [
           "FID MID CAP IDX (FSMDX)"
          ]
         ],
         "hovertemplate": "Category=Mid-Cap<br>Fund Inception=%{x}<br>Return 10 Year/LOF (%)=%{y}<br>Gross Expense Ratio=%{marker.size}<br>Name=%{customdata[0]}<extra></extra>",
         "legendgroup": "Mid-Cap",
         "marker": {
          "color": "#EF553B",
          "size": [
           0.63,
           0.48,
           0.03
          ],
          "sizemode": "area",
          "sizeref": 0.001875,
          "symbol": "circle"
         },
         "mode": "markers",
         "name": "Mid-Cap",
         "orientation": "v",
         "showlegend": true,
         "type": "scatter",
         "x": [
          "2004-03-31T00:00:00",
          "2018-08-28T00:00:00",
          "2011-09-08T00:00:00"
         ],
         "xaxis": "x",
         "y": [
          9.33,
          8.81,
          10.19
         ],
         "yaxis": "y"
        },
        {
         "customdata": [
          [
           "FID SM CAP IDX (FSSNX)"
          ],
          [
           "FKLN SM CAP VAL ADV (FVADX)"
          ],
          [
           "J H TRITON N (JGMNX)"
          ]
         ],
         "hovertemplate": "Category=Small Cap<br>Fund Inception=%{x}<br>Return 10 Year/LOF (%)=%{y}<br>Gross Expense Ratio=%{marker.size}<br>Name=%{customdata[0]}<extra></extra>",
         "legendgroup": "Small Cap",
         "marker": {
          "color": "#00cc96",
          "size": [
           0.03,
           0.75,
           0.67
          ],
          "sizemode": "area",
          "sizeref": 0.001875,
          "symbol": "circle"
         },
         "mode": "markers",
         "name": "Small Cap",
         "orientation": "v",
         "showlegend": true,
         "type": "scatter",
         "x": [
          "2011-09-08T00:00:00",
          "1996-03-11T00:00:00",
          "2005-02-25T00:00:00"
         ],
         "xaxis": "x",
         "y": [
          8.93,
          8.98,
          10.04
         ],
         "yaxis": "y"
        },
        {
         "customdata": [
          [
           "AF EUROPAC GROWTH R6 (RERGX)"
          ],
          [
           "AF NEW PERSPECT R6 (RNPGX)"
          ],
          [
           "FID EMRG MKTS IDX (FPADX)"
          ],
          [
           "FID INTL INDEX (FSPSX)"
          ]
         ],
         "hovertemplate": "Category=International<br>Fund Inception=%{x}<br>Return 10 Year/LOF (%)=%{y}<br>Gross Expense Ratio=%{marker.size}<br>Name=%{customdata[0]}<extra></extra>",
         "legendgroup": "International",
         "marker": {
          "color": "#ab63fa",
          "size": [
           0.47,
           0.42,
           0.08,
           0.04
          ],
          "sizemode": "area",
          "sizeref": 0.001875,
          "symbol": "circle"
         },
         "mode": "markers",
         "name": "International",
         "orientation": "v",
         "showlegend": true,
         "type": "scatter",
         "x": [
          "1984-04-16T00:00:00",
          "1973-03-13T00:00:00",
          "2011-09-08T00:00:00",
          "1997-11-05T00:00:00"
         ],
         "xaxis": "x",
         "y": [
          6.26,
          11.77,
          3.76,
          5.87
         ],
         "yaxis": "y"
        },
        {
         "customdata": [
          [
           "VAN REAL EST IDX ADM (VGSLX)"
          ]
         ],
         "hovertemplate": "Category=Specialty<br>Fund Inception=%{x}<br>Return 10 Year/LOF (%)=%{y}<br>Gross Expense Ratio=%{marker.size}<br>Name=%{customdata[0]}<extra></extra>",
         "legendgroup": "Specialty",
         "marker": {
          "color": "#FFA15A",
          "size": [
           0.13
          ],
          "sizemode": "area",
          "sizeref": 0.001875,
          "symbol": "circle"
         },
         "mode": "markers",
         "name": "Specialty",
         "orientation": "v",
         "showlegend": true,
         "type": "scatter",
         "x": [
          "1996-05-13T00:00:00"
         ],
         "xaxis": "x",
         "y": [
          7.32
         ],
         "yaxis": "y"
        },
        {
         "customdata": [
          [
           "FID FDM IDX 2015 PRM (FFYPX)"
          ],
          [
           "FID FDM IDX 2020 PRM (FKIPX)"
          ],
          [
           "FID FDM IDX 2025 PRM (FLIPX)"
          ],
          [
           "FID FDM IDX 2030 PRM (FMKPX)"
          ],
          [
           "FID FDM IDX 2035 PRM (FNIPX)"
          ],
          [
           "FID FDM IDX 2040 PRM (FPIPX)"
          ],
          [
           "FID FDM IDX 2045 PRM (FQIPX)"
          ],
          [
           "FID FDM IDX 2050 PRM (FRLPX)"
          ],
          [
           "FID FDM IDX 2055 PRM (FTYPX)"
          ],
          [
           "FID FDM IDX 2060 PRM (FUIPX)"
          ],
          [
           "FID FDM IDX 2065 PRM (FVIPX)"
          ],
          [
           "FID FDM IDX INC PRM (FAPIX)"
          ]
         ],
         "hovertemplate": "Category=0.0<br>Fund Inception=%{x}<br>Return 10 Year/LOF (%)=%{y}<br>Gross Expense Ratio=%{marker.size}<br>Name=%{customdata[0]}<extra></extra>",
         "legendgroup": "0.0",
         "marker": {
          "color": "#19d3f3",
          "size": [
           0.05,
           0.05,
           0.05,
           0.05,
           0.05,
           0.05,
           0.05,
           0.05,
           0.05,
           0.05,
           0.06,
           0.05
          ],
          "sizemode": "area",
          "sizeref": 0.001875,
          "symbol": "circle"
         },
         "mode": "markers",
         "name": "0.0",
         "orientation": "v",
         "showlegend": true,
         "type": "scatter",
         "x": [
          "2009-10-02T00:00:00",
          "2009-10-02T00:00:00",
          "2009-10-02T00:00:00",
          "2009-10-02T00:00:00",
          "2009-10-02T00:00:00",
          "2009-10-02T00:00:00",
          "2009-10-02T00:00:00",
          "2009-10-02T00:00:00",
          "2011-06-01T00:00:00",
          "2014-08-05T00:00:00",
          "2019-06-28T00:00:00",
          "2009-10-02T00:00:00"
         ],
         "xaxis": "x",
         "y": [
          5.4,
          6,
          6.55,
          7.37,
          8.37,
          9.02,
          9.15,
          9.15,
          9.14,
          9.14,
          10.33,
          3.49
         ],
         "yaxis": "y"
        },
        {
         "customdata": [
          [
           "FID US BOND IDX (FXNAX)"
          ],
          [
           "PGIM GLB TOT RTN R6 (PGTQX)"
          ],
          [
           "PIM TOTAL RT INST (PTTRX)"
          ]
         ],
         "hovertemplate": "Category=Income<br>Fund Inception=%{x}<br>Return 10 Year/LOF (%)=%{y}<br>Gross Expense Ratio=%{marker.size}<br>Name=%{customdata[0]}<extra></extra>",
         "legendgroup": "Income",
         "marker": {
          "color": "#FF6692",
          "size": [
           0.03,
           0.54,
           0.51
          ],
          "sizemode": "area",
          "sizeref": 0.001875,
          "symbol": "circle"
         },
         "mode": "markers",
         "name": "Income",
         "orientation": "v",
         "showlegend": true,
         "type": "scatter",
         "x": [
          "1990-03-08T00:00:00",
          "1986-07-07T00:00:00",
          "1987-05-11T00:00:00"
         ],
         "xaxis": "x",
         "y": [
          1.82,
          1.6,
          2.16
         ],
         "yaxis": "y"
        }
       ],
       "layout": {
        "legend": {
         "itemsizing": "constant",
         "title": {
          "text": "Category"
         },
         "tracegroupgap": 0
        },
        "template": {
         "data": {
          "bar": [
           {
            "error_x": {
             "color": "#2a3f5f"
            },
            "error_y": {
             "color": "#2a3f5f"
            },
            "marker": {
             "line": {
              "color": "#E5ECF6",
              "width": 0.5
             },
             "pattern": {
              "fillmode": "overlay",
              "size": 10,
              "solidity": 0.2
             }
            },
            "type": "bar"
           }
          ],
          "barpolar": [
           {
            "marker": {
             "line": {
              "color": "#E5ECF6",
              "width": 0.5
             },
             "pattern": {
              "fillmode": "overlay",
              "size": 10,
              "solidity": 0.2
             }
            },
            "type": "barpolar"
           }
          ],
          "carpet": [
           {
            "aaxis": {
             "endlinecolor": "#2a3f5f",
             "gridcolor": "white",
             "linecolor": "white",
             "minorgridcolor": "white",
             "startlinecolor": "#2a3f5f"
            },
            "baxis": {
             "endlinecolor": "#2a3f5f",
             "gridcolor": "white",
             "linecolor": "white",
             "minorgridcolor": "white",
             "startlinecolor": "#2a3f5f"
            },
            "type": "carpet"
           }
          ],
          "choropleth": [
           {
            "colorbar": {
             "outlinewidth": 0,
             "ticks": ""
            },
            "type": "choropleth"
           }
          ],
          "contour": [
           {
            "colorbar": {
             "outlinewidth": 0,
             "ticks": ""
            },
            "colorscale": [
             [
              0,
              "#0d0887"
             ],
             [
              0.1111111111111111,
              "#46039f"
             ],
             [
              0.2222222222222222,
              "#7201a8"
             ],
             [
              0.3333333333333333,
              "#9c179e"
             ],
             [
              0.4444444444444444,
              "#bd3786"
             ],
             [
              0.5555555555555556,
              "#d8576b"
             ],
             [
              0.6666666666666666,
              "#ed7953"
             ],
             [
              0.7777777777777778,
              "#fb9f3a"
             ],
             [
              0.8888888888888888,
              "#fdca26"
             ],
             [
              1,
              "#f0f921"
             ]
            ],
            "type": "contour"
           }
          ],
          "contourcarpet": [
           {
            "colorbar": {
             "outlinewidth": 0,
             "ticks": ""
            },
            "type": "contourcarpet"
           }
          ],
          "heatmap": [
           {
            "colorbar": {
             "outlinewidth": 0,
             "ticks": ""
            },
            "colorscale": [
             [
              0,
              "#0d0887"
             ],
             [
              0.1111111111111111,
              "#46039f"
             ],
             [
              0.2222222222222222,
              "#7201a8"
             ],
             [
              0.3333333333333333,
              "#9c179e"
             ],
             [
              0.4444444444444444,
              "#bd3786"
             ],
             [
              0.5555555555555556,
              "#d8576b"
             ],
             [
              0.6666666666666666,
              "#ed7953"
             ],
             [
              0.7777777777777778,
              "#fb9f3a"
             ],
             [
              0.8888888888888888,
              "#fdca26"
             ],
             [
              1,
              "#f0f921"
             ]
            ],
            "type": "heatmap"
           }
          ],
          "heatmapgl": [
           {
            "colorbar": {
             "outlinewidth": 0,
             "ticks": ""
            },
            "colorscale": [
             [
              0,
              "#0d0887"
             ],
             [
              0.1111111111111111,
              "#46039f"
             ],
             [
              0.2222222222222222,
              "#7201a8"
             ],
             [
              0.3333333333333333,
              "#9c179e"
             ],
             [
              0.4444444444444444,
              "#bd3786"
             ],
             [
              0.5555555555555556,
              "#d8576b"
             ],
             [
              0.6666666666666666,
              "#ed7953"
             ],
             [
              0.7777777777777778,
              "#fb9f3a"
             ],
             [
              0.8888888888888888,
              "#fdca26"
             ],
             [
              1,
              "#f0f921"
             ]
            ],
            "type": "heatmapgl"
           }
          ],
          "histogram": [
           {
            "marker": {
             "pattern": {
              "fillmode": "overlay",
              "size": 10,
              "solidity": 0.2
             }
            },
            "type": "histogram"
           }
          ],
          "histogram2d": [
           {
            "colorbar": {
             "outlinewidth": 0,
             "ticks": ""
            },
            "colorscale": [
             [
              0,
              "#0d0887"
             ],
             [
              0.1111111111111111,
              "#46039f"
             ],
             [
              0.2222222222222222,
              "#7201a8"
             ],
             [
              0.3333333333333333,
              "#9c179e"
             ],
             [
              0.4444444444444444,
              "#bd3786"
             ],
             [
              0.5555555555555556,
              "#d8576b"
             ],
             [
              0.6666666666666666,
              "#ed7953"
             ],
             [
              0.7777777777777778,
              "#fb9f3a"
             ],
             [
              0.8888888888888888,
              "#fdca26"
             ],
             [
              1,
              "#f0f921"
             ]
            ],
            "type": "histogram2d"
           }
          ],
          "histogram2dcontour": [
           {
            "colorbar": {
             "outlinewidth": 0,
             "ticks": ""
            },
            "colorscale": [
             [
              0,
              "#0d0887"
             ],
             [
              0.1111111111111111,
              "#46039f"
             ],
             [
              0.2222222222222222,
              "#7201a8"
             ],
             [
              0.3333333333333333,
              "#9c179e"
             ],
             [
              0.4444444444444444,
              "#bd3786"
             ],
             [
              0.5555555555555556,
              "#d8576b"
             ],
             [
              0.6666666666666666,
              "#ed7953"
             ],
             [
              0.7777777777777778,
              "#fb9f3a"
             ],
             [
              0.8888888888888888,
              "#fdca26"
             ],
             [
              1,
              "#f0f921"
             ]
            ],
            "type": "histogram2dcontour"
           }
          ],
          "mesh3d": [
           {
            "colorbar": {
             "outlinewidth": 0,
             "ticks": ""
            },
            "type": "mesh3d"
           }
          ],
          "parcoords": [
           {
            "line": {
             "colorbar": {
              "outlinewidth": 0,
              "ticks": ""
             }
            },
            "type": "parcoords"
           }
          ],
          "pie": [
           {
            "automargin": true,
            "type": "pie"
           }
          ],
          "scatter": [
           {
            "fillpattern": {
             "fillmode": "overlay",
             "size": 10,
             "solidity": 0.2
            },
            "type": "scatter"
           }
          ],
          "scatter3d": [
           {
            "line": {
             "colorbar": {
              "outlinewidth": 0,
              "ticks": ""
             }
            },
            "marker": {
             "colorbar": {
              "outlinewidth": 0,
              "ticks": ""
             }
            },
            "type": "scatter3d"
           }
          ],
          "scattercarpet": [
           {
            "marker": {
             "colorbar": {
              "outlinewidth": 0,
              "ticks": ""
             }
            },
            "type": "scattercarpet"
           }
          ],
          "scattergeo": [
           {
            "marker": {
             "colorbar": {
              "outlinewidth": 0,
              "ticks": ""
             }
            },
            "type": "scattergeo"
           }
          ],
          "scattergl": [
           {
            "marker": {
             "colorbar": {
              "outlinewidth": 0,
              "ticks": ""
             }
            },
            "type": "scattergl"
           }
          ],
          "scattermapbox": [
           {
            "marker": {
             "colorbar": {
              "outlinewidth": 0,
              "ticks": ""
             }
            },
            "type": "scattermapbox"
           }
          ],
          "scatterpolar": [
           {
            "marker": {
             "colorbar": {
              "outlinewidth": 0,
              "ticks": ""
             }
            },
            "type": "scatterpolar"
           }
          ],
          "scatterpolargl": [
           {
            "marker": {
             "colorbar": {
              "outlinewidth": 0,
              "ticks": ""
             }
            },
            "type": "scatterpolargl"
           }
          ],
          "scatterternary": [
           {
            "marker": {
             "colorbar": {
              "outlinewidth": 0,
              "ticks": ""
             }
            },
            "type": "scatterternary"
           }
          ],
          "surface": [
           {
            "colorbar": {
             "outlinewidth": 0,
             "ticks": ""
            },
            "colorscale": [
             [
              0,
              "#0d0887"
             ],
             [
              0.1111111111111111,
              "#46039f"
             ],
             [
              0.2222222222222222,
              "#7201a8"
             ],
             [
              0.3333333333333333,
              "#9c179e"
             ],
             [
              0.4444444444444444,
              "#bd3786"
             ],
             [
              0.5555555555555556,
              "#d8576b"
             ],
             [
              0.6666666666666666,
              "#ed7953"
             ],
             [
              0.7777777777777778,
              "#fb9f3a"
             ],
             [
              0.8888888888888888,
              "#fdca26"
             ],
             [
              1,
              "#f0f921"
             ]
            ],
            "type": "surface"
           }
          ],
          "table": [
           {
            "cells": {
             "fill": {
              "color": "#EBF0F8"
             },
             "line": {
              "color": "white"
             }
            },
            "header": {
             "fill": {
              "color": "#C8D4E3"
             },
             "line": {
              "color": "white"
             }
            },
            "type": "table"
           }
          ]
         },
         "layout": {
          "annotationdefaults": {
           "arrowcolor": "#2a3f5f",
           "arrowhead": 0,
           "arrowwidth": 1
          },
          "autotypenumbers": "strict",
          "coloraxis": {
           "colorbar": {
            "outlinewidth": 0,
            "ticks": ""
           }
          },
          "colorscale": {
           "diverging": [
            [
             0,
             "#8e0152"
            ],
            [
             0.1,
             "#c51b7d"
            ],
            [
             0.2,
             "#de77ae"
            ],
            [
             0.3,
             "#f1b6da"
            ],
            [
             0.4,
             "#fde0ef"
            ],
            [
             0.5,
             "#f7f7f7"
            ],
            [
             0.6,
             "#e6f5d0"
            ],
            [
             0.7,
             "#b8e186"
            ],
            [
             0.8,
             "#7fbc41"
            ],
            [
             0.9,
             "#4d9221"
            ],
            [
             1,
             "#276419"
            ]
           ],
           "sequential": [
            [
             0,
             "#0d0887"
            ],
            [
             0.1111111111111111,
             "#46039f"
            ],
            [
             0.2222222222222222,
             "#7201a8"
            ],
            [
             0.3333333333333333,
             "#9c179e"
            ],
            [
             0.4444444444444444,
             "#bd3786"
            ],
            [
             0.5555555555555556,
             "#d8576b"
            ],
            [
             0.6666666666666666,
             "#ed7953"
            ],
            [
             0.7777777777777778,
             "#fb9f3a"
            ],
            [
             0.8888888888888888,
             "#fdca26"
            ],
            [
             1,
             "#f0f921"
            ]
           ],
           "sequentialminus": [
            [
             0,
             "#0d0887"
            ],
            [
             0.1111111111111111,
             "#46039f"
            ],
            [
             0.2222222222222222,
             "#7201a8"
            ],
            [
             0.3333333333333333,
             "#9c179e"
            ],
            [
             0.4444444444444444,
             "#bd3786"
            ],
            [
             0.5555555555555556,
             "#d8576b"
            ],
            [
             0.6666666666666666,
             "#ed7953"
            ],
            [
             0.7777777777777778,
             "#fb9f3a"
            ],
            [
             0.8888888888888888,
             "#fdca26"
            ],
            [
             1,
             "#f0f921"
            ]
           ]
          },
          "colorway": [
           "#636efa",
           "#EF553B",
           "#00cc96",
           "#ab63fa",
           "#FFA15A",
           "#19d3f3",
           "#FF6692",
           "#B6E880",
           "#FF97FF",
           "#FECB52"
          ],
          "font": {
           "color": "#2a3f5f"
          },
          "geo": {
           "bgcolor": "white",
           "lakecolor": "white",
           "landcolor": "#E5ECF6",
           "showlakes": true,
           "showland": true,
           "subunitcolor": "white"
          },
          "hoverlabel": {
           "align": "left"
          },
          "hovermode": "closest",
          "mapbox": {
           "style": "light"
          },
          "paper_bgcolor": "white",
          "plot_bgcolor": "#E5ECF6",
          "polar": {
           "angularaxis": {
            "gridcolor": "white",
            "linecolor": "white",
            "ticks": ""
           },
           "bgcolor": "#E5ECF6",
           "radialaxis": {
            "gridcolor": "white",
            "linecolor": "white",
            "ticks": ""
           }
          },
          "scene": {
           "xaxis": {
            "backgroundcolor": "#E5ECF6",
            "gridcolor": "white",
            "gridwidth": 2,
            "linecolor": "white",
            "showbackground": true,
            "ticks": "",
            "zerolinecolor": "white"
           },
           "yaxis": {
            "backgroundcolor": "#E5ECF6",
            "gridcolor": "white",
            "gridwidth": 2,
            "linecolor": "white",
            "showbackground": true,
            "ticks": "",
            "zerolinecolor": "white"
           },
           "zaxis": {
            "backgroundcolor": "#E5ECF6",
            "gridcolor": "white",
            "gridwidth": 2,
            "linecolor": "white",
            "showbackground": true,
            "ticks": "",
            "zerolinecolor": "white"
           }
          },
          "shapedefaults": {
           "line": {
            "color": "#2a3f5f"
           }
          },
          "ternary": {
           "aaxis": {
            "gridcolor": "white",
            "linecolor": "white",
            "ticks": ""
           },
           "baxis": {
            "gridcolor": "white",
            "linecolor": "white",
            "ticks": ""
           },
           "bgcolor": "#E5ECF6",
           "caxis": {
            "gridcolor": "white",
            "linecolor": "white",
            "ticks": ""
           }
          },
          "title": {
           "x": 0.05
          },
          "xaxis": {
           "automargin": true,
           "gridcolor": "white",
           "linecolor": "white",
           "ticks": "",
           "title": {
            "standoff": 15
           },
           "zerolinecolor": "white",
           "zerolinewidth": 2
          },
          "yaxis": {
           "automargin": true,
           "gridcolor": "white",
           "linecolor": "white",
           "ticks": "",
           "title": {
            "standoff": 15
           },
           "zerolinecolor": "white",
           "zerolinewidth": 2
          }
         }
        },
        "title": {
         "text": "Performance v. Age of Fund (Expense Ratio=Size)"
        },
        "xaxis": {
         "anchor": "y",
         "domain": [
          0,
          1
         ],
         "title": {
          "text": "Fund Inception"
         }
        },
        "yaxis": {
         "anchor": "x",
         "domain": [
          0,
          1
         ],
         "title": {
          "text": "Return 10 Year/LOF (%)"
         }
        }
       }
      }
     },
     "metadata": {},
     "output_type": "display_data"
    }
   ],
   "source": [
    "fig = px.scatter(fid401k_df, x=\"Inception Date\", y=\"10 Year/LOF\", color=\"Category\",\n",
    "                 size='Gross Expense Ratio', hover_data=['Name'],\n",
    "                    labels={\n",
    "                     \"Inception Date\": \"Fund Inception\",\n",
    "                     \"10 Year/LOF\": \"Return 10 Year/LOF (%)\",\n",
    "                 },\n",
    "                title=\"Performance v. Age of Fund (Expense Ratio=Size)\")\n",
    "fig.show()"
   ]
  },
  {
   "cell_type": "code",
   "execution_count": 11,
   "metadata": {},
   "outputs": [
    {
     "data": {
      "application/vnd.plotly.v1+json": {
       "config": {
        "plotlyServerURL": "https://plot.ly"
       },
       "data": [
        {
         "customdata": [
          [
           "DODGE & COX STOCK X (DOXGX)"
          ],
          [
           "FID 500 INDEX (FXAIX)"
          ],
          [
           "FID CONTRAFUND K6 (FLCNX)"
          ],
          [
           "JPM LG CAP GROWTH R6 (JLGMX)"
          ],
          [
           "VAN FTSE SOC IDX ADM (VFTAX)"
          ]
         ],
         "hovertemplate": "Category=Large Cap<br>Return YTD (%)=%{x}<br>Return 5 Year(%)=%{y}<br>Gross Expense Ratio=%{marker.size}<br>Name=%{customdata[0]}<extra></extra>",
         "legendgroup": "Large Cap",
         "marker": {
          "color": "#636efa",
          "size": [
           0.46,
           0.02,
           0.45,
           0.52,
           0.14
          ],
          "sizemode": "area",
          "sizeref": 0.001875,
          "symbol": "circle"
         },
         "mode": "markers",
         "name": "Large Cap",
         "orientation": "v",
         "showlegend": true,
         "type": "scatter",
         "x": [
          17.55,
          23.24,
          33.8,
          29.94,
          22.75
         ],
         "xaxis": "x",
         "y": [
          14.57,
          15.96,
          18.77,
          21.25,
          16.03
         ],
         "yaxis": "y"
        },
        {
         "customdata": [
          [
           "AM CENT MD CP VAL R6 (AMDVX)"
          ],
          [
           "EAGLE MID CAP GR F"
          ],
          [
           "FID MID CAP IDX (FSMDX)"
          ]
         ],
         "hovertemplate": "Category=Mid-Cap<br>Return YTD (%)=%{x}<br>Return 5 Year(%)=%{y}<br>Gross Expense Ratio=%{marker.size}<br>Name=%{customdata[0]}<extra></extra>",
         "legendgroup": "Mid-Cap",
         "marker": {
          "color": "#EF553B",
          "size": [
           0.63,
           0.48,
           0.03
          ],
          "sizemode": "area",
          "sizeref": 0.001875,
          "symbol": "circle"
         },
         "mode": "markers",
         "name": "Mid-Cap",
         "orientation": "v",
         "showlegend": true,
         "type": "scatter",
         "x": [
          10.57,
          9.73,
          15.57
         ],
         "xaxis": "x",
         "y": [
          9.66,
          9.89,
          11.3
         ],
         "yaxis": "y"
        },
        {
         "customdata": [
          [
           "FID SM CAP IDX (FSSNX)"
          ],
          [
           "FKLN SM CAP VAL ADV (FVADX)"
          ],
          [
           "J H TRITON N (JGMNX)"
          ]
         ],
         "hovertemplate": "Category=Small Cap<br>Return YTD (%)=%{x}<br>Return 5 Year(%)=%{y}<br>Gross Expense Ratio=%{marker.size}<br>Name=%{customdata[0]}<extra></extra>",
         "legendgroup": "Small Cap",
         "marker": {
          "color": "#00cc96",
          "size": [
           0.03,
           0.75,
           0.67
          ],
          "sizemode": "area",
          "sizeref": 0.001875,
          "symbol": "circle"
         },
         "mode": "markers",
         "name": "Small Cap",
         "orientation": "v",
         "showlegend": true,
         "type": "scatter",
         "x": [
          11.49,
          11.11,
          12.17
         ],
         "xaxis": "x",
         "y": [
          9.48,
          10.25,
          7.44
         ],
         "yaxis": "y"
        },
        {
         "customdata": [
          [
           "AF EUROPAC GROWTH R6 (RERGX)"
          ],
          [
           "AF NEW PERSPECT R6 (RNPGX)"
          ],
          [
           "FID EMRG MKTS IDX (FPADX)"
          ],
          [
           "FID INTL INDEX (FSPSX)"
          ]
         ],
         "hovertemplate": "Category=International<br>Return YTD (%)=%{x}<br>Return 5 Year(%)=%{y}<br>Gross Expense Ratio=%{marker.size}<br>Name=%{customdata[0]}<extra></extra>",
         "legendgroup": "International",
         "marker": {
          "color": "#ab63fa",
          "size": [
           0.47,
           0.42,
           0.08,
           0.04
          ],
          "sizemode": "area",
          "sizeref": 0.001875,
          "symbol": "circle"
         },
         "mode": "markers",
         "name": "International",
         "orientation": "v",
         "showlegend": true,
         "type": "scatter",
         "x": [
          12.17,
          18.84,
          15.82,
          11.28
         ],
         "xaxis": "x",
         "y": [
          7.52,
          13.85,
          5.22,
          8.36
         ],
         "yaxis": "y"
        },
        {
         "customdata": [
          [
           "VAN REAL EST IDX ADM (VGSLX)"
          ]
         ],
         "hovertemplate": "Category=Specialty<br>Return YTD (%)=%{x}<br>Return 5 Year(%)=%{y}<br>Gross Expense Ratio=%{marker.size}<br>Name=%{customdata[0]}<extra></extra>",
         "legendgroup": "Specialty",
         "marker": {
          "color": "#FFA15A",
          "size": [
           0.13
          ],
          "sizemode": "area",
          "sizeref": 0.001875,
          "symbol": "circle"
         },
         "mode": "markers",
         "name": "Specialty",
         "orientation": "v",
         "showlegend": true,
         "type": "scatter",
         "x": [
          10.49
         ],
         "xaxis": "x",
         "y": [
          4.77
         ],
         "yaxis": "y"
        },
        {
         "customdata": [
          [
           "FID FDM IDX 2015 PRM (FFYPX)"
          ],
          [
           "FID FDM IDX 2020 PRM (FKIPX)"
          ],
          [
           "FID FDM IDX 2025 PRM (FLIPX)"
          ],
          [
           "FID FDM IDX 2030 PRM (FMKPX)"
          ],
          [
           "FID FDM IDX 2035 PRM (FNIPX)"
          ],
          [
           "FID FDM IDX 2040 PRM (FPIPX)"
          ],
          [
           "FID FDM IDX 2045 PRM (FQIPX)"
          ],
          [
           "FID FDM IDX 2050 PRM (FRLPX)"
          ],
          [
           "FID FDM IDX 2055 PRM (FTYPX)"
          ],
          [
           "FID FDM IDX 2060 PRM (FUIPX)"
          ],
          [
           "FID FDM IDX 2065 PRM (FVIPX)"
          ],
          [
           "FID FDM IDX INC PRM (FAPIX)"
          ]
         ],
         "hovertemplate": "Category=0.0<br>Return YTD (%)=%{x}<br>Return 5 Year(%)=%{y}<br>Gross Expense Ratio=%{marker.size}<br>Name=%{customdata[0]}<extra></extra>",
         "legendgroup": "0.0",
         "marker": {
          "color": "#19d3f3",
          "size": [
           0.05,
           0.05,
           0.05,
           0.05,
           0.05,
           0.05,
           0.05,
           0.05,
           0.05,
           0.05,
           0.06,
           0.05
          ],
          "sizemode": "area",
          "sizeref": 0.001875,
          "symbol": "circle"
         },
         "mode": "markers",
         "name": "0.0",
         "orientation": "v",
         "showlegend": true,
         "type": "scatter",
         "x": [
          8.39,
          9.65,
          10.7,
          11.69,
          13.31,
          15.5,
          16.38,
          16.36,
          16.36,
          16.39,
          16.41,
          6.06
         ],
         "xaxis": "x",
         "y": [
          5.19,
          6,
          6.76,
          7.66,
          9.18,
          10.5,
          10.74,
          10.75,
          10.73,
          10.75,
          10.74,
          3.2
         ],
         "yaxis": "y"
        },
        {
         "customdata": [
          [
           "FID US BOND IDX (FXNAX)"
          ],
          [
           "PGIM GLB TOT RTN R6 (PGTQX)"
          ],
          [
           "PIM TOTAL RT INST (PTTRX)"
          ]
         ],
         "hovertemplate": "Category=Income<br>Return YTD (%)=%{x}<br>Return 5 Year(%)=%{y}<br>Gross Expense Ratio=%{marker.size}<br>Name=%{customdata[0]}<extra></extra>",
         "legendgroup": "Income",
         "marker": {
          "color": "#FF6692",
          "size": [
           0.03,
           0.54,
           0.51
          ],
          "sizemode": "area",
          "sizeref": 0.001875,
          "symbol": "circle"
         },
         "mode": "markers",
         "name": "Income",
         "orientation": "v",
         "showlegend": true,
         "type": "scatter",
         "x": [
          3.02,
          3.93,
          4.33
         ],
         "xaxis": "x",
         "y": [
          0.34,
          -0.92,
          0.77
         ],
         "yaxis": "y"
        }
       ],
       "layout": {
        "legend": {
         "itemsizing": "constant",
         "title": {
          "text": "Category"
         },
         "tracegroupgap": 0
        },
        "template": {
         "data": {
          "bar": [
           {
            "error_x": {
             "color": "#2a3f5f"
            },
            "error_y": {
             "color": "#2a3f5f"
            },
            "marker": {
             "line": {
              "color": "#E5ECF6",
              "width": 0.5
             },
             "pattern": {
              "fillmode": "overlay",
              "size": 10,
              "solidity": 0.2
             }
            },
            "type": "bar"
           }
          ],
          "barpolar": [
           {
            "marker": {
             "line": {
              "color": "#E5ECF6",
              "width": 0.5
             },
             "pattern": {
              "fillmode": "overlay",
              "size": 10,
              "solidity": 0.2
             }
            },
            "type": "barpolar"
           }
          ],
          "carpet": [
           {
            "aaxis": {
             "endlinecolor": "#2a3f5f",
             "gridcolor": "white",
             "linecolor": "white",
             "minorgridcolor": "white",
             "startlinecolor": "#2a3f5f"
            },
            "baxis": {
             "endlinecolor": "#2a3f5f",
             "gridcolor": "white",
             "linecolor": "white",
             "minorgridcolor": "white",
             "startlinecolor": "#2a3f5f"
            },
            "type": "carpet"
           }
          ],
          "choropleth": [
           {
            "colorbar": {
             "outlinewidth": 0,
             "ticks": ""
            },
            "type": "choropleth"
           }
          ],
          "contour": [
           {
            "colorbar": {
             "outlinewidth": 0,
             "ticks": ""
            },
            "colorscale": [
             [
              0,
              "#0d0887"
             ],
             [
              0.1111111111111111,
              "#46039f"
             ],
             [
              0.2222222222222222,
              "#7201a8"
             ],
             [
              0.3333333333333333,
              "#9c179e"
             ],
             [
              0.4444444444444444,
              "#bd3786"
             ],
             [
              0.5555555555555556,
              "#d8576b"
             ],
             [
              0.6666666666666666,
              "#ed7953"
             ],
             [
              0.7777777777777778,
              "#fb9f3a"
             ],
             [
              0.8888888888888888,
              "#fdca26"
             ],
             [
              1,
              "#f0f921"
             ]
            ],
            "type": "contour"
           }
          ],
          "contourcarpet": [
           {
            "colorbar": {
             "outlinewidth": 0,
             "ticks": ""
            },
            "type": "contourcarpet"
           }
          ],
          "heatmap": [
           {
            "colorbar": {
             "outlinewidth": 0,
             "ticks": ""
            },
            "colorscale": [
             [
              0,
              "#0d0887"
             ],
             [
              0.1111111111111111,
              "#46039f"
             ],
             [
              0.2222222222222222,
              "#7201a8"
             ],
             [
              0.3333333333333333,
              "#9c179e"
             ],
             [
              0.4444444444444444,
              "#bd3786"
             ],
             [
              0.5555555555555556,
              "#d8576b"
             ],
             [
              0.6666666666666666,
              "#ed7953"
             ],
             [
              0.7777777777777778,
              "#fb9f3a"
             ],
             [
              0.8888888888888888,
              "#fdca26"
             ],
             [
              1,
              "#f0f921"
             ]
            ],
            "type": "heatmap"
           }
          ],
          "heatmapgl": [
           {
            "colorbar": {
             "outlinewidth": 0,
             "ticks": ""
            },
            "colorscale": [
             [
              0,
              "#0d0887"
             ],
             [
              0.1111111111111111,
              "#46039f"
             ],
             [
              0.2222222222222222,
              "#7201a8"
             ],
             [
              0.3333333333333333,
              "#9c179e"
             ],
             [
              0.4444444444444444,
              "#bd3786"
             ],
             [
              0.5555555555555556,
              "#d8576b"
             ],
             [
              0.6666666666666666,
              "#ed7953"
             ],
             [
              0.7777777777777778,
              "#fb9f3a"
             ],
             [
              0.8888888888888888,
              "#fdca26"
             ],
             [
              1,
              "#f0f921"
             ]
            ],
            "type": "heatmapgl"
           }
          ],
          "histogram": [
           {
            "marker": {
             "pattern": {
              "fillmode": "overlay",
              "size": 10,
              "solidity": 0.2
             }
            },
            "type": "histogram"
           }
          ],
          "histogram2d": [
           {
            "colorbar": {
             "outlinewidth": 0,
             "ticks": ""
            },
            "colorscale": [
             [
              0,
              "#0d0887"
             ],
             [
              0.1111111111111111,
              "#46039f"
             ],
             [
              0.2222222222222222,
              "#7201a8"
             ],
             [
              0.3333333333333333,
              "#9c179e"
             ],
             [
              0.4444444444444444,
              "#bd3786"
             ],
             [
              0.5555555555555556,
              "#d8576b"
             ],
             [
              0.6666666666666666,
              "#ed7953"
             ],
             [
              0.7777777777777778,
              "#fb9f3a"
             ],
             [
              0.8888888888888888,
              "#fdca26"
             ],
             [
              1,
              "#f0f921"
             ]
            ],
            "type": "histogram2d"
           }
          ],
          "histogram2dcontour": [
           {
            "colorbar": {
             "outlinewidth": 0,
             "ticks": ""
            },
            "colorscale": [
             [
              0,
              "#0d0887"
             ],
             [
              0.1111111111111111,
              "#46039f"
             ],
             [
              0.2222222222222222,
              "#7201a8"
             ],
             [
              0.3333333333333333,
              "#9c179e"
             ],
             [
              0.4444444444444444,
              "#bd3786"
             ],
             [
              0.5555555555555556,
              "#d8576b"
             ],
             [
              0.6666666666666666,
              "#ed7953"
             ],
             [
              0.7777777777777778,
              "#fb9f3a"
             ],
             [
              0.8888888888888888,
              "#fdca26"
             ],
             [
              1,
              "#f0f921"
             ]
            ],
            "type": "histogram2dcontour"
           }
          ],
          "mesh3d": [
           {
            "colorbar": {
             "outlinewidth": 0,
             "ticks": ""
            },
            "type": "mesh3d"
           }
          ],
          "parcoords": [
           {
            "line": {
             "colorbar": {
              "outlinewidth": 0,
              "ticks": ""
             }
            },
            "type": "parcoords"
           }
          ],
          "pie": [
           {
            "automargin": true,
            "type": "pie"
           }
          ],
          "scatter": [
           {
            "fillpattern": {
             "fillmode": "overlay",
             "size": 10,
             "solidity": 0.2
            },
            "type": "scatter"
           }
          ],
          "scatter3d": [
           {
            "line": {
             "colorbar": {
              "outlinewidth": 0,
              "ticks": ""
             }
            },
            "marker": {
             "colorbar": {
              "outlinewidth": 0,
              "ticks": ""
             }
            },
            "type": "scatter3d"
           }
          ],
          "scattercarpet": [
           {
            "marker": {
             "colorbar": {
              "outlinewidth": 0,
              "ticks": ""
             }
            },
            "type": "scattercarpet"
           }
          ],
          "scattergeo": [
           {
            "marker": {
             "colorbar": {
              "outlinewidth": 0,
              "ticks": ""
             }
            },
            "type": "scattergeo"
           }
          ],
          "scattergl": [
           {
            "marker": {
             "colorbar": {
              "outlinewidth": 0,
              "ticks": ""
             }
            },
            "type": "scattergl"
           }
          ],
          "scattermapbox": [
           {
            "marker": {
             "colorbar": {
              "outlinewidth": 0,
              "ticks": ""
             }
            },
            "type": "scattermapbox"
           }
          ],
          "scatterpolar": [
           {
            "marker": {
             "colorbar": {
              "outlinewidth": 0,
              "ticks": ""
             }
            },
            "type": "scatterpolar"
           }
          ],
          "scatterpolargl": [
           {
            "marker": {
             "colorbar": {
              "outlinewidth": 0,
              "ticks": ""
             }
            },
            "type": "scatterpolargl"
           }
          ],
          "scatterternary": [
           {
            "marker": {
             "colorbar": {
              "outlinewidth": 0,
              "ticks": ""
             }
            },
            "type": "scatterternary"
           }
          ],
          "surface": [
           {
            "colorbar": {
             "outlinewidth": 0,
             "ticks": ""
            },
            "colorscale": [
             [
              0,
              "#0d0887"
             ],
             [
              0.1111111111111111,
              "#46039f"
             ],
             [
              0.2222222222222222,
              "#7201a8"
             ],
             [
              0.3333333333333333,
              "#9c179e"
             ],
             [
              0.4444444444444444,
              "#bd3786"
             ],
             [
              0.5555555555555556,
              "#d8576b"
             ],
             [
              0.6666666666666666,
              "#ed7953"
             ],
             [
              0.7777777777777778,
              "#fb9f3a"
             ],
             [
              0.8888888888888888,
              "#fdca26"
             ],
             [
              1,
              "#f0f921"
             ]
            ],
            "type": "surface"
           }
          ],
          "table": [
           {
            "cells": {
             "fill": {
              "color": "#EBF0F8"
             },
             "line": {
              "color": "white"
             }
            },
            "header": {
             "fill": {
              "color": "#C8D4E3"
             },
             "line": {
              "color": "white"
             }
            },
            "type": "table"
           }
          ]
         },
         "layout": {
          "annotationdefaults": {
           "arrowcolor": "#2a3f5f",
           "arrowhead": 0,
           "arrowwidth": 1
          },
          "autotypenumbers": "strict",
          "coloraxis": {
           "colorbar": {
            "outlinewidth": 0,
            "ticks": ""
           }
          },
          "colorscale": {
           "diverging": [
            [
             0,
             "#8e0152"
            ],
            [
             0.1,
             "#c51b7d"
            ],
            [
             0.2,
             "#de77ae"
            ],
            [
             0.3,
             "#f1b6da"
            ],
            [
             0.4,
             "#fde0ef"
            ],
            [
             0.5,
             "#f7f7f7"
            ],
            [
             0.6,
             "#e6f5d0"
            ],
            [
             0.7,
             "#b8e186"
            ],
            [
             0.8,
             "#7fbc41"
            ],
            [
             0.9,
             "#4d9221"
            ],
            [
             1,
             "#276419"
            ]
           ],
           "sequential": [
            [
             0,
             "#0d0887"
            ],
            [
             0.1111111111111111,
             "#46039f"
            ],
            [
             0.2222222222222222,
             "#7201a8"
            ],
            [
             0.3333333333333333,
             "#9c179e"
            ],
            [
             0.4444444444444444,
             "#bd3786"
            ],
            [
             0.5555555555555556,
             "#d8576b"
            ],
            [
             0.6666666666666666,
             "#ed7953"
            ],
            [
             0.7777777777777778,
             "#fb9f3a"
            ],
            [
             0.8888888888888888,
             "#fdca26"
            ],
            [
             1,
             "#f0f921"
            ]
           ],
           "sequentialminus": [
            [
             0,
             "#0d0887"
            ],
            [
             0.1111111111111111,
             "#46039f"
            ],
            [
             0.2222222222222222,
             "#7201a8"
            ],
            [
             0.3333333333333333,
             "#9c179e"
            ],
            [
             0.4444444444444444,
             "#bd3786"
            ],
            [
             0.5555555555555556,
             "#d8576b"
            ],
            [
             0.6666666666666666,
             "#ed7953"
            ],
            [
             0.7777777777777778,
             "#fb9f3a"
            ],
            [
             0.8888888888888888,
             "#fdca26"
            ],
            [
             1,
             "#f0f921"
            ]
           ]
          },
          "colorway": [
           "#636efa",
           "#EF553B",
           "#00cc96",
           "#ab63fa",
           "#FFA15A",
           "#19d3f3",
           "#FF6692",
           "#B6E880",
           "#FF97FF",
           "#FECB52"
          ],
          "font": {
           "color": "#2a3f5f"
          },
          "geo": {
           "bgcolor": "white",
           "lakecolor": "white",
           "landcolor": "#E5ECF6",
           "showlakes": true,
           "showland": true,
           "subunitcolor": "white"
          },
          "hoverlabel": {
           "align": "left"
          },
          "hovermode": "closest",
          "mapbox": {
           "style": "light"
          },
          "paper_bgcolor": "white",
          "plot_bgcolor": "#E5ECF6",
          "polar": {
           "angularaxis": {
            "gridcolor": "white",
            "linecolor": "white",
            "ticks": ""
           },
           "bgcolor": "#E5ECF6",
           "radialaxis": {
            "gridcolor": "white",
            "linecolor": "white",
            "ticks": ""
           }
          },
          "scene": {
           "xaxis": {
            "backgroundcolor": "#E5ECF6",
            "gridcolor": "white",
            "gridwidth": 2,
            "linecolor": "white",
            "showbackground": true,
            "ticks": "",
            "zerolinecolor": "white"
           },
           "yaxis": {
            "backgroundcolor": "#E5ECF6",
            "gridcolor": "white",
            "gridwidth": 2,
            "linecolor": "white",
            "showbackground": true,
            "ticks": "",
            "zerolinecolor": "white"
           },
           "zaxis": {
            "backgroundcolor": "#E5ECF6",
            "gridcolor": "white",
            "gridwidth": 2,
            "linecolor": "white",
            "showbackground": true,
            "ticks": "",
            "zerolinecolor": "white"
           }
          },
          "shapedefaults": {
           "line": {
            "color": "#2a3f5f"
           }
          },
          "ternary": {
           "aaxis": {
            "gridcolor": "white",
            "linecolor": "white",
            "ticks": ""
           },
           "baxis": {
            "gridcolor": "white",
            "linecolor": "white",
            "ticks": ""
           },
           "bgcolor": "#E5ECF6",
           "caxis": {
            "gridcolor": "white",
            "linecolor": "white",
            "ticks": ""
           }
          },
          "title": {
           "x": 0.05
          },
          "xaxis": {
           "automargin": true,
           "gridcolor": "white",
           "linecolor": "white",
           "ticks": "",
           "title": {
            "standoff": 15
           },
           "zerolinecolor": "white",
           "zerolinewidth": 2
          },
          "yaxis": {
           "automargin": true,
           "gridcolor": "white",
           "linecolor": "white",
           "ticks": "",
           "title": {
            "standoff": 15
           },
           "zerolinecolor": "white",
           "zerolinewidth": 2
          }
         }
        },
        "title": {
         "text": "5 Yr Performance v. YTD Performance (Expense Ratio=Size)"
        },
        "xaxis": {
         "anchor": "y",
         "domain": [
          0,
          1
         ],
         "title": {
          "text": "Return YTD (%)"
         }
        },
        "yaxis": {
         "anchor": "x",
         "domain": [
          0,
          1
         ],
         "title": {
          "text": "Return 5 Year(%)"
         }
        }
       }
      }
     },
     "metadata": {},
     "output_type": "display_data"
    }
   ],
   "source": [
    "fig = px.scatter(fid401k_df, x=\"YTD\", y=\"5 Year\", color=\"Category\",\n",
    "                 size='Gross Expense Ratio', hover_data=['Name'],\n",
    "                         labels={\n",
    "                     \"YTD\": \"Return YTD (%)\",\n",
    "                     \"5 Year\": \"Return 5 Year(%)\",\n",
    "                 },\n",
    "                title=\"5 Yr Performance v. YTD Performance (Expense Ratio=Size)\")\n",
    "            \n",
    "fig.show()\n",
    "fig.write_html(\"expense_perf_5yr.html\")"
   ]
  },
  {
   "cell_type": "code",
   "execution_count": 12,
   "metadata": {},
   "outputs": [
    {
     "data": {
      "application/vnd.plotly.v1+json": {
       "config": {
        "plotlyServerURL": "https://plot.ly"
       },
       "data": [
        {
         "customdata": [
          [
           "DODGE & COX STOCK X (DOXGX)01/04/1965"
          ],
          [
           "FID 500 INDEX (FXAIX)02/17/1988"
          ],
          [
           "FID CONTRAFUND K6 (FLCNX)05/25/2017"
          ],
          [
           "JPM LG CAP GROWTH R6 (JLGMX)02/28/1992"
          ],
          [
           "VAN FTSE SOC IDX ADM (VFTAX)01/14/2003"
          ]
         ],
         "hovertemplate": "Category=Large Cap<br>YTD=%{x}<br>10 Year/LOF=%{y}<br>Gross Expense Ratio=%{marker.size}<br>Name/Inception Date=%{customdata[0]}<extra></extra>",
         "legendgroup": "Large Cap",
         "marker": {
          "color": "#636efa",
          "size": [
           0.46,
           0.02,
           0.45,
           0.52,
           0.14
          ],
          "sizemode": "area",
          "sizeref": 0.001875,
          "symbol": "circle"
         },
         "mode": "markers",
         "name": "Large Cap",
         "orientation": "v",
         "showlegend": true,
         "type": "scatter",
         "x": [
          17.55,
          23.24,
          33.8,
          29.94,
          22.75
         ],
         "xaxis": "x",
         "y": [
          11.29,
          13.37,
          16.71,
          17.81,
          13.82
         ],
         "yaxis": "y"
        },
        {
         "customdata": [
          [
           "AM CENT MD CP VAL R6 (AMDVX)03/31/2004"
          ],
          [
           "EAGLE MID CAP GR F08/28/2018"
          ],
          [
           "FID MID CAP IDX (FSMDX)09/08/2011"
          ]
         ],
         "hovertemplate": "Category=Mid-Cap<br>YTD=%{x}<br>10 Year/LOF=%{y}<br>Gross Expense Ratio=%{marker.size}<br>Name/Inception Date=%{customdata[0]}<extra></extra>",
         "legendgroup": "Mid-Cap",
         "marker": {
          "color": "#EF553B",
          "size": [
           0.63,
           0.48,
           0.03
          ],
          "sizemode": "area",
          "sizeref": 0.001875,
          "symbol": "circle"
         },
         "mode": "markers",
         "name": "Mid-Cap",
         "orientation": "v",
         "showlegend": true,
         "type": "scatter",
         "x": [
          10.57,
          9.73,
          15.57
         ],
         "xaxis": "x",
         "y": [
          9.33,
          8.81,
          10.19
         ],
         "yaxis": "y"
        },
        {
         "customdata": [
          [
           "FID SM CAP IDX (FSSNX)09/08/2011"
          ],
          [
           "FKLN SM CAP VAL ADV (FVADX)03/11/1996"
          ],
          [
           "J H TRITON N (JGMNX)02/25/2005"
          ]
         ],
         "hovertemplate": "Category=Small Cap<br>YTD=%{x}<br>10 Year/LOF=%{y}<br>Gross Expense Ratio=%{marker.size}<br>Name/Inception Date=%{customdata[0]}<extra></extra>",
         "legendgroup": "Small Cap",
         "marker": {
          "color": "#00cc96",
          "size": [
           0.03,
           0.75,
           0.67
          ],
          "sizemode": "area",
          "sizeref": 0.001875,
          "symbol": "circle"
         },
         "mode": "markers",
         "name": "Small Cap",
         "orientation": "v",
         "showlegend": true,
         "type": "scatter",
         "x": [
          11.49,
          11.11,
          12.17
         ],
         "xaxis": "x",
         "y": [
          8.93,
          8.98,
          10.04
         ],
         "yaxis": "y"
        },
        {
         "customdata": [
          [
           "AF EUROPAC GROWTH R6 (RERGX)04/16/1984"
          ],
          [
           "AF NEW PERSPECT R6 (RNPGX)03/13/1973"
          ],
          [
           "FID EMRG MKTS IDX (FPADX)09/08/2011"
          ],
          [
           "FID INTL INDEX (FSPSX)11/05/1997"
          ]
         ],
         "hovertemplate": "Category=International<br>YTD=%{x}<br>10 Year/LOF=%{y}<br>Gross Expense Ratio=%{marker.size}<br>Name/Inception Date=%{customdata[0]}<extra></extra>",
         "legendgroup": "International",
         "marker": {
          "color": "#ab63fa",
          "size": [
           0.47,
           0.42,
           0.08,
           0.04
          ],
          "sizemode": "area",
          "sizeref": 0.001875,
          "symbol": "circle"
         },
         "mode": "markers",
         "name": "International",
         "orientation": "v",
         "showlegend": true,
         "type": "scatter",
         "x": [
          12.17,
          18.84,
          15.82,
          11.28
         ],
         "xaxis": "x",
         "y": [
          6.26,
          11.77,
          3.76,
          5.87
         ],
         "yaxis": "y"
        },
        {
         "customdata": [
          [
           "VAN REAL EST IDX ADM (VGSLX)05/13/1996"
          ]
         ],
         "hovertemplate": "Category=Specialty<br>YTD=%{x}<br>10 Year/LOF=%{y}<br>Gross Expense Ratio=%{marker.size}<br>Name/Inception Date=%{customdata[0]}<extra></extra>",
         "legendgroup": "Specialty",
         "marker": {
          "color": "#FFA15A",
          "size": [
           0.13
          ],
          "sizemode": "area",
          "sizeref": 0.001875,
          "symbol": "circle"
         },
         "mode": "markers",
         "name": "Specialty",
         "orientation": "v",
         "showlegend": true,
         "type": "scatter",
         "x": [
          10.49
         ],
         "xaxis": "x",
         "y": [
          7.32
         ],
         "yaxis": "y"
        },
        {
         "customdata": [
          [
           "FID FDM IDX 2015 PRM (FFYPX)10/02/2009"
          ],
          [
           "FID FDM IDX 2020 PRM (FKIPX)10/02/2009"
          ],
          [
           "FID FDM IDX 2025 PRM (FLIPX)10/02/2009"
          ],
          [
           "FID FDM IDX 2030 PRM (FMKPX)10/02/2009"
          ],
          [
           "FID FDM IDX 2035 PRM (FNIPX)10/02/2009"
          ],
          [
           "FID FDM IDX 2040 PRM (FPIPX)10/02/2009"
          ],
          [
           "FID FDM IDX 2045 PRM (FQIPX)10/02/2009"
          ],
          [
           "FID FDM IDX 2050 PRM (FRLPX)10/02/2009"
          ],
          [
           "FID FDM IDX 2055 PRM (FTYPX)06/01/2011"
          ],
          [
           "FID FDM IDX 2060 PRM (FUIPX)08/05/2014"
          ],
          [
           "FID FDM IDX 2065 PRM (FVIPX)06/28/2019"
          ],
          [
           "FID FDM IDX INC PRM (FAPIX)10/02/2009"
          ]
         ],
         "hovertemplate": "Category=0.0<br>YTD=%{x}<br>10 Year/LOF=%{y}<br>Gross Expense Ratio=%{marker.size}<br>Name/Inception Date=%{customdata[0]}<extra></extra>",
         "legendgroup": "0.0",
         "marker": {
          "color": "#19d3f3",
          "size": [
           0.05,
           0.05,
           0.05,
           0.05,
           0.05,
           0.05,
           0.05,
           0.05,
           0.05,
           0.05,
           0.06,
           0.05
          ],
          "sizemode": "area",
          "sizeref": 0.001875,
          "symbol": "circle"
         },
         "mode": "markers",
         "name": "0.0",
         "orientation": "v",
         "showlegend": true,
         "type": "scatter",
         "x": [
          8.39,
          9.65,
          10.7,
          11.69,
          13.31,
          15.5,
          16.38,
          16.36,
          16.36,
          16.39,
          16.41,
          6.06
         ],
         "xaxis": "x",
         "y": [
          5.4,
          6,
          6.55,
          7.37,
          8.37,
          9.02,
          9.15,
          9.15,
          9.14,
          9.14,
          10.33,
          3.49
         ],
         "yaxis": "y"
        },
        {
         "customdata": [
          [
           "FID US BOND IDX (FXNAX)03/08/1990"
          ],
          [
           "PGIM GLB TOT RTN R6 (PGTQX)07/07/1986"
          ],
          [
           "PIM TOTAL RT INST (PTTRX)05/11/1987"
          ]
         ],
         "hovertemplate": "Category=Income<br>YTD=%{x}<br>10 Year/LOF=%{y}<br>Gross Expense Ratio=%{marker.size}<br>Name/Inception Date=%{customdata[0]}<extra></extra>",
         "legendgroup": "Income",
         "marker": {
          "color": "#FF6692",
          "size": [
           0.03,
           0.54,
           0.51
          ],
          "sizemode": "area",
          "sizeref": 0.001875,
          "symbol": "circle"
         },
         "mode": "markers",
         "name": "Income",
         "orientation": "v",
         "showlegend": true,
         "type": "scatter",
         "x": [
          3.02,
          3.93,
          4.33
         ],
         "xaxis": "x",
         "y": [
          1.82,
          1.6,
          2.16
         ],
         "yaxis": "y"
        }
       ],
       "layout": {
        "legend": {
         "itemsizing": "constant",
         "title": {
          "text": "Category"
         },
         "tracegroupgap": 0
        },
        "template": {
         "data": {
          "bar": [
           {
            "error_x": {
             "color": "#2a3f5f"
            },
            "error_y": {
             "color": "#2a3f5f"
            },
            "marker": {
             "line": {
              "color": "#E5ECF6",
              "width": 0.5
             },
             "pattern": {
              "fillmode": "overlay",
              "size": 10,
              "solidity": 0.2
             }
            },
            "type": "bar"
           }
          ],
          "barpolar": [
           {
            "marker": {
             "line": {
              "color": "#E5ECF6",
              "width": 0.5
             },
             "pattern": {
              "fillmode": "overlay",
              "size": 10,
              "solidity": 0.2
             }
            },
            "type": "barpolar"
           }
          ],
          "carpet": [
           {
            "aaxis": {
             "endlinecolor": "#2a3f5f",
             "gridcolor": "white",
             "linecolor": "white",
             "minorgridcolor": "white",
             "startlinecolor": "#2a3f5f"
            },
            "baxis": {
             "endlinecolor": "#2a3f5f",
             "gridcolor": "white",
             "linecolor": "white",
             "minorgridcolor": "white",
             "startlinecolor": "#2a3f5f"
            },
            "type": "carpet"
           }
          ],
          "choropleth": [
           {
            "colorbar": {
             "outlinewidth": 0,
             "ticks": ""
            },
            "type": "choropleth"
           }
          ],
          "contour": [
           {
            "colorbar": {
             "outlinewidth": 0,
             "ticks": ""
            },
            "colorscale": [
             [
              0,
              "#0d0887"
             ],
             [
              0.1111111111111111,
              "#46039f"
             ],
             [
              0.2222222222222222,
              "#7201a8"
             ],
             [
              0.3333333333333333,
              "#9c179e"
             ],
             [
              0.4444444444444444,
              "#bd3786"
             ],
             [
              0.5555555555555556,
              "#d8576b"
             ],
             [
              0.6666666666666666,
              "#ed7953"
             ],
             [
              0.7777777777777778,
              "#fb9f3a"
             ],
             [
              0.8888888888888888,
              "#fdca26"
             ],
             [
              1,
              "#f0f921"
             ]
            ],
            "type": "contour"
           }
          ],
          "contourcarpet": [
           {
            "colorbar": {
             "outlinewidth": 0,
             "ticks": ""
            },
            "type": "contourcarpet"
           }
          ],
          "heatmap": [
           {
            "colorbar": {
             "outlinewidth": 0,
             "ticks": ""
            },
            "colorscale": [
             [
              0,
              "#0d0887"
             ],
             [
              0.1111111111111111,
              "#46039f"
             ],
             [
              0.2222222222222222,
              "#7201a8"
             ],
             [
              0.3333333333333333,
              "#9c179e"
             ],
             [
              0.4444444444444444,
              "#bd3786"
             ],
             [
              0.5555555555555556,
              "#d8576b"
             ],
             [
              0.6666666666666666,
              "#ed7953"
             ],
             [
              0.7777777777777778,
              "#fb9f3a"
             ],
             [
              0.8888888888888888,
              "#fdca26"
             ],
             [
              1,
              "#f0f921"
             ]
            ],
            "type": "heatmap"
           }
          ],
          "heatmapgl": [
           {
            "colorbar": {
             "outlinewidth": 0,
             "ticks": ""
            },
            "colorscale": [
             [
              0,
              "#0d0887"
             ],
             [
              0.1111111111111111,
              "#46039f"
             ],
             [
              0.2222222222222222,
              "#7201a8"
             ],
             [
              0.3333333333333333,
              "#9c179e"
             ],
             [
              0.4444444444444444,
              "#bd3786"
             ],
             [
              0.5555555555555556,
              "#d8576b"
             ],
             [
              0.6666666666666666,
              "#ed7953"
             ],
             [
              0.7777777777777778,
              "#fb9f3a"
             ],
             [
              0.8888888888888888,
              "#fdca26"
             ],
             [
              1,
              "#f0f921"
             ]
            ],
            "type": "heatmapgl"
           }
          ],
          "histogram": [
           {
            "marker": {
             "pattern": {
              "fillmode": "overlay",
              "size": 10,
              "solidity": 0.2
             }
            },
            "type": "histogram"
           }
          ],
          "histogram2d": [
           {
            "colorbar": {
             "outlinewidth": 0,
             "ticks": ""
            },
            "colorscale": [
             [
              0,
              "#0d0887"
             ],
             [
              0.1111111111111111,
              "#46039f"
             ],
             [
              0.2222222222222222,
              "#7201a8"
             ],
             [
              0.3333333333333333,
              "#9c179e"
             ],
             [
              0.4444444444444444,
              "#bd3786"
             ],
             [
              0.5555555555555556,
              "#d8576b"
             ],
             [
              0.6666666666666666,
              "#ed7953"
             ],
             [
              0.7777777777777778,
              "#fb9f3a"
             ],
             [
              0.8888888888888888,
              "#fdca26"
             ],
             [
              1,
              "#f0f921"
             ]
            ],
            "type": "histogram2d"
           }
          ],
          "histogram2dcontour": [
           {
            "colorbar": {
             "outlinewidth": 0,
             "ticks": ""
            },
            "colorscale": [
             [
              0,
              "#0d0887"
             ],
             [
              0.1111111111111111,
              "#46039f"
             ],
             [
              0.2222222222222222,
              "#7201a8"
             ],
             [
              0.3333333333333333,
              "#9c179e"
             ],
             [
              0.4444444444444444,
              "#bd3786"
             ],
             [
              0.5555555555555556,
              "#d8576b"
             ],
             [
              0.6666666666666666,
              "#ed7953"
             ],
             [
              0.7777777777777778,
              "#fb9f3a"
             ],
             [
              0.8888888888888888,
              "#fdca26"
             ],
             [
              1,
              "#f0f921"
             ]
            ],
            "type": "histogram2dcontour"
           }
          ],
          "mesh3d": [
           {
            "colorbar": {
             "outlinewidth": 0,
             "ticks": ""
            },
            "type": "mesh3d"
           }
          ],
          "parcoords": [
           {
            "line": {
             "colorbar": {
              "outlinewidth": 0,
              "ticks": ""
             }
            },
            "type": "parcoords"
           }
          ],
          "pie": [
           {
            "automargin": true,
            "type": "pie"
           }
          ],
          "scatter": [
           {
            "fillpattern": {
             "fillmode": "overlay",
             "size": 10,
             "solidity": 0.2
            },
            "type": "scatter"
           }
          ],
          "scatter3d": [
           {
            "line": {
             "colorbar": {
              "outlinewidth": 0,
              "ticks": ""
             }
            },
            "marker": {
             "colorbar": {
              "outlinewidth": 0,
              "ticks": ""
             }
            },
            "type": "scatter3d"
           }
          ],
          "scattercarpet": [
           {
            "marker": {
             "colorbar": {
              "outlinewidth": 0,
              "ticks": ""
             }
            },
            "type": "scattercarpet"
           }
          ],
          "scattergeo": [
           {
            "marker": {
             "colorbar": {
              "outlinewidth": 0,
              "ticks": ""
             }
            },
            "type": "scattergeo"
           }
          ],
          "scattergl": [
           {
            "marker": {
             "colorbar": {
              "outlinewidth": 0,
              "ticks": ""
             }
            },
            "type": "scattergl"
           }
          ],
          "scattermapbox": [
           {
            "marker": {
             "colorbar": {
              "outlinewidth": 0,
              "ticks": ""
             }
            },
            "type": "scattermapbox"
           }
          ],
          "scatterpolar": [
           {
            "marker": {
             "colorbar": {
              "outlinewidth": 0,
              "ticks": ""
             }
            },
            "type": "scatterpolar"
           }
          ],
          "scatterpolargl": [
           {
            "marker": {
             "colorbar": {
              "outlinewidth": 0,
              "ticks": ""
             }
            },
            "type": "scatterpolargl"
           }
          ],
          "scatterternary": [
           {
            "marker": {
             "colorbar": {
              "outlinewidth": 0,
              "ticks": ""
             }
            },
            "type": "scatterternary"
           }
          ],
          "surface": [
           {
            "colorbar": {
             "outlinewidth": 0,
             "ticks": ""
            },
            "colorscale": [
             [
              0,
              "#0d0887"
             ],
             [
              0.1111111111111111,
              "#46039f"
             ],
             [
              0.2222222222222222,
              "#7201a8"
             ],
             [
              0.3333333333333333,
              "#9c179e"
             ],
             [
              0.4444444444444444,
              "#bd3786"
             ],
             [
              0.5555555555555556,
              "#d8576b"
             ],
             [
              0.6666666666666666,
              "#ed7953"
             ],
             [
              0.7777777777777778,
              "#fb9f3a"
             ],
             [
              0.8888888888888888,
              "#fdca26"
             ],
             [
              1,
              "#f0f921"
             ]
            ],
            "type": "surface"
           }
          ],
          "table": [
           {
            "cells": {
             "fill": {
              "color": "#EBF0F8"
             },
             "line": {
              "color": "white"
             }
            },
            "header": {
             "fill": {
              "color": "#C8D4E3"
             },
             "line": {
              "color": "white"
             }
            },
            "type": "table"
           }
          ]
         },
         "layout": {
          "annotationdefaults": {
           "arrowcolor": "#2a3f5f",
           "arrowhead": 0,
           "arrowwidth": 1
          },
          "autotypenumbers": "strict",
          "coloraxis": {
           "colorbar": {
            "outlinewidth": 0,
            "ticks": ""
           }
          },
          "colorscale": {
           "diverging": [
            [
             0,
             "#8e0152"
            ],
            [
             0.1,
             "#c51b7d"
            ],
            [
             0.2,
             "#de77ae"
            ],
            [
             0.3,
             "#f1b6da"
            ],
            [
             0.4,
             "#fde0ef"
            ],
            [
             0.5,
             "#f7f7f7"
            ],
            [
             0.6,
             "#e6f5d0"
            ],
            [
             0.7,
             "#b8e186"
            ],
            [
             0.8,
             "#7fbc41"
            ],
            [
             0.9,
             "#4d9221"
            ],
            [
             1,
             "#276419"
            ]
           ],
           "sequential": [
            [
             0,
             "#0d0887"
            ],
            [
             0.1111111111111111,
             "#46039f"
            ],
            [
             0.2222222222222222,
             "#7201a8"
            ],
            [
             0.3333333333333333,
             "#9c179e"
            ],
            [
             0.4444444444444444,
             "#bd3786"
            ],
            [
             0.5555555555555556,
             "#d8576b"
            ],
            [
             0.6666666666666666,
             "#ed7953"
            ],
            [
             0.7777777777777778,
             "#fb9f3a"
            ],
            [
             0.8888888888888888,
             "#fdca26"
            ],
            [
             1,
             "#f0f921"
            ]
           ],
           "sequentialminus": [
            [
             0,
             "#0d0887"
            ],
            [
             0.1111111111111111,
             "#46039f"
            ],
            [
             0.2222222222222222,
             "#7201a8"
            ],
            [
             0.3333333333333333,
             "#9c179e"
            ],
            [
             0.4444444444444444,
             "#bd3786"
            ],
            [
             0.5555555555555556,
             "#d8576b"
            ],
            [
             0.6666666666666666,
             "#ed7953"
            ],
            [
             0.7777777777777778,
             "#fb9f3a"
            ],
            [
             0.8888888888888888,
             "#fdca26"
            ],
            [
             1,
             "#f0f921"
            ]
           ]
          },
          "colorway": [
           "#636efa",
           "#EF553B",
           "#00cc96",
           "#ab63fa",
           "#FFA15A",
           "#19d3f3",
           "#FF6692",
           "#B6E880",
           "#FF97FF",
           "#FECB52"
          ],
          "font": {
           "color": "#2a3f5f"
          },
          "geo": {
           "bgcolor": "white",
           "lakecolor": "white",
           "landcolor": "#E5ECF6",
           "showlakes": true,
           "showland": true,
           "subunitcolor": "white"
          },
          "hoverlabel": {
           "align": "left"
          },
          "hovermode": "closest",
          "mapbox": {
           "style": "light"
          },
          "paper_bgcolor": "white",
          "plot_bgcolor": "#E5ECF6",
          "polar": {
           "angularaxis": {
            "gridcolor": "white",
            "linecolor": "white",
            "ticks": ""
           },
           "bgcolor": "#E5ECF6",
           "radialaxis": {
            "gridcolor": "white",
            "linecolor": "white",
            "ticks": ""
           }
          },
          "scene": {
           "xaxis": {
            "backgroundcolor": "#E5ECF6",
            "gridcolor": "white",
            "gridwidth": 2,
            "linecolor": "white",
            "showbackground": true,
            "ticks": "",
            "zerolinecolor": "white"
           },
           "yaxis": {
            "backgroundcolor": "#E5ECF6",
            "gridcolor": "white",
            "gridwidth": 2,
            "linecolor": "white",
            "showbackground": true,
            "ticks": "",
            "zerolinecolor": "white"
           },
           "zaxis": {
            "backgroundcolor": "#E5ECF6",
            "gridcolor": "white",
            "gridwidth": 2,
            "linecolor": "white",
            "showbackground": true,
            "ticks": "",
            "zerolinecolor": "white"
           }
          },
          "shapedefaults": {
           "line": {
            "color": "#2a3f5f"
           }
          },
          "ternary": {
           "aaxis": {
            "gridcolor": "white",
            "linecolor": "white",
            "ticks": ""
           },
           "baxis": {
            "gridcolor": "white",
            "linecolor": "white",
            "ticks": ""
           },
           "bgcolor": "#E5ECF6",
           "caxis": {
            "gridcolor": "white",
            "linecolor": "white",
            "ticks": ""
           }
          },
          "title": {
           "x": 0.05
          },
          "xaxis": {
           "automargin": true,
           "gridcolor": "white",
           "linecolor": "white",
           "ticks": "",
           "title": {
            "standoff": 15
           },
           "zerolinecolor": "white",
           "zerolinewidth": 2
          },
          "yaxis": {
           "automargin": true,
           "gridcolor": "white",
           "linecolor": "white",
           "ticks": "",
           "title": {
            "standoff": 15
           },
           "zerolinecolor": "white",
           "zerolinewidth": 2
          }
         }
        },
        "title": {
         "text": "10 Yr Performance v. YTD Performance (Expense Ratio=Size)"
        },
        "xaxis": {
         "anchor": "y",
         "domain": [
          0,
          1
         ],
         "title": {
          "text": "YTD"
         }
        },
        "yaxis": {
         "anchor": "x",
         "domain": [
          0,
          1
         ],
         "title": {
          "text": "10 Year/LOF"
         }
        }
       }
      }
     },
     "metadata": {},
     "output_type": "display_data"
    }
   ],
   "source": [
    "fig = px.scatter(fid401k_df, x=\"YTD\", y=\"10 Year/LOF\", color=\"Category\",\n",
    "                 size='Gross Expense Ratio', hover_data=['Name/Inception Date'],\n",
    "                title=\"10 Yr Performance v. YTD Performance (Expense Ratio=Size)\")\n",
    "fig.show()\n",
    "fig.write_html(\"expense_perf_10yr.html\")"
   ]
  },
  {
   "cell_type": "markdown",
   "metadata": {},
   "source": []
  },
  {
   "cell_type": "code",
   "execution_count": 13,
   "metadata": {},
   "outputs": [
    {
     "data": {
      "application/vnd.plotly.v1+json": {
       "config": {
        "plotlyServerURL": "https://plot.ly"
       },
       "data": [
        {
         "customdata": [
          [
           "DODGE & COX STOCK X (DOXGX)01/04/1965"
          ],
          [
           "FID 500 INDEX (FXAIX)02/17/1988"
          ],
          [
           "FID CONTRAFUND K6 (FLCNX)05/25/2017"
          ],
          [
           "JPM LG CAP GROWTH R6 (JLGMX)02/28/1992"
          ],
          [
           "VAN FTSE SOC IDX ADM (VFTAX)01/14/2003"
          ]
         ],
         "hovertemplate": "Category=Large Cap<br>1 Year=%{x}<br>10 Year/LOF=%{y}<br>Gross Expense Ratio=%{marker.size}<br>Name/Inception Date=%{customdata[0]}<extra></extra>",
         "legendgroup": "Large Cap",
         "marker": {
          "color": "#636efa",
          "size": [
           0.46,
           0.02,
           0.45,
           0.52,
           0.14
          ],
          "sizemode": "area",
          "sizeref": 0.001875,
          "symbol": "circle"
         },
         "mode": "markers",
         "name": "Large Cap",
         "orientation": "v",
         "showlegend": true,
         "type": "scatter",
         "x": [
          27.83,
          36.33,
          45.99,
          44.56,
          37.64
         ],
         "xaxis": "x",
         "y": [
          11.29,
          13.37,
          16.71,
          17.81,
          13.82
         ],
         "yaxis": "y"
        },
        {
         "customdata": [
          [
           "AM CENT MD CP VAL R6 (AMDVX)03/31/2004"
          ],
          [
           "EAGLE MID CAP GR F08/28/2018"
          ],
          [
           "FID MID CAP IDX (FSMDX)09/08/2011"
          ]
         ],
         "hovertemplate": "Category=Mid-Cap<br>1 Year=%{x}<br>10 Year/LOF=%{y}<br>Gross Expense Ratio=%{marker.size}<br>Name/Inception Date=%{customdata[0]}<extra></extra>",
         "legendgroup": "Mid-Cap",
         "marker": {
          "color": "#EF553B",
          "size": [
           0.63,
           0.48,
           0.03
          ],
          "sizemode": "area",
          "sizeref": 0.001875,
          "symbol": "circle"
         },
         "mode": "markers",
         "name": "Mid-Cap",
         "orientation": "v",
         "showlegend": true,
         "type": "scatter",
         "x": [
          23.75,
          21.06,
          29.29
         ],
         "xaxis": "x",
         "y": [
          9.33,
          8.81,
          10.19
         ],
         "yaxis": "y"
        },
        {
         "customdata": [
          [
           "FID SM CAP IDX (FSSNX)09/08/2011"
          ],
          [
           "FKLN SM CAP VAL ADV (FVADX)03/11/1996"
          ],
          [
           "J H TRITON N (JGMNX)02/25/2005"
          ]
         ],
         "hovertemplate": "Category=Small Cap<br>1 Year=%{x}<br>10 Year/LOF=%{y}<br>Gross Expense Ratio=%{marker.size}<br>Name/Inception Date=%{customdata[0]}<extra></extra>",
         "legendgroup": "Small Cap",
         "marker": {
          "color": "#00cc96",
          "size": [
           0.03,
           0.75,
           0.67
          ],
          "sizemode": "area",
          "sizeref": 0.001875,
          "symbol": "circle"
         },
         "mode": "markers",
         "name": "Small Cap",
         "orientation": "v",
         "showlegend": true,
         "type": "scatter",
         "x": [
          26.84,
          24.71,
          23.59
         ],
         "xaxis": "x",
         "y": [
          8.93,
          8.98,
          10.04
         ],
         "yaxis": "y"
        },
        {
         "customdata": [
          [
           "AF EUROPAC GROWTH R6 (RERGX)04/16/1984"
          ],
          [
           "AF NEW PERSPECT R6 (RNPGX)03/13/1973"
          ],
          [
           "FID EMRG MKTS IDX (FPADX)09/08/2011"
          ],
          [
           "FID INTL INDEX (FSPSX)11/05/1997"
          ]
         ],
         "hovertemplate": "Category=International<br>1 Year=%{x}<br>10 Year/LOF=%{y}<br>Gross Expense Ratio=%{marker.size}<br>Name/Inception Date=%{customdata[0]}<extra></extra>",
         "legendgroup": "International",
         "marker": {
          "color": "#ab63fa",
          "size": [
           0.47,
           0.42,
           0.08,
           0.04
          ],
          "sizemode": "area",
          "sizeref": 0.001875,
          "symbol": "circle"
         },
         "mode": "markers",
         "name": "International",
         "orientation": "v",
         "showlegend": true,
         "type": "scatter",
         "x": [
          24.71,
          31.71,
          24.17,
          25.36
         ],
         "xaxis": "x",
         "y": [
          6.26,
          11.77,
          3.76,
          5.87
         ],
         "yaxis": "y"
        },
        {
         "customdata": [
          [
           "VAN REAL EST IDX ADM (VGSLX)05/13/1996"
          ]
         ],
         "hovertemplate": "Category=Specialty<br>1 Year=%{x}<br>10 Year/LOF=%{y}<br>Gross Expense Ratio=%{marker.size}<br>Name/Inception Date=%{customdata[0]}<extra></extra>",
         "legendgroup": "Specialty",
         "marker": {
          "color": "#FFA15A",
          "size": [
           0.13
          ],
          "sizemode": "area",
          "sizeref": 0.001875,
          "symbol": "circle"
         },
         "mode": "markers",
         "name": "Specialty",
         "orientation": "v",
         "showlegend": true,
         "type": "scatter",
         "x": [
          34.2
         ],
         "xaxis": "x",
         "y": [
          7.32
         ],
         "yaxis": "y"
        },
        {
         "customdata": [
          [
           "FID FDM IDX 2015 PRM (FFYPX)10/02/2009"
          ],
          [
           "FID FDM IDX 2020 PRM (FKIPX)10/02/2009"
          ],
          [
           "FID FDM IDX 2025 PRM (FLIPX)10/02/2009"
          ],
          [
           "FID FDM IDX 2030 PRM (FMKPX)10/02/2009"
          ],
          [
           "FID FDM IDX 2035 PRM (FNIPX)10/02/2009"
          ],
          [
           "FID FDM IDX 2040 PRM (FPIPX)10/02/2009"
          ],
          [
           "FID FDM IDX 2045 PRM (FQIPX)10/02/2009"
          ],
          [
           "FID FDM IDX 2050 PRM (FRLPX)10/02/2009"
          ],
          [
           "FID FDM IDX 2055 PRM (FTYPX)06/01/2011"
          ],
          [
           "FID FDM IDX 2060 PRM (FUIPX)08/05/2014"
          ],
          [
           "FID FDM IDX 2065 PRM (FVIPX)06/28/2019"
          ],
          [
           "FID FDM IDX INC PRM (FAPIX)10/02/2009"
          ]
         ],
         "hovertemplate": "Category=0.0<br>1 Year=%{x}<br>10 Year/LOF=%{y}<br>Gross Expense Ratio=%{marker.size}<br>Name/Inception Date=%{customdata[0]}<extra></extra>",
         "legendgroup": "0.0",
         "marker": {
          "color": "#19d3f3",
          "size": [
           0.05,
           0.05,
           0.05,
           0.05,
           0.05,
           0.05,
           0.05,
           0.05,
           0.05,
           0.05,
           0.06,
           0.05
          ],
          "sizemode": "area",
          "sizeref": 0.001875,
          "symbol": "circle"
         },
         "mode": "markers",
         "name": "0.0",
         "orientation": "v",
         "showlegend": true,
         "type": "scatter",
         "x": [
          17.79,
          19.92,
          21.84,
          23.06,
          25.34,
          28.21,
          29.28,
          29.23,
          29.26,
          29.27,
          29.29,
          13.67
         ],
         "xaxis": "x",
         "y": [
          5.4,
          6,
          6.55,
          7.37,
          8.37,
          9.02,
          9.15,
          9.15,
          9.14,
          9.14,
          10.33,
          3.49
         ],
         "yaxis": "y"
        },
        {
         "customdata": [
          [
           "FID US BOND IDX (FXNAX)03/08/1990"
          ],
          [
           "PGIM GLB TOT RTN R6 (PGTQX)07/07/1986"
          ],
          [
           "PIM TOTAL RT INST (PTTRX)05/11/1987"
          ]
         ],
         "hovertemplate": "Category=Income<br>1 Year=%{x}<br>10 Year/LOF=%{y}<br>Gross Expense Ratio=%{marker.size}<br>Name/Inception Date=%{customdata[0]}<extra></extra>",
         "legendgroup": "Income",
         "marker": {
          "color": "#FF6692",
          "size": [
           0.03,
           0.54,
           0.51
          ],
          "sizemode": "area",
          "sizeref": 0.001875,
          "symbol": "circle"
         },
         "mode": "markers",
         "name": "Income",
         "orientation": "v",
         "showlegend": true,
         "type": "scatter",
         "x": [
          11.53,
          15.57,
          13.01
         ],
         "xaxis": "x",
         "y": [
          1.82,
          1.6,
          2.16
         ],
         "yaxis": "y"
        }
       ],
       "layout": {
        "legend": {
         "itemsizing": "constant",
         "title": {
          "text": "Category"
         },
         "tracegroupgap": 0
        },
        "template": {
         "data": {
          "bar": [
           {
            "error_x": {
             "color": "#2a3f5f"
            },
            "error_y": {
             "color": "#2a3f5f"
            },
            "marker": {
             "line": {
              "color": "#E5ECF6",
              "width": 0.5
             },
             "pattern": {
              "fillmode": "overlay",
              "size": 10,
              "solidity": 0.2
             }
            },
            "type": "bar"
           }
          ],
          "barpolar": [
           {
            "marker": {
             "line": {
              "color": "#E5ECF6",
              "width": 0.5
             },
             "pattern": {
              "fillmode": "overlay",
              "size": 10,
              "solidity": 0.2
             }
            },
            "type": "barpolar"
           }
          ],
          "carpet": [
           {
            "aaxis": {
             "endlinecolor": "#2a3f5f",
             "gridcolor": "white",
             "linecolor": "white",
             "minorgridcolor": "white",
             "startlinecolor": "#2a3f5f"
            },
            "baxis": {
             "endlinecolor": "#2a3f5f",
             "gridcolor": "white",
             "linecolor": "white",
             "minorgridcolor": "white",
             "startlinecolor": "#2a3f5f"
            },
            "type": "carpet"
           }
          ],
          "choropleth": [
           {
            "colorbar": {
             "outlinewidth": 0,
             "ticks": ""
            },
            "type": "choropleth"
           }
          ],
          "contour": [
           {
            "colorbar": {
             "outlinewidth": 0,
             "ticks": ""
            },
            "colorscale": [
             [
              0,
              "#0d0887"
             ],
             [
              0.1111111111111111,
              "#46039f"
             ],
             [
              0.2222222222222222,
              "#7201a8"
             ],
             [
              0.3333333333333333,
              "#9c179e"
             ],
             [
              0.4444444444444444,
              "#bd3786"
             ],
             [
              0.5555555555555556,
              "#d8576b"
             ],
             [
              0.6666666666666666,
              "#ed7953"
             ],
             [
              0.7777777777777778,
              "#fb9f3a"
             ],
             [
              0.8888888888888888,
              "#fdca26"
             ],
             [
              1,
              "#f0f921"
             ]
            ],
            "type": "contour"
           }
          ],
          "contourcarpet": [
           {
            "colorbar": {
             "outlinewidth": 0,
             "ticks": ""
            },
            "type": "contourcarpet"
           }
          ],
          "heatmap": [
           {
            "colorbar": {
             "outlinewidth": 0,
             "ticks": ""
            },
            "colorscale": [
             [
              0,
              "#0d0887"
             ],
             [
              0.1111111111111111,
              "#46039f"
             ],
             [
              0.2222222222222222,
              "#7201a8"
             ],
             [
              0.3333333333333333,
              "#9c179e"
             ],
             [
              0.4444444444444444,
              "#bd3786"
             ],
             [
              0.5555555555555556,
              "#d8576b"
             ],
             [
              0.6666666666666666,
              "#ed7953"
             ],
             [
              0.7777777777777778,
              "#fb9f3a"
             ],
             [
              0.8888888888888888,
              "#fdca26"
             ],
             [
              1,
              "#f0f921"
             ]
            ],
            "type": "heatmap"
           }
          ],
          "heatmapgl": [
           {
            "colorbar": {
             "outlinewidth": 0,
             "ticks": ""
            },
            "colorscale": [
             [
              0,
              "#0d0887"
             ],
             [
              0.1111111111111111,
              "#46039f"
             ],
             [
              0.2222222222222222,
              "#7201a8"
             ],
             [
              0.3333333333333333,
              "#9c179e"
             ],
             [
              0.4444444444444444,
              "#bd3786"
             ],
             [
              0.5555555555555556,
              "#d8576b"
             ],
             [
              0.6666666666666666,
              "#ed7953"
             ],
             [
              0.7777777777777778,
              "#fb9f3a"
             ],
             [
              0.8888888888888888,
              "#fdca26"
             ],
             [
              1,
              "#f0f921"
             ]
            ],
            "type": "heatmapgl"
           }
          ],
          "histogram": [
           {
            "marker": {
             "pattern": {
              "fillmode": "overlay",
              "size": 10,
              "solidity": 0.2
             }
            },
            "type": "histogram"
           }
          ],
          "histogram2d": [
           {
            "colorbar": {
             "outlinewidth": 0,
             "ticks": ""
            },
            "colorscale": [
             [
              0,
              "#0d0887"
             ],
             [
              0.1111111111111111,
              "#46039f"
             ],
             [
              0.2222222222222222,
              "#7201a8"
             ],
             [
              0.3333333333333333,
              "#9c179e"
             ],
             [
              0.4444444444444444,
              "#bd3786"
             ],
             [
              0.5555555555555556,
              "#d8576b"
             ],
             [
              0.6666666666666666,
              "#ed7953"
             ],
             [
              0.7777777777777778,
              "#fb9f3a"
             ],
             [
              0.8888888888888888,
              "#fdca26"
             ],
             [
              1,
              "#f0f921"
             ]
            ],
            "type": "histogram2d"
           }
          ],
          "histogram2dcontour": [
           {
            "colorbar": {
             "outlinewidth": 0,
             "ticks": ""
            },
            "colorscale": [
             [
              0,
              "#0d0887"
             ],
             [
              0.1111111111111111,
              "#46039f"
             ],
             [
              0.2222222222222222,
              "#7201a8"
             ],
             [
              0.3333333333333333,
              "#9c179e"
             ],
             [
              0.4444444444444444,
              "#bd3786"
             ],
             [
              0.5555555555555556,
              "#d8576b"
             ],
             [
              0.6666666666666666,
              "#ed7953"
             ],
             [
              0.7777777777777778,
              "#fb9f3a"
             ],
             [
              0.8888888888888888,
              "#fdca26"
             ],
             [
              1,
              "#f0f921"
             ]
            ],
            "type": "histogram2dcontour"
           }
          ],
          "mesh3d": [
           {
            "colorbar": {
             "outlinewidth": 0,
             "ticks": ""
            },
            "type": "mesh3d"
           }
          ],
          "parcoords": [
           {
            "line": {
             "colorbar": {
              "outlinewidth": 0,
              "ticks": ""
             }
            },
            "type": "parcoords"
           }
          ],
          "pie": [
           {
            "automargin": true,
            "type": "pie"
           }
          ],
          "scatter": [
           {
            "fillpattern": {
             "fillmode": "overlay",
             "size": 10,
             "solidity": 0.2
            },
            "type": "scatter"
           }
          ],
          "scatter3d": [
           {
            "line": {
             "colorbar": {
              "outlinewidth": 0,
              "ticks": ""
             }
            },
            "marker": {
             "colorbar": {
              "outlinewidth": 0,
              "ticks": ""
             }
            },
            "type": "scatter3d"
           }
          ],
          "scattercarpet": [
           {
            "marker": {
             "colorbar": {
              "outlinewidth": 0,
              "ticks": ""
             }
            },
            "type": "scattercarpet"
           }
          ],
          "scattergeo": [
           {
            "marker": {
             "colorbar": {
              "outlinewidth": 0,
              "ticks": ""
             }
            },
            "type": "scattergeo"
           }
          ],
          "scattergl": [
           {
            "marker": {
             "colorbar": {
              "outlinewidth": 0,
              "ticks": ""
             }
            },
            "type": "scattergl"
           }
          ],
          "scattermapbox": [
           {
            "marker": {
             "colorbar": {
              "outlinewidth": 0,
              "ticks": ""
             }
            },
            "type": "scattermapbox"
           }
          ],
          "scatterpolar": [
           {
            "marker": {
             "colorbar": {
              "outlinewidth": 0,
              "ticks": ""
             }
            },
            "type": "scatterpolar"
           }
          ],
          "scatterpolargl": [
           {
            "marker": {
             "colorbar": {
              "outlinewidth": 0,
              "ticks": ""
             }
            },
            "type": "scatterpolargl"
           }
          ],
          "scatterternary": [
           {
            "marker": {
             "colorbar": {
              "outlinewidth": 0,
              "ticks": ""
             }
            },
            "type": "scatterternary"
           }
          ],
          "surface": [
           {
            "colorbar": {
             "outlinewidth": 0,
             "ticks": ""
            },
            "colorscale": [
             [
              0,
              "#0d0887"
             ],
             [
              0.1111111111111111,
              "#46039f"
             ],
             [
              0.2222222222222222,
              "#7201a8"
             ],
             [
              0.3333333333333333,
              "#9c179e"
             ],
             [
              0.4444444444444444,
              "#bd3786"
             ],
             [
              0.5555555555555556,
              "#d8576b"
             ],
             [
              0.6666666666666666,
              "#ed7953"
             ],
             [
              0.7777777777777778,
              "#fb9f3a"
             ],
             [
              0.8888888888888888,
              "#fdca26"
             ],
             [
              1,
              "#f0f921"
             ]
            ],
            "type": "surface"
           }
          ],
          "table": [
           {
            "cells": {
             "fill": {
              "color": "#EBF0F8"
             },
             "line": {
              "color": "white"
             }
            },
            "header": {
             "fill": {
              "color": "#C8D4E3"
             },
             "line": {
              "color": "white"
             }
            },
            "type": "table"
           }
          ]
         },
         "layout": {
          "annotationdefaults": {
           "arrowcolor": "#2a3f5f",
           "arrowhead": 0,
           "arrowwidth": 1
          },
          "autotypenumbers": "strict",
          "coloraxis": {
           "colorbar": {
            "outlinewidth": 0,
            "ticks": ""
           }
          },
          "colorscale": {
           "diverging": [
            [
             0,
             "#8e0152"
            ],
            [
             0.1,
             "#c51b7d"
            ],
            [
             0.2,
             "#de77ae"
            ],
            [
             0.3,
             "#f1b6da"
            ],
            [
             0.4,
             "#fde0ef"
            ],
            [
             0.5,
             "#f7f7f7"
            ],
            [
             0.6,
             "#e6f5d0"
            ],
            [
             0.7,
             "#b8e186"
            ],
            [
             0.8,
             "#7fbc41"
            ],
            [
             0.9,
             "#4d9221"
            ],
            [
             1,
             "#276419"
            ]
           ],
           "sequential": [
            [
             0,
             "#0d0887"
            ],
            [
             0.1111111111111111,
             "#46039f"
            ],
            [
             0.2222222222222222,
             "#7201a8"
            ],
            [
             0.3333333333333333,
             "#9c179e"
            ],
            [
             0.4444444444444444,
             "#bd3786"
            ],
            [
             0.5555555555555556,
             "#d8576b"
            ],
            [
             0.6666666666666666,
             "#ed7953"
            ],
            [
             0.7777777777777778,
             "#fb9f3a"
            ],
            [
             0.8888888888888888,
             "#fdca26"
            ],
            [
             1,
             "#f0f921"
            ]
           ],
           "sequentialminus": [
            [
             0,
             "#0d0887"
            ],
            [
             0.1111111111111111,
             "#46039f"
            ],
            [
             0.2222222222222222,
             "#7201a8"
            ],
            [
             0.3333333333333333,
             "#9c179e"
            ],
            [
             0.4444444444444444,
             "#bd3786"
            ],
            [
             0.5555555555555556,
             "#d8576b"
            ],
            [
             0.6666666666666666,
             "#ed7953"
            ],
            [
             0.7777777777777778,
             "#fb9f3a"
            ],
            [
             0.8888888888888888,
             "#fdca26"
            ],
            [
             1,
             "#f0f921"
            ]
           ]
          },
          "colorway": [
           "#636efa",
           "#EF553B",
           "#00cc96",
           "#ab63fa",
           "#FFA15A",
           "#19d3f3",
           "#FF6692",
           "#B6E880",
           "#FF97FF",
           "#FECB52"
          ],
          "font": {
           "color": "#2a3f5f"
          },
          "geo": {
           "bgcolor": "white",
           "lakecolor": "white",
           "landcolor": "#E5ECF6",
           "showlakes": true,
           "showland": true,
           "subunitcolor": "white"
          },
          "hoverlabel": {
           "align": "left"
          },
          "hovermode": "closest",
          "mapbox": {
           "style": "light"
          },
          "paper_bgcolor": "white",
          "plot_bgcolor": "#E5ECF6",
          "polar": {
           "angularaxis": {
            "gridcolor": "white",
            "linecolor": "white",
            "ticks": ""
           },
           "bgcolor": "#E5ECF6",
           "radialaxis": {
            "gridcolor": "white",
            "linecolor": "white",
            "ticks": ""
           }
          },
          "scene": {
           "xaxis": {
            "backgroundcolor": "#E5ECF6",
            "gridcolor": "white",
            "gridwidth": 2,
            "linecolor": "white",
            "showbackground": true,
            "ticks": "",
            "zerolinecolor": "white"
           },
           "yaxis": {
            "backgroundcolor": "#E5ECF6",
            "gridcolor": "white",
            "gridwidth": 2,
            "linecolor": "white",
            "showbackground": true,
            "ticks": "",
            "zerolinecolor": "white"
           },
           "zaxis": {
            "backgroundcolor": "#E5ECF6",
            "gridcolor": "white",
            "gridwidth": 2,
            "linecolor": "white",
            "showbackground": true,
            "ticks": "",
            "zerolinecolor": "white"
           }
          },
          "shapedefaults": {
           "line": {
            "color": "#2a3f5f"
           }
          },
          "ternary": {
           "aaxis": {
            "gridcolor": "white",
            "linecolor": "white",
            "ticks": ""
           },
           "baxis": {
            "gridcolor": "white",
            "linecolor": "white",
            "ticks": ""
           },
           "bgcolor": "#E5ECF6",
           "caxis": {
            "gridcolor": "white",
            "linecolor": "white",
            "ticks": ""
           }
          },
          "title": {
           "x": 0.05
          },
          "xaxis": {
           "automargin": true,
           "gridcolor": "white",
           "linecolor": "white",
           "ticks": "",
           "title": {
            "standoff": 15
           },
           "zerolinecolor": "white",
           "zerolinewidth": 2
          },
          "yaxis": {
           "automargin": true,
           "gridcolor": "white",
           "linecolor": "white",
           "ticks": "",
           "title": {
            "standoff": 15
           },
           "zerolinecolor": "white",
           "zerolinewidth": 2
          }
         }
        },
        "title": {
         "text": "10 Yr Performance v. YTD Performance (Expense Ratio=Size)"
        },
        "xaxis": {
         "anchor": "y",
         "domain": [
          0,
          1
         ],
         "title": {
          "text": "1 Year"
         }
        },
        "yaxis": {
         "anchor": "x",
         "domain": [
          0,
          1
         ],
         "title": {
          "text": "10 Year/LOF"
         }
        }
       }
      }
     },
     "metadata": {},
     "output_type": "display_data"
    }
   ],
   "source": [
    "fig = px.scatter(fid401k_df, x=\"1 Year\", y=\"10 Year/LOF\", color=\"Category\",\n",
    "                 size='Gross Expense Ratio', hover_data=['Name/Inception Date'],\n",
    "                title=\"10 Yr Performance v. YTD Performance (Expense Ratio=Size)\")\n",
    "fig.show()\n",
    "fig.write_html(\"expense_perf_10_v_1yr.html\")"
   ]
  },
  {
   "cell_type": "code",
   "execution_count": 14,
   "metadata": {},
   "outputs": [
    {
     "data": {
      "application/vnd.plotly.v1+json": {
       "config": {
        "plotlyServerURL": "https://plot.ly"
       },
       "data": [
        {
         "hovertemplate": "<b>%{hovertext}</b><br><br>category=Large Cap<br>YTD=%{x}<br>10 Year/LOF=%{y}<br>Gross Expense Ratio=%{marker.size}<extra></extra>",
         "hovertext": [
          "DODGE & COX STOCK X (DOXGX)01/04/1965",
          "FID 500 INDEX (FXAIX)02/17/1988",
          "FID CONTRAFUND K6 (FLCNX)05/25/2017",
          "JPM LG CAP GROWTH R6 (JLGMX)02/28/1992",
          "VAN FTSE SOC IDX ADM (VFTAX)01/14/2003"
         ],
         "legendgroup": "Large Cap",
         "marker": {
          "color": "#636efa",
          "size": [
           0.46,
           0.02,
           0.45,
           0.52,
           0.14
          ],
          "sizemode": "area",
          "sizeref": 0.00020833333333333335,
          "symbol": "circle"
         },
         "mode": "markers",
         "name": "Large Cap",
         "orientation": "v",
         "showlegend": true,
         "type": "scatter",
         "x": [
          17.55,
          23.24,
          33.8,
          29.94,
          22.75
         ],
         "xaxis": "x",
         "y": [
          11.29,
          13.37,
          16.71,
          17.81,
          13.82
         ],
         "yaxis": "y"
        },
        {
         "hovertemplate": "<b>%{hovertext}</b><br><br>category=Mid-Cap<br>YTD=%{x}<br>10 Year/LOF=%{y}<br>Gross Expense Ratio=%{marker.size}<extra></extra>",
         "hovertext": [
          "AM CENT MD CP VAL R6 (AMDVX)03/31/2004",
          "EAGLE MID CAP GR F08/28/2018",
          "FID MID CAP IDX (FSMDX)09/08/2011"
         ],
         "legendgroup": "Mid-Cap",
         "marker": {
          "color": "#EF553B",
          "size": [
           0.63,
           0.48,
           0.03
          ],
          "sizemode": "area",
          "sizeref": 0.00020833333333333335,
          "symbol": "circle"
         },
         "mode": "markers",
         "name": "Mid-Cap",
         "orientation": "v",
         "showlegend": true,
         "type": "scatter",
         "x": [
          10.57,
          9.73,
          15.57
         ],
         "xaxis": "x",
         "y": [
          9.33,
          8.81,
          10.19
         ],
         "yaxis": "y"
        },
        {
         "hovertemplate": "<b>%{hovertext}</b><br><br>category=Small Cap<br>YTD=%{x}<br>10 Year/LOF=%{y}<br>Gross Expense Ratio=%{marker.size}<extra></extra>",
         "hovertext": [
          "FID SM CAP IDX (FSSNX)09/08/2011",
          "FKLN SM CAP VAL ADV (FVADX)03/11/1996",
          "J H TRITON N (JGMNX)02/25/2005"
         ],
         "legendgroup": "Small Cap",
         "marker": {
          "color": "#00cc96",
          "size": [
           0.03,
           0.75,
           0.67
          ],
          "sizemode": "area",
          "sizeref": 0.00020833333333333335,
          "symbol": "circle"
         },
         "mode": "markers",
         "name": "Small Cap",
         "orientation": "v",
         "showlegend": true,
         "type": "scatter",
         "x": [
          11.49,
          11.11,
          12.17
         ],
         "xaxis": "x",
         "y": [
          8.93,
          8.98,
          10.04
         ],
         "yaxis": "y"
        },
        {
         "hovertemplate": "<b>%{hovertext}</b><br><br>category=International<br>YTD=%{x}<br>10 Year/LOF=%{y}<br>Gross Expense Ratio=%{marker.size}<extra></extra>",
         "hovertext": [
          "AF EUROPAC GROWTH R6 (RERGX)04/16/1984",
          "AF NEW PERSPECT R6 (RNPGX)03/13/1973",
          "FID EMRG MKTS IDX (FPADX)09/08/2011",
          "FID INTL INDEX (FSPSX)11/05/1997"
         ],
         "legendgroup": "International",
         "marker": {
          "color": "#ab63fa",
          "size": [
           0.47,
           0.42,
           0.08,
           0.04
          ],
          "sizemode": "area",
          "sizeref": 0.00020833333333333335,
          "symbol": "circle"
         },
         "mode": "markers",
         "name": "International",
         "orientation": "v",
         "showlegend": true,
         "type": "scatter",
         "x": [
          12.17,
          18.84,
          15.82,
          11.28
         ],
         "xaxis": "x",
         "y": [
          6.26,
          11.77,
          3.76,
          5.87
         ],
         "yaxis": "y"
        },
        {
         "hovertemplate": "<b>%{hovertext}</b><br><br>category=Specialty<br>YTD=%{x}<br>10 Year/LOF=%{y}<br>Gross Expense Ratio=%{marker.size}<extra></extra>",
         "hovertext": [
          "VAN REAL EST IDX ADM (VGSLX)05/13/1996"
         ],
         "legendgroup": "Specialty",
         "marker": {
          "color": "#FFA15A",
          "size": [
           0.13
          ],
          "sizemode": "area",
          "sizeref": 0.00020833333333333335,
          "symbol": "circle"
         },
         "mode": "markers",
         "name": "Specialty",
         "orientation": "v",
         "showlegend": true,
         "type": "scatter",
         "x": [
          10.49
         ],
         "xaxis": "x",
         "y": [
          7.32
         ],
         "yaxis": "y"
        },
        {
         "hovertemplate": "<b>%{hovertext}</b><br><br>category=0.0<br>YTD=%{x}<br>10 Year/LOF=%{y}<br>Gross Expense Ratio=%{marker.size}<extra></extra>",
         "hovertext": [
          "FID FDM IDX 2015 PRM (FFYPX)10/02/2009",
          "FID FDM IDX 2020 PRM (FKIPX)10/02/2009",
          "FID FDM IDX 2025 PRM (FLIPX)10/02/2009",
          "FID FDM IDX 2030 PRM (FMKPX)10/02/2009",
          "FID FDM IDX 2035 PRM (FNIPX)10/02/2009",
          "FID FDM IDX 2040 PRM (FPIPX)10/02/2009",
          "FID FDM IDX 2045 PRM (FQIPX)10/02/2009",
          "FID FDM IDX 2050 PRM (FRLPX)10/02/2009",
          "FID FDM IDX 2055 PRM (FTYPX)06/01/2011",
          "FID FDM IDX 2060 PRM (FUIPX)08/05/2014",
          "FID FDM IDX 2065 PRM (FVIPX)06/28/2019",
          "FID FDM IDX INC PRM (FAPIX)10/02/2009"
         ],
         "legendgroup": "0.0",
         "marker": {
          "color": "#19d3f3",
          "size": [
           0.05,
           0.05,
           0.05,
           0.05,
           0.05,
           0.05,
           0.05,
           0.05,
           0.05,
           0.05,
           0.06,
           0.05
          ],
          "sizemode": "area",
          "sizeref": 0.00020833333333333335,
          "symbol": "circle"
         },
         "mode": "markers",
         "name": "0.0",
         "orientation": "v",
         "showlegend": true,
         "type": "scatter",
         "x": [
          8.39,
          9.65,
          10.7,
          11.69,
          13.31,
          15.5,
          16.38,
          16.36,
          16.36,
          16.39,
          16.41,
          6.06
         ],
         "xaxis": "x",
         "y": [
          5.4,
          6,
          6.55,
          7.37,
          8.37,
          9.02,
          9.15,
          9.15,
          9.14,
          9.14,
          10.33,
          3.49
         ],
         "yaxis": "y"
        },
        {
         "hovertemplate": "<b>%{hovertext}</b><br><br>category=Income<br>YTD=%{x}<br>10 Year/LOF=%{y}<br>Gross Expense Ratio=%{marker.size}<extra></extra>",
         "hovertext": [
          "FID US BOND IDX (FXNAX)03/08/1990",
          "PGIM GLB TOT RTN R6 (PGTQX)07/07/1986",
          "PIM TOTAL RT INST (PTTRX)05/11/1987"
         ],
         "legendgroup": "Income",
         "marker": {
          "color": "#FF6692",
          "size": [
           0.03,
           0.54,
           0.51
          ],
          "sizemode": "area",
          "sizeref": 0.00020833333333333335,
          "symbol": "circle"
         },
         "mode": "markers",
         "name": "Income",
         "orientation": "v",
         "showlegend": true,
         "type": "scatter",
         "x": [
          3.02,
          3.93,
          4.33
         ],
         "xaxis": "x",
         "y": [
          1.82,
          1.6,
          2.16
         ],
         "yaxis": "y"
        }
       ],
       "layout": {
        "legend": {
         "itemsizing": "constant",
         "title": {
          "text": "category"
         },
         "tracegroupgap": 0
        },
        "template": {
         "data": {
          "bar": [
           {
            "error_x": {
             "color": "#2a3f5f"
            },
            "error_y": {
             "color": "#2a3f5f"
            },
            "marker": {
             "line": {
              "color": "#E5ECF6",
              "width": 0.5
             },
             "pattern": {
              "fillmode": "overlay",
              "size": 10,
              "solidity": 0.2
             }
            },
            "type": "bar"
           }
          ],
          "barpolar": [
           {
            "marker": {
             "line": {
              "color": "#E5ECF6",
              "width": 0.5
             },
             "pattern": {
              "fillmode": "overlay",
              "size": 10,
              "solidity": 0.2
             }
            },
            "type": "barpolar"
           }
          ],
          "carpet": [
           {
            "aaxis": {
             "endlinecolor": "#2a3f5f",
             "gridcolor": "white",
             "linecolor": "white",
             "minorgridcolor": "white",
             "startlinecolor": "#2a3f5f"
            },
            "baxis": {
             "endlinecolor": "#2a3f5f",
             "gridcolor": "white",
             "linecolor": "white",
             "minorgridcolor": "white",
             "startlinecolor": "#2a3f5f"
            },
            "type": "carpet"
           }
          ],
          "choropleth": [
           {
            "colorbar": {
             "outlinewidth": 0,
             "ticks": ""
            },
            "type": "choropleth"
           }
          ],
          "contour": [
           {
            "colorbar": {
             "outlinewidth": 0,
             "ticks": ""
            },
            "colorscale": [
             [
              0,
              "#0d0887"
             ],
             [
              0.1111111111111111,
              "#46039f"
             ],
             [
              0.2222222222222222,
              "#7201a8"
             ],
             [
              0.3333333333333333,
              "#9c179e"
             ],
             [
              0.4444444444444444,
              "#bd3786"
             ],
             [
              0.5555555555555556,
              "#d8576b"
             ],
             [
              0.6666666666666666,
              "#ed7953"
             ],
             [
              0.7777777777777778,
              "#fb9f3a"
             ],
             [
              0.8888888888888888,
              "#fdca26"
             ],
             [
              1,
              "#f0f921"
             ]
            ],
            "type": "contour"
           }
          ],
          "contourcarpet": [
           {
            "colorbar": {
             "outlinewidth": 0,
             "ticks": ""
            },
            "type": "contourcarpet"
           }
          ],
          "heatmap": [
           {
            "colorbar": {
             "outlinewidth": 0,
             "ticks": ""
            },
            "colorscale": [
             [
              0,
              "#0d0887"
             ],
             [
              0.1111111111111111,
              "#46039f"
             ],
             [
              0.2222222222222222,
              "#7201a8"
             ],
             [
              0.3333333333333333,
              "#9c179e"
             ],
             [
              0.4444444444444444,
              "#bd3786"
             ],
             [
              0.5555555555555556,
              "#d8576b"
             ],
             [
              0.6666666666666666,
              "#ed7953"
             ],
             [
              0.7777777777777778,
              "#fb9f3a"
             ],
             [
              0.8888888888888888,
              "#fdca26"
             ],
             [
              1,
              "#f0f921"
             ]
            ],
            "type": "heatmap"
           }
          ],
          "heatmapgl": [
           {
            "colorbar": {
             "outlinewidth": 0,
             "ticks": ""
            },
            "colorscale": [
             [
              0,
              "#0d0887"
             ],
             [
              0.1111111111111111,
              "#46039f"
             ],
             [
              0.2222222222222222,
              "#7201a8"
             ],
             [
              0.3333333333333333,
              "#9c179e"
             ],
             [
              0.4444444444444444,
              "#bd3786"
             ],
             [
              0.5555555555555556,
              "#d8576b"
             ],
             [
              0.6666666666666666,
              "#ed7953"
             ],
             [
              0.7777777777777778,
              "#fb9f3a"
             ],
             [
              0.8888888888888888,
              "#fdca26"
             ],
             [
              1,
              "#f0f921"
             ]
            ],
            "type": "heatmapgl"
           }
          ],
          "histogram": [
           {
            "marker": {
             "pattern": {
              "fillmode": "overlay",
              "size": 10,
              "solidity": 0.2
             }
            },
            "type": "histogram"
           }
          ],
          "histogram2d": [
           {
            "colorbar": {
             "outlinewidth": 0,
             "ticks": ""
            },
            "colorscale": [
             [
              0,
              "#0d0887"
             ],
             [
              0.1111111111111111,
              "#46039f"
             ],
             [
              0.2222222222222222,
              "#7201a8"
             ],
             [
              0.3333333333333333,
              "#9c179e"
             ],
             [
              0.4444444444444444,
              "#bd3786"
             ],
             [
              0.5555555555555556,
              "#d8576b"
             ],
             [
              0.6666666666666666,
              "#ed7953"
             ],
             [
              0.7777777777777778,
              "#fb9f3a"
             ],
             [
              0.8888888888888888,
              "#fdca26"
             ],
             [
              1,
              "#f0f921"
             ]
            ],
            "type": "histogram2d"
           }
          ],
          "histogram2dcontour": [
           {
            "colorbar": {
             "outlinewidth": 0,
             "ticks": ""
            },
            "colorscale": [
             [
              0,
              "#0d0887"
             ],
             [
              0.1111111111111111,
              "#46039f"
             ],
             [
              0.2222222222222222,
              "#7201a8"
             ],
             [
              0.3333333333333333,
              "#9c179e"
             ],
             [
              0.4444444444444444,
              "#bd3786"
             ],
             [
              0.5555555555555556,
              "#d8576b"
             ],
             [
              0.6666666666666666,
              "#ed7953"
             ],
             [
              0.7777777777777778,
              "#fb9f3a"
             ],
             [
              0.8888888888888888,
              "#fdca26"
             ],
             [
              1,
              "#f0f921"
             ]
            ],
            "type": "histogram2dcontour"
           }
          ],
          "mesh3d": [
           {
            "colorbar": {
             "outlinewidth": 0,
             "ticks": ""
            },
            "type": "mesh3d"
           }
          ],
          "parcoords": [
           {
            "line": {
             "colorbar": {
              "outlinewidth": 0,
              "ticks": ""
             }
            },
            "type": "parcoords"
           }
          ],
          "pie": [
           {
            "automargin": true,
            "type": "pie"
           }
          ],
          "scatter": [
           {
            "fillpattern": {
             "fillmode": "overlay",
             "size": 10,
             "solidity": 0.2
            },
            "type": "scatter"
           }
          ],
          "scatter3d": [
           {
            "line": {
             "colorbar": {
              "outlinewidth": 0,
              "ticks": ""
             }
            },
            "marker": {
             "colorbar": {
              "outlinewidth": 0,
              "ticks": ""
             }
            },
            "type": "scatter3d"
           }
          ],
          "scattercarpet": [
           {
            "marker": {
             "colorbar": {
              "outlinewidth": 0,
              "ticks": ""
             }
            },
            "type": "scattercarpet"
           }
          ],
          "scattergeo": [
           {
            "marker": {
             "colorbar": {
              "outlinewidth": 0,
              "ticks": ""
             }
            },
            "type": "scattergeo"
           }
          ],
          "scattergl": [
           {
            "marker": {
             "colorbar": {
              "outlinewidth": 0,
              "ticks": ""
             }
            },
            "type": "scattergl"
           }
          ],
          "scattermapbox": [
           {
            "marker": {
             "colorbar": {
              "outlinewidth": 0,
              "ticks": ""
             }
            },
            "type": "scattermapbox"
           }
          ],
          "scatterpolar": [
           {
            "marker": {
             "colorbar": {
              "outlinewidth": 0,
              "ticks": ""
             }
            },
            "type": "scatterpolar"
           }
          ],
          "scatterpolargl": [
           {
            "marker": {
             "colorbar": {
              "outlinewidth": 0,
              "ticks": ""
             }
            },
            "type": "scatterpolargl"
           }
          ],
          "scatterternary": [
           {
            "marker": {
             "colorbar": {
              "outlinewidth": 0,
              "ticks": ""
             }
            },
            "type": "scatterternary"
           }
          ],
          "surface": [
           {
            "colorbar": {
             "outlinewidth": 0,
             "ticks": ""
            },
            "colorscale": [
             [
              0,
              "#0d0887"
             ],
             [
              0.1111111111111111,
              "#46039f"
             ],
             [
              0.2222222222222222,
              "#7201a8"
             ],
             [
              0.3333333333333333,
              "#9c179e"
             ],
             [
              0.4444444444444444,
              "#bd3786"
             ],
             [
              0.5555555555555556,
              "#d8576b"
             ],
             [
              0.6666666666666666,
              "#ed7953"
             ],
             [
              0.7777777777777778,
              "#fb9f3a"
             ],
             [
              0.8888888888888888,
              "#fdca26"
             ],
             [
              1,
              "#f0f921"
             ]
            ],
            "type": "surface"
           }
          ],
          "table": [
           {
            "cells": {
             "fill": {
              "color": "#EBF0F8"
             },
             "line": {
              "color": "white"
             }
            },
            "header": {
             "fill": {
              "color": "#C8D4E3"
             },
             "line": {
              "color": "white"
             }
            },
            "type": "table"
           }
          ]
         },
         "layout": {
          "annotationdefaults": {
           "arrowcolor": "#2a3f5f",
           "arrowhead": 0,
           "arrowwidth": 1
          },
          "autotypenumbers": "strict",
          "coloraxis": {
           "colorbar": {
            "outlinewidth": 0,
            "ticks": ""
           }
          },
          "colorscale": {
           "diverging": [
            [
             0,
             "#8e0152"
            ],
            [
             0.1,
             "#c51b7d"
            ],
            [
             0.2,
             "#de77ae"
            ],
            [
             0.3,
             "#f1b6da"
            ],
            [
             0.4,
             "#fde0ef"
            ],
            [
             0.5,
             "#f7f7f7"
            ],
            [
             0.6,
             "#e6f5d0"
            ],
            [
             0.7,
             "#b8e186"
            ],
            [
             0.8,
             "#7fbc41"
            ],
            [
             0.9,
             "#4d9221"
            ],
            [
             1,
             "#276419"
            ]
           ],
           "sequential": [
            [
             0,
             "#0d0887"
            ],
            [
             0.1111111111111111,
             "#46039f"
            ],
            [
             0.2222222222222222,
             "#7201a8"
            ],
            [
             0.3333333333333333,
             "#9c179e"
            ],
            [
             0.4444444444444444,
             "#bd3786"
            ],
            [
             0.5555555555555556,
             "#d8576b"
            ],
            [
             0.6666666666666666,
             "#ed7953"
            ],
            [
             0.7777777777777778,
             "#fb9f3a"
            ],
            [
             0.8888888888888888,
             "#fdca26"
            ],
            [
             1,
             "#f0f921"
            ]
           ],
           "sequentialminus": [
            [
             0,
             "#0d0887"
            ],
            [
             0.1111111111111111,
             "#46039f"
            ],
            [
             0.2222222222222222,
             "#7201a8"
            ],
            [
             0.3333333333333333,
             "#9c179e"
            ],
            [
             0.4444444444444444,
             "#bd3786"
            ],
            [
             0.5555555555555556,
             "#d8576b"
            ],
            [
             0.6666666666666666,
             "#ed7953"
            ],
            [
             0.7777777777777778,
             "#fb9f3a"
            ],
            [
             0.8888888888888888,
             "#fdca26"
            ],
            [
             1,
             "#f0f921"
            ]
           ]
          },
          "colorway": [
           "#636efa",
           "#EF553B",
           "#00cc96",
           "#ab63fa",
           "#FFA15A",
           "#19d3f3",
           "#FF6692",
           "#B6E880",
           "#FF97FF",
           "#FECB52"
          ],
          "font": {
           "color": "#2a3f5f"
          },
          "geo": {
           "bgcolor": "white",
           "lakecolor": "white",
           "landcolor": "#E5ECF6",
           "showlakes": true,
           "showland": true,
           "subunitcolor": "white"
          },
          "hoverlabel": {
           "align": "left"
          },
          "hovermode": "closest",
          "mapbox": {
           "style": "light"
          },
          "paper_bgcolor": "white",
          "plot_bgcolor": "#E5ECF6",
          "polar": {
           "angularaxis": {
            "gridcolor": "white",
            "linecolor": "white",
            "ticks": ""
           },
           "bgcolor": "#E5ECF6",
           "radialaxis": {
            "gridcolor": "white",
            "linecolor": "white",
            "ticks": ""
           }
          },
          "scene": {
           "xaxis": {
            "backgroundcolor": "#E5ECF6",
            "gridcolor": "white",
            "gridwidth": 2,
            "linecolor": "white",
            "showbackground": true,
            "ticks": "",
            "zerolinecolor": "white"
           },
           "yaxis": {
            "backgroundcolor": "#E5ECF6",
            "gridcolor": "white",
            "gridwidth": 2,
            "linecolor": "white",
            "showbackground": true,
            "ticks": "",
            "zerolinecolor": "white"
           },
           "zaxis": {
            "backgroundcolor": "#E5ECF6",
            "gridcolor": "white",
            "gridwidth": 2,
            "linecolor": "white",
            "showbackground": true,
            "ticks": "",
            "zerolinecolor": "white"
           }
          },
          "shapedefaults": {
           "line": {
            "color": "#2a3f5f"
           }
          },
          "ternary": {
           "aaxis": {
            "gridcolor": "white",
            "linecolor": "white",
            "ticks": ""
           },
           "baxis": {
            "gridcolor": "white",
            "linecolor": "white",
            "ticks": ""
           },
           "bgcolor": "#E5ECF6",
           "caxis": {
            "gridcolor": "white",
            "linecolor": "white",
            "ticks": ""
           }
          },
          "title": {
           "x": 0.05
          },
          "xaxis": {
           "automargin": true,
           "gridcolor": "white",
           "linecolor": "white",
           "ticks": "",
           "title": {
            "standoff": 15
           },
           "zerolinecolor": "white",
           "zerolinewidth": 2
          },
          "yaxis": {
           "automargin": true,
           "gridcolor": "white",
           "linecolor": "white",
           "ticks": "",
           "title": {
            "standoff": 15
           },
           "zerolinecolor": "white",
           "zerolinewidth": 2
          }
         }
        },
        "title": {
         "text": "10 Yr Performance v. YTD Performance (Expense Ratio=Size)"
        },
        "xaxis": {
         "anchor": "y",
         "domain": [
          0,
          1
         ],
         "title": {
          "text": "YTD"
         }
        },
        "yaxis": {
         "anchor": "x",
         "domain": [
          0,
          1
         ],
         "title": {
          "text": "10 Year/LOF"
         }
        }
       }
      }
     },
     "metadata": {},
     "output_type": "display_data"
    }
   ],
   "source": [
    "numerics = ['int16', 'int32', 'int64', 'float16', 'float32', 'float64']\n",
    "num_df = fid401k_df.select_dtypes(include=numerics)\n",
    "num_df['name'] =  fid401k_df['Name/Inception Date']\n",
    "num_df['category'] =  fid401k_df['Category']\n",
    "#num_df.head()\n",
    "fig = px.scatter(num_df, x=\"YTD\", y=\"10 Year/LOF\",size=\"Gross Expense Ratio\", color=\"category\",\n",
    "                 hover_name=\"name\", size_max=60, title=\"10 Yr Performance v. YTD Performance (Expense Ratio=Size)\")\n",
    "fig.show()"
   ]
  },
  {
   "cell_type": "code",
   "execution_count": 15,
   "metadata": {},
   "outputs": [
    {
     "data": {
      "application/vnd.plotly.v1+json": {
       "config": {
        "plotlyServerURL": "https://plot.ly"
       },
       "data": [
        {
         "hovertemplate": "<b>%{hovertext}</b><br><br>category=Large Cap<br>YTD=%{x}<br>1 Year=%{y}<br>Gross Expense Ratio=%{marker.size}<extra></extra>",
         "hovertext": [
          "DODGE & COX STOCK X (DOXGX)01/04/1965",
          "FID 500 INDEX (FXAIX)02/17/1988",
          "FID CONTRAFUND K6 (FLCNX)05/25/2017",
          "JPM LG CAP GROWTH R6 (JLGMX)02/28/1992",
          "VAN FTSE SOC IDX ADM (VFTAX)01/14/2003"
         ],
         "legendgroup": "Large Cap",
         "marker": {
          "color": "#636efa",
          "size": [
           0.46,
           0.02,
           0.45,
           0.52,
           0.14
          ],
          "sizemode": "area",
          "sizeref": 0.00020833333333333335,
          "symbol": "circle"
         },
         "mode": "markers",
         "name": "Large Cap",
         "orientation": "v",
         "showlegend": true,
         "type": "scatter",
         "x": [
          17.55,
          23.24,
          33.8,
          29.94,
          22.75
         ],
         "xaxis": "x",
         "y": [
          27.83,
          36.33,
          45.99,
          44.56,
          37.64
         ],
         "yaxis": "y"
        },
        {
         "hovertemplate": "<b>%{hovertext}</b><br><br>category=Mid-Cap<br>YTD=%{x}<br>1 Year=%{y}<br>Gross Expense Ratio=%{marker.size}<extra></extra>",
         "hovertext": [
          "AM CENT MD CP VAL R6 (AMDVX)03/31/2004",
          "EAGLE MID CAP GR F08/28/2018",
          "FID MID CAP IDX (FSMDX)09/08/2011"
         ],
         "legendgroup": "Mid-Cap",
         "marker": {
          "color": "#EF553B",
          "size": [
           0.63,
           0.48,
           0.03
          ],
          "sizemode": "area",
          "sizeref": 0.00020833333333333335,
          "symbol": "circle"
         },
         "mode": "markers",
         "name": "Mid-Cap",
         "orientation": "v",
         "showlegend": true,
         "type": "scatter",
         "x": [
          10.57,
          9.73,
          15.57
         ],
         "xaxis": "x",
         "y": [
          23.75,
          21.06,
          29.29
         ],
         "yaxis": "y"
        },
        {
         "hovertemplate": "<b>%{hovertext}</b><br><br>category=Small Cap<br>YTD=%{x}<br>1 Year=%{y}<br>Gross Expense Ratio=%{marker.size}<extra></extra>",
         "hovertext": [
          "FID SM CAP IDX (FSSNX)09/08/2011",
          "FKLN SM CAP VAL ADV (FVADX)03/11/1996",
          "J H TRITON N (JGMNX)02/25/2005"
         ],
         "legendgroup": "Small Cap",
         "marker": {
          "color": "#00cc96",
          "size": [
           0.03,
           0.75,
           0.67
          ],
          "sizemode": "area",
          "sizeref": 0.00020833333333333335,
          "symbol": "circle"
         },
         "mode": "markers",
         "name": "Small Cap",
         "orientation": "v",
         "showlegend": true,
         "type": "scatter",
         "x": [
          11.49,
          11.11,
          12.17
         ],
         "xaxis": "x",
         "y": [
          26.84,
          24.71,
          23.59
         ],
         "yaxis": "y"
        },
        {
         "hovertemplate": "<b>%{hovertext}</b><br><br>category=International<br>YTD=%{x}<br>1 Year=%{y}<br>Gross Expense Ratio=%{marker.size}<extra></extra>",
         "hovertext": [
          "AF EUROPAC GROWTH R6 (RERGX)04/16/1984",
          "AF NEW PERSPECT R6 (RNPGX)03/13/1973",
          "FID EMRG MKTS IDX (FPADX)09/08/2011",
          "FID INTL INDEX (FSPSX)11/05/1997"
         ],
         "legendgroup": "International",
         "marker": {
          "color": "#ab63fa",
          "size": [
           0.47,
           0.42,
           0.08,
           0.04
          ],
          "sizemode": "area",
          "sizeref": 0.00020833333333333335,
          "symbol": "circle"
         },
         "mode": "markers",
         "name": "International",
         "orientation": "v",
         "showlegend": true,
         "type": "scatter",
         "x": [
          12.17,
          18.84,
          15.82,
          11.28
         ],
         "xaxis": "x",
         "y": [
          24.71,
          31.71,
          24.17,
          25.36
         ],
         "yaxis": "y"
        },
        {
         "hovertemplate": "<b>%{hovertext}</b><br><br>category=Specialty<br>YTD=%{x}<br>1 Year=%{y}<br>Gross Expense Ratio=%{marker.size}<extra></extra>",
         "hovertext": [
          "VAN REAL EST IDX ADM (VGSLX)05/13/1996"
         ],
         "legendgroup": "Specialty",
         "marker": {
          "color": "#FFA15A",
          "size": [
           0.13
          ],
          "sizemode": "area",
          "sizeref": 0.00020833333333333335,
          "symbol": "circle"
         },
         "mode": "markers",
         "name": "Specialty",
         "orientation": "v",
         "showlegend": true,
         "type": "scatter",
         "x": [
          10.49
         ],
         "xaxis": "x",
         "y": [
          34.2
         ],
         "yaxis": "y"
        },
        {
         "hovertemplate": "<b>%{hovertext}</b><br><br>category=0.0<br>YTD=%{x}<br>1 Year=%{y}<br>Gross Expense Ratio=%{marker.size}<extra></extra>",
         "hovertext": [
          "FID FDM IDX 2015 PRM (FFYPX)10/02/2009",
          "FID FDM IDX 2020 PRM (FKIPX)10/02/2009",
          "FID FDM IDX 2025 PRM (FLIPX)10/02/2009",
          "FID FDM IDX 2030 PRM (FMKPX)10/02/2009",
          "FID FDM IDX 2035 PRM (FNIPX)10/02/2009",
          "FID FDM IDX 2040 PRM (FPIPX)10/02/2009",
          "FID FDM IDX 2045 PRM (FQIPX)10/02/2009",
          "FID FDM IDX 2050 PRM (FRLPX)10/02/2009",
          "FID FDM IDX 2055 PRM (FTYPX)06/01/2011",
          "FID FDM IDX 2060 PRM (FUIPX)08/05/2014",
          "FID FDM IDX 2065 PRM (FVIPX)06/28/2019",
          "FID FDM IDX INC PRM (FAPIX)10/02/2009"
         ],
         "legendgroup": "0.0",
         "marker": {
          "color": "#19d3f3",
          "size": [
           0.05,
           0.05,
           0.05,
           0.05,
           0.05,
           0.05,
           0.05,
           0.05,
           0.05,
           0.05,
           0.06,
           0.05
          ],
          "sizemode": "area",
          "sizeref": 0.00020833333333333335,
          "symbol": "circle"
         },
         "mode": "markers",
         "name": "0.0",
         "orientation": "v",
         "showlegend": true,
         "type": "scatter",
         "x": [
          8.39,
          9.65,
          10.7,
          11.69,
          13.31,
          15.5,
          16.38,
          16.36,
          16.36,
          16.39,
          16.41,
          6.06
         ],
         "xaxis": "x",
         "y": [
          17.79,
          19.92,
          21.84,
          23.06,
          25.34,
          28.21,
          29.28,
          29.23,
          29.26,
          29.27,
          29.29,
          13.67
         ],
         "yaxis": "y"
        },
        {
         "hovertemplate": "<b>%{hovertext}</b><br><br>category=Income<br>YTD=%{x}<br>1 Year=%{y}<br>Gross Expense Ratio=%{marker.size}<extra></extra>",
         "hovertext": [
          "FID US BOND IDX (FXNAX)03/08/1990",
          "PGIM GLB TOT RTN R6 (PGTQX)07/07/1986",
          "PIM TOTAL RT INST (PTTRX)05/11/1987"
         ],
         "legendgroup": "Income",
         "marker": {
          "color": "#FF6692",
          "size": [
           0.03,
           0.54,
           0.51
          ],
          "sizemode": "area",
          "sizeref": 0.00020833333333333335,
          "symbol": "circle"
         },
         "mode": "markers",
         "name": "Income",
         "orientation": "v",
         "showlegend": true,
         "type": "scatter",
         "x": [
          3.02,
          3.93,
          4.33
         ],
         "xaxis": "x",
         "y": [
          11.53,
          15.57,
          13.01
         ],
         "yaxis": "y"
        }
       ],
       "layout": {
        "legend": {
         "itemsizing": "constant",
         "title": {
          "text": "category"
         },
         "tracegroupgap": 0
        },
        "template": {
         "data": {
          "bar": [
           {
            "error_x": {
             "color": "#2a3f5f"
            },
            "error_y": {
             "color": "#2a3f5f"
            },
            "marker": {
             "line": {
              "color": "#E5ECF6",
              "width": 0.5
             },
             "pattern": {
              "fillmode": "overlay",
              "size": 10,
              "solidity": 0.2
             }
            },
            "type": "bar"
           }
          ],
          "barpolar": [
           {
            "marker": {
             "line": {
              "color": "#E5ECF6",
              "width": 0.5
             },
             "pattern": {
              "fillmode": "overlay",
              "size": 10,
              "solidity": 0.2
             }
            },
            "type": "barpolar"
           }
          ],
          "carpet": [
           {
            "aaxis": {
             "endlinecolor": "#2a3f5f",
             "gridcolor": "white",
             "linecolor": "white",
             "minorgridcolor": "white",
             "startlinecolor": "#2a3f5f"
            },
            "baxis": {
             "endlinecolor": "#2a3f5f",
             "gridcolor": "white",
             "linecolor": "white",
             "minorgridcolor": "white",
             "startlinecolor": "#2a3f5f"
            },
            "type": "carpet"
           }
          ],
          "choropleth": [
           {
            "colorbar": {
             "outlinewidth": 0,
             "ticks": ""
            },
            "type": "choropleth"
           }
          ],
          "contour": [
           {
            "colorbar": {
             "outlinewidth": 0,
             "ticks": ""
            },
            "colorscale": [
             [
              0,
              "#0d0887"
             ],
             [
              0.1111111111111111,
              "#46039f"
             ],
             [
              0.2222222222222222,
              "#7201a8"
             ],
             [
              0.3333333333333333,
              "#9c179e"
             ],
             [
              0.4444444444444444,
              "#bd3786"
             ],
             [
              0.5555555555555556,
              "#d8576b"
             ],
             [
              0.6666666666666666,
              "#ed7953"
             ],
             [
              0.7777777777777778,
              "#fb9f3a"
             ],
             [
              0.8888888888888888,
              "#fdca26"
             ],
             [
              1,
              "#f0f921"
             ]
            ],
            "type": "contour"
           }
          ],
          "contourcarpet": [
           {
            "colorbar": {
             "outlinewidth": 0,
             "ticks": ""
            },
            "type": "contourcarpet"
           }
          ],
          "heatmap": [
           {
            "colorbar": {
             "outlinewidth": 0,
             "ticks": ""
            },
            "colorscale": [
             [
              0,
              "#0d0887"
             ],
             [
              0.1111111111111111,
              "#46039f"
             ],
             [
              0.2222222222222222,
              "#7201a8"
             ],
             [
              0.3333333333333333,
              "#9c179e"
             ],
             [
              0.4444444444444444,
              "#bd3786"
             ],
             [
              0.5555555555555556,
              "#d8576b"
             ],
             [
              0.6666666666666666,
              "#ed7953"
             ],
             [
              0.7777777777777778,
              "#fb9f3a"
             ],
             [
              0.8888888888888888,
              "#fdca26"
             ],
             [
              1,
              "#f0f921"
             ]
            ],
            "type": "heatmap"
           }
          ],
          "heatmapgl": [
           {
            "colorbar": {
             "outlinewidth": 0,
             "ticks": ""
            },
            "colorscale": [
             [
              0,
              "#0d0887"
             ],
             [
              0.1111111111111111,
              "#46039f"
             ],
             [
              0.2222222222222222,
              "#7201a8"
             ],
             [
              0.3333333333333333,
              "#9c179e"
             ],
             [
              0.4444444444444444,
              "#bd3786"
             ],
             [
              0.5555555555555556,
              "#d8576b"
             ],
             [
              0.6666666666666666,
              "#ed7953"
             ],
             [
              0.7777777777777778,
              "#fb9f3a"
             ],
             [
              0.8888888888888888,
              "#fdca26"
             ],
             [
              1,
              "#f0f921"
             ]
            ],
            "type": "heatmapgl"
           }
          ],
          "histogram": [
           {
            "marker": {
             "pattern": {
              "fillmode": "overlay",
              "size": 10,
              "solidity": 0.2
             }
            },
            "type": "histogram"
           }
          ],
          "histogram2d": [
           {
            "colorbar": {
             "outlinewidth": 0,
             "ticks": ""
            },
            "colorscale": [
             [
              0,
              "#0d0887"
             ],
             [
              0.1111111111111111,
              "#46039f"
             ],
             [
              0.2222222222222222,
              "#7201a8"
             ],
             [
              0.3333333333333333,
              "#9c179e"
             ],
             [
              0.4444444444444444,
              "#bd3786"
             ],
             [
              0.5555555555555556,
              "#d8576b"
             ],
             [
              0.6666666666666666,
              "#ed7953"
             ],
             [
              0.7777777777777778,
              "#fb9f3a"
             ],
             [
              0.8888888888888888,
              "#fdca26"
             ],
             [
              1,
              "#f0f921"
             ]
            ],
            "type": "histogram2d"
           }
          ],
          "histogram2dcontour": [
           {
            "colorbar": {
             "outlinewidth": 0,
             "ticks": ""
            },
            "colorscale": [
             [
              0,
              "#0d0887"
             ],
             [
              0.1111111111111111,
              "#46039f"
             ],
             [
              0.2222222222222222,
              "#7201a8"
             ],
             [
              0.3333333333333333,
              "#9c179e"
             ],
             [
              0.4444444444444444,
              "#bd3786"
             ],
             [
              0.5555555555555556,
              "#d8576b"
             ],
             [
              0.6666666666666666,
              "#ed7953"
             ],
             [
              0.7777777777777778,
              "#fb9f3a"
             ],
             [
              0.8888888888888888,
              "#fdca26"
             ],
             [
              1,
              "#f0f921"
             ]
            ],
            "type": "histogram2dcontour"
           }
          ],
          "mesh3d": [
           {
            "colorbar": {
             "outlinewidth": 0,
             "ticks": ""
            },
            "type": "mesh3d"
           }
          ],
          "parcoords": [
           {
            "line": {
             "colorbar": {
              "outlinewidth": 0,
              "ticks": ""
             }
            },
            "type": "parcoords"
           }
          ],
          "pie": [
           {
            "automargin": true,
            "type": "pie"
           }
          ],
          "scatter": [
           {
            "fillpattern": {
             "fillmode": "overlay",
             "size": 10,
             "solidity": 0.2
            },
            "type": "scatter"
           }
          ],
          "scatter3d": [
           {
            "line": {
             "colorbar": {
              "outlinewidth": 0,
              "ticks": ""
             }
            },
            "marker": {
             "colorbar": {
              "outlinewidth": 0,
              "ticks": ""
             }
            },
            "type": "scatter3d"
           }
          ],
          "scattercarpet": [
           {
            "marker": {
             "colorbar": {
              "outlinewidth": 0,
              "ticks": ""
             }
            },
            "type": "scattercarpet"
           }
          ],
          "scattergeo": [
           {
            "marker": {
             "colorbar": {
              "outlinewidth": 0,
              "ticks": ""
             }
            },
            "type": "scattergeo"
           }
          ],
          "scattergl": [
           {
            "marker": {
             "colorbar": {
              "outlinewidth": 0,
              "ticks": ""
             }
            },
            "type": "scattergl"
           }
          ],
          "scattermapbox": [
           {
            "marker": {
             "colorbar": {
              "outlinewidth": 0,
              "ticks": ""
             }
            },
            "type": "scattermapbox"
           }
          ],
          "scatterpolar": [
           {
            "marker": {
             "colorbar": {
              "outlinewidth": 0,
              "ticks": ""
             }
            },
            "type": "scatterpolar"
           }
          ],
          "scatterpolargl": [
           {
            "marker": {
             "colorbar": {
              "outlinewidth": 0,
              "ticks": ""
             }
            },
            "type": "scatterpolargl"
           }
          ],
          "scatterternary": [
           {
            "marker": {
             "colorbar": {
              "outlinewidth": 0,
              "ticks": ""
             }
            },
            "type": "scatterternary"
           }
          ],
          "surface": [
           {
            "colorbar": {
             "outlinewidth": 0,
             "ticks": ""
            },
            "colorscale": [
             [
              0,
              "#0d0887"
             ],
             [
              0.1111111111111111,
              "#46039f"
             ],
             [
              0.2222222222222222,
              "#7201a8"
             ],
             [
              0.3333333333333333,
              "#9c179e"
             ],
             [
              0.4444444444444444,
              "#bd3786"
             ],
             [
              0.5555555555555556,
              "#d8576b"
             ],
             [
              0.6666666666666666,
              "#ed7953"
             ],
             [
              0.7777777777777778,
              "#fb9f3a"
             ],
             [
              0.8888888888888888,
              "#fdca26"
             ],
             [
              1,
              "#f0f921"
             ]
            ],
            "type": "surface"
           }
          ],
          "table": [
           {
            "cells": {
             "fill": {
              "color": "#EBF0F8"
             },
             "line": {
              "color": "white"
             }
            },
            "header": {
             "fill": {
              "color": "#C8D4E3"
             },
             "line": {
              "color": "white"
             }
            },
            "type": "table"
           }
          ]
         },
         "layout": {
          "annotationdefaults": {
           "arrowcolor": "#2a3f5f",
           "arrowhead": 0,
           "arrowwidth": 1
          },
          "autotypenumbers": "strict",
          "coloraxis": {
           "colorbar": {
            "outlinewidth": 0,
            "ticks": ""
           }
          },
          "colorscale": {
           "diverging": [
            [
             0,
             "#8e0152"
            ],
            [
             0.1,
             "#c51b7d"
            ],
            [
             0.2,
             "#de77ae"
            ],
            [
             0.3,
             "#f1b6da"
            ],
            [
             0.4,
             "#fde0ef"
            ],
            [
             0.5,
             "#f7f7f7"
            ],
            [
             0.6,
             "#e6f5d0"
            ],
            [
             0.7,
             "#b8e186"
            ],
            [
             0.8,
             "#7fbc41"
            ],
            [
             0.9,
             "#4d9221"
            ],
            [
             1,
             "#276419"
            ]
           ],
           "sequential": [
            [
             0,
             "#0d0887"
            ],
            [
             0.1111111111111111,
             "#46039f"
            ],
            [
             0.2222222222222222,
             "#7201a8"
            ],
            [
             0.3333333333333333,
             "#9c179e"
            ],
            [
             0.4444444444444444,
             "#bd3786"
            ],
            [
             0.5555555555555556,
             "#d8576b"
            ],
            [
             0.6666666666666666,
             "#ed7953"
            ],
            [
             0.7777777777777778,
             "#fb9f3a"
            ],
            [
             0.8888888888888888,
             "#fdca26"
            ],
            [
             1,
             "#f0f921"
            ]
           ],
           "sequentialminus": [
            [
             0,
             "#0d0887"
            ],
            [
             0.1111111111111111,
             "#46039f"
            ],
            [
             0.2222222222222222,
             "#7201a8"
            ],
            [
             0.3333333333333333,
             "#9c179e"
            ],
            [
             0.4444444444444444,
             "#bd3786"
            ],
            [
             0.5555555555555556,
             "#d8576b"
            ],
            [
             0.6666666666666666,
             "#ed7953"
            ],
            [
             0.7777777777777778,
             "#fb9f3a"
            ],
            [
             0.8888888888888888,
             "#fdca26"
            ],
            [
             1,
             "#f0f921"
            ]
           ]
          },
          "colorway": [
           "#636efa",
           "#EF553B",
           "#00cc96",
           "#ab63fa",
           "#FFA15A",
           "#19d3f3",
           "#FF6692",
           "#B6E880",
           "#FF97FF",
           "#FECB52"
          ],
          "font": {
           "color": "#2a3f5f"
          },
          "geo": {
           "bgcolor": "white",
           "lakecolor": "white",
           "landcolor": "#E5ECF6",
           "showlakes": true,
           "showland": true,
           "subunitcolor": "white"
          },
          "hoverlabel": {
           "align": "left"
          },
          "hovermode": "closest",
          "mapbox": {
           "style": "light"
          },
          "paper_bgcolor": "white",
          "plot_bgcolor": "#E5ECF6",
          "polar": {
           "angularaxis": {
            "gridcolor": "white",
            "linecolor": "white",
            "ticks": ""
           },
           "bgcolor": "#E5ECF6",
           "radialaxis": {
            "gridcolor": "white",
            "linecolor": "white",
            "ticks": ""
           }
          },
          "scene": {
           "xaxis": {
            "backgroundcolor": "#E5ECF6",
            "gridcolor": "white",
            "gridwidth": 2,
            "linecolor": "white",
            "showbackground": true,
            "ticks": "",
            "zerolinecolor": "white"
           },
           "yaxis": {
            "backgroundcolor": "#E5ECF6",
            "gridcolor": "white",
            "gridwidth": 2,
            "linecolor": "white",
            "showbackground": true,
            "ticks": "",
            "zerolinecolor": "white"
           },
           "zaxis": {
            "backgroundcolor": "#E5ECF6",
            "gridcolor": "white",
            "gridwidth": 2,
            "linecolor": "white",
            "showbackground": true,
            "ticks": "",
            "zerolinecolor": "white"
           }
          },
          "shapedefaults": {
           "line": {
            "color": "#2a3f5f"
           }
          },
          "ternary": {
           "aaxis": {
            "gridcolor": "white",
            "linecolor": "white",
            "ticks": ""
           },
           "baxis": {
            "gridcolor": "white",
            "linecolor": "white",
            "ticks": ""
           },
           "bgcolor": "#E5ECF6",
           "caxis": {
            "gridcolor": "white",
            "linecolor": "white",
            "ticks": ""
           }
          },
          "title": {
           "x": 0.05
          },
          "xaxis": {
           "automargin": true,
           "gridcolor": "white",
           "linecolor": "white",
           "ticks": "",
           "title": {
            "standoff": 15
           },
           "zerolinecolor": "white",
           "zerolinewidth": 2
          },
          "yaxis": {
           "automargin": true,
           "gridcolor": "white",
           "linecolor": "white",
           "ticks": "",
           "title": {
            "standoff": 15
           },
           "zerolinecolor": "white",
           "zerolinewidth": 2
          }
         }
        },
        "title": {
         "text": "1 Yr Performance v. YTD Performance (Expense Ratio=Size)"
        },
        "xaxis": {
         "anchor": "y",
         "domain": [
          0,
          1
         ],
         "title": {
          "text": "YTD"
         }
        },
        "yaxis": {
         "anchor": "x",
         "domain": [
          0,
          1
         ],
         "title": {
          "text": "1 Year"
         }
        }
       }
      }
     },
     "metadata": {},
     "output_type": "display_data"
    }
   ],
   "source": [
    "fig = px.scatter(num_df, x=\"YTD\", y=\"1 Year\",size=\"Gross Expense Ratio\", color=\"category\",\n",
    "                 hover_name=\"name\", size_max=60, title=\"1 Yr Performance v. YTD Performance (Expense Ratio=Size)\")\n",
    "fig.show()"
   ]
  },
  {
   "cell_type": "code",
   "execution_count": 16,
   "metadata": {},
   "outputs": [
    {
     "data": {
      "application/vnd.plotly.v1+json": {
       "config": {
        "plotlyServerURL": "https://plot.ly"
       },
       "data": [
        {
         "customdata": [
          [
           "DODGE & COX STOCK X (DOXGX)01/04/1965"
          ],
          [
           "FID 500 INDEX (FXAIX)02/17/1988"
          ],
          [
           "FID CONTRAFUND K6 (FLCNX)05/25/2017"
          ],
          [
           "JPM LG CAP GROWTH R6 (JLGMX)02/28/1992"
          ],
          [
           "VAN FTSE SOC IDX ADM (VFTAX)01/14/2003"
          ]
         ],
         "hovertemplate": "Category=Large Cap<br>1 Year=%{x}<br>10 Year/LOF=%{y}<br>Gross Expense Ratio=%{marker.size}<br>Name/Inception Date=%{customdata[0]}<extra></extra>",
         "legendgroup": "Large Cap",
         "marker": {
          "color": "#636efa",
          "size": [
           0.46,
           0.02,
           0.45,
           0.52,
           0.14
          ],
          "sizemode": "area",
          "sizeref": 0.001875,
          "symbol": "circle"
         },
         "mode": "markers",
         "name": "Large Cap",
         "orientation": "v",
         "showlegend": true,
         "type": "scatter",
         "x": [
          27.83,
          36.33,
          45.99,
          44.56,
          37.64
         ],
         "xaxis": "x",
         "y": [
          11.29,
          13.37,
          16.71,
          17.81,
          13.82
         ],
         "yaxis": "y"
        },
        {
         "customdata": [
          [
           "AM CENT MD CP VAL R6 (AMDVX)03/31/2004"
          ],
          [
           "EAGLE MID CAP GR F08/28/2018"
          ],
          [
           "FID MID CAP IDX (FSMDX)09/08/2011"
          ]
         ],
         "hovertemplate": "Category=Mid-Cap<br>1 Year=%{x}<br>10 Year/LOF=%{y}<br>Gross Expense Ratio=%{marker.size}<br>Name/Inception Date=%{customdata[0]}<extra></extra>",
         "legendgroup": "Mid-Cap",
         "marker": {
          "color": "#EF553B",
          "size": [
           0.63,
           0.48,
           0.03
          ],
          "sizemode": "area",
          "sizeref": 0.001875,
          "symbol": "circle"
         },
         "mode": "markers",
         "name": "Mid-Cap",
         "orientation": "v",
         "showlegend": true,
         "type": "scatter",
         "x": [
          23.75,
          21.06,
          29.29
         ],
         "xaxis": "x",
         "y": [
          9.33,
          8.81,
          10.19
         ],
         "yaxis": "y"
        },
        {
         "customdata": [
          [
           "FID SM CAP IDX (FSSNX)09/08/2011"
          ],
          [
           "FKLN SM CAP VAL ADV (FVADX)03/11/1996"
          ],
          [
           "J H TRITON N (JGMNX)02/25/2005"
          ]
         ],
         "hovertemplate": "Category=Small Cap<br>1 Year=%{x}<br>10 Year/LOF=%{y}<br>Gross Expense Ratio=%{marker.size}<br>Name/Inception Date=%{customdata[0]}<extra></extra>",
         "legendgroup": "Small Cap",
         "marker": {
          "color": "#00cc96",
          "size": [
           0.03,
           0.75,
           0.67
          ],
          "sizemode": "area",
          "sizeref": 0.001875,
          "symbol": "circle"
         },
         "mode": "markers",
         "name": "Small Cap",
         "orientation": "v",
         "showlegend": true,
         "type": "scatter",
         "x": [
          26.84,
          24.71,
          23.59
         ],
         "xaxis": "x",
         "y": [
          8.93,
          8.98,
          10.04
         ],
         "yaxis": "y"
        },
        {
         "customdata": [
          [
           "AF EUROPAC GROWTH R6 (RERGX)04/16/1984"
          ],
          [
           "AF NEW PERSPECT R6 (RNPGX)03/13/1973"
          ],
          [
           "FID EMRG MKTS IDX (FPADX)09/08/2011"
          ],
          [
           "FID INTL INDEX (FSPSX)11/05/1997"
          ]
         ],
         "hovertemplate": "Category=International<br>1 Year=%{x}<br>10 Year/LOF=%{y}<br>Gross Expense Ratio=%{marker.size}<br>Name/Inception Date=%{customdata[0]}<extra></extra>",
         "legendgroup": "International",
         "marker": {
          "color": "#ab63fa",
          "size": [
           0.47,
           0.42,
           0.08,
           0.04
          ],
          "sizemode": "area",
          "sizeref": 0.001875,
          "symbol": "circle"
         },
         "mode": "markers",
         "name": "International",
         "orientation": "v",
         "showlegend": true,
         "type": "scatter",
         "x": [
          24.71,
          31.71,
          24.17,
          25.36
         ],
         "xaxis": "x",
         "y": [
          6.26,
          11.77,
          3.76,
          5.87
         ],
         "yaxis": "y"
        },
        {
         "customdata": [
          [
           "VAN REAL EST IDX ADM (VGSLX)05/13/1996"
          ]
         ],
         "hovertemplate": "Category=Specialty<br>1 Year=%{x}<br>10 Year/LOF=%{y}<br>Gross Expense Ratio=%{marker.size}<br>Name/Inception Date=%{customdata[0]}<extra></extra>",
         "legendgroup": "Specialty",
         "marker": {
          "color": "#FFA15A",
          "size": [
           0.13
          ],
          "sizemode": "area",
          "sizeref": 0.001875,
          "symbol": "circle"
         },
         "mode": "markers",
         "name": "Specialty",
         "orientation": "v",
         "showlegend": true,
         "type": "scatter",
         "x": [
          34.2
         ],
         "xaxis": "x",
         "y": [
          7.32
         ],
         "yaxis": "y"
        },
        {
         "customdata": [
          [
           "FID FDM IDX 2015 PRM (FFYPX)10/02/2009"
          ],
          [
           "FID FDM IDX 2020 PRM (FKIPX)10/02/2009"
          ],
          [
           "FID FDM IDX 2025 PRM (FLIPX)10/02/2009"
          ],
          [
           "FID FDM IDX 2030 PRM (FMKPX)10/02/2009"
          ],
          [
           "FID FDM IDX 2035 PRM (FNIPX)10/02/2009"
          ],
          [
           "FID FDM IDX 2040 PRM (FPIPX)10/02/2009"
          ],
          [
           "FID FDM IDX 2045 PRM (FQIPX)10/02/2009"
          ],
          [
           "FID FDM IDX 2050 PRM (FRLPX)10/02/2009"
          ],
          [
           "FID FDM IDX 2055 PRM (FTYPX)06/01/2011"
          ],
          [
           "FID FDM IDX 2060 PRM (FUIPX)08/05/2014"
          ],
          [
           "FID FDM IDX 2065 PRM (FVIPX)06/28/2019"
          ],
          [
           "FID FDM IDX INC PRM (FAPIX)10/02/2009"
          ]
         ],
         "hovertemplate": "Category=0.0<br>1 Year=%{x}<br>10 Year/LOF=%{y}<br>Gross Expense Ratio=%{marker.size}<br>Name/Inception Date=%{customdata[0]}<extra></extra>",
         "legendgroup": "0.0",
         "marker": {
          "color": "#19d3f3",
          "size": [
           0.05,
           0.05,
           0.05,
           0.05,
           0.05,
           0.05,
           0.05,
           0.05,
           0.05,
           0.05,
           0.06,
           0.05
          ],
          "sizemode": "area",
          "sizeref": 0.001875,
          "symbol": "circle"
         },
         "mode": "markers",
         "name": "0.0",
         "orientation": "v",
         "showlegend": true,
         "type": "scatter",
         "x": [
          17.79,
          19.92,
          21.84,
          23.06,
          25.34,
          28.21,
          29.28,
          29.23,
          29.26,
          29.27,
          29.29,
          13.67
         ],
         "xaxis": "x",
         "y": [
          5.4,
          6,
          6.55,
          7.37,
          8.37,
          9.02,
          9.15,
          9.15,
          9.14,
          9.14,
          10.33,
          3.49
         ],
         "yaxis": "y"
        },
        {
         "customdata": [
          [
           "FID US BOND IDX (FXNAX)03/08/1990"
          ],
          [
           "PGIM GLB TOT RTN R6 (PGTQX)07/07/1986"
          ],
          [
           "PIM TOTAL RT INST (PTTRX)05/11/1987"
          ]
         ],
         "hovertemplate": "Category=Income<br>1 Year=%{x}<br>10 Year/LOF=%{y}<br>Gross Expense Ratio=%{marker.size}<br>Name/Inception Date=%{customdata[0]}<extra></extra>",
         "legendgroup": "Income",
         "marker": {
          "color": "#FF6692",
          "size": [
           0.03,
           0.54,
           0.51
          ],
          "sizemode": "area",
          "sizeref": 0.001875,
          "symbol": "circle"
         },
         "mode": "markers",
         "name": "Income",
         "orientation": "v",
         "showlegend": true,
         "type": "scatter",
         "x": [
          11.53,
          15.57,
          13.01
         ],
         "xaxis": "x",
         "y": [
          1.82,
          1.6,
          2.16
         ],
         "yaxis": "y"
        }
       ],
       "layout": {
        "legend": {
         "itemsizing": "constant",
         "title": {
          "text": "Category"
         },
         "tracegroupgap": 0
        },
        "template": {
         "data": {
          "bar": [
           {
            "error_x": {
             "color": "#2a3f5f"
            },
            "error_y": {
             "color": "#2a3f5f"
            },
            "marker": {
             "line": {
              "color": "#E5ECF6",
              "width": 0.5
             },
             "pattern": {
              "fillmode": "overlay",
              "size": 10,
              "solidity": 0.2
             }
            },
            "type": "bar"
           }
          ],
          "barpolar": [
           {
            "marker": {
             "line": {
              "color": "#E5ECF6",
              "width": 0.5
             },
             "pattern": {
              "fillmode": "overlay",
              "size": 10,
              "solidity": 0.2
             }
            },
            "type": "barpolar"
           }
          ],
          "carpet": [
           {
            "aaxis": {
             "endlinecolor": "#2a3f5f",
             "gridcolor": "white",
             "linecolor": "white",
             "minorgridcolor": "white",
             "startlinecolor": "#2a3f5f"
            },
            "baxis": {
             "endlinecolor": "#2a3f5f",
             "gridcolor": "white",
             "linecolor": "white",
             "minorgridcolor": "white",
             "startlinecolor": "#2a3f5f"
            },
            "type": "carpet"
           }
          ],
          "choropleth": [
           {
            "colorbar": {
             "outlinewidth": 0,
             "ticks": ""
            },
            "type": "choropleth"
           }
          ],
          "contour": [
           {
            "colorbar": {
             "outlinewidth": 0,
             "ticks": ""
            },
            "colorscale": [
             [
              0,
              "#0d0887"
             ],
             [
              0.1111111111111111,
              "#46039f"
             ],
             [
              0.2222222222222222,
              "#7201a8"
             ],
             [
              0.3333333333333333,
              "#9c179e"
             ],
             [
              0.4444444444444444,
              "#bd3786"
             ],
             [
              0.5555555555555556,
              "#d8576b"
             ],
             [
              0.6666666666666666,
              "#ed7953"
             ],
             [
              0.7777777777777778,
              "#fb9f3a"
             ],
             [
              0.8888888888888888,
              "#fdca26"
             ],
             [
              1,
              "#f0f921"
             ]
            ],
            "type": "contour"
           }
          ],
          "contourcarpet": [
           {
            "colorbar": {
             "outlinewidth": 0,
             "ticks": ""
            },
            "type": "contourcarpet"
           }
          ],
          "heatmap": [
           {
            "colorbar": {
             "outlinewidth": 0,
             "ticks": ""
            },
            "colorscale": [
             [
              0,
              "#0d0887"
             ],
             [
              0.1111111111111111,
              "#46039f"
             ],
             [
              0.2222222222222222,
              "#7201a8"
             ],
             [
              0.3333333333333333,
              "#9c179e"
             ],
             [
              0.4444444444444444,
              "#bd3786"
             ],
             [
              0.5555555555555556,
              "#d8576b"
             ],
             [
              0.6666666666666666,
              "#ed7953"
             ],
             [
              0.7777777777777778,
              "#fb9f3a"
             ],
             [
              0.8888888888888888,
              "#fdca26"
             ],
             [
              1,
              "#f0f921"
             ]
            ],
            "type": "heatmap"
           }
          ],
          "heatmapgl": [
           {
            "colorbar": {
             "outlinewidth": 0,
             "ticks": ""
            },
            "colorscale": [
             [
              0,
              "#0d0887"
             ],
             [
              0.1111111111111111,
              "#46039f"
             ],
             [
              0.2222222222222222,
              "#7201a8"
             ],
             [
              0.3333333333333333,
              "#9c179e"
             ],
             [
              0.4444444444444444,
              "#bd3786"
             ],
             [
              0.5555555555555556,
              "#d8576b"
             ],
             [
              0.6666666666666666,
              "#ed7953"
             ],
             [
              0.7777777777777778,
              "#fb9f3a"
             ],
             [
              0.8888888888888888,
              "#fdca26"
             ],
             [
              1,
              "#f0f921"
             ]
            ],
            "type": "heatmapgl"
           }
          ],
          "histogram": [
           {
            "marker": {
             "pattern": {
              "fillmode": "overlay",
              "size": 10,
              "solidity": 0.2
             }
            },
            "type": "histogram"
           }
          ],
          "histogram2d": [
           {
            "colorbar": {
             "outlinewidth": 0,
             "ticks": ""
            },
            "colorscale": [
             [
              0,
              "#0d0887"
             ],
             [
              0.1111111111111111,
              "#46039f"
             ],
             [
              0.2222222222222222,
              "#7201a8"
             ],
             [
              0.3333333333333333,
              "#9c179e"
             ],
             [
              0.4444444444444444,
              "#bd3786"
             ],
             [
              0.5555555555555556,
              "#d8576b"
             ],
             [
              0.6666666666666666,
              "#ed7953"
             ],
             [
              0.7777777777777778,
              "#fb9f3a"
             ],
             [
              0.8888888888888888,
              "#fdca26"
             ],
             [
              1,
              "#f0f921"
             ]
            ],
            "type": "histogram2d"
           }
          ],
          "histogram2dcontour": [
           {
            "colorbar": {
             "outlinewidth": 0,
             "ticks": ""
            },
            "colorscale": [
             [
              0,
              "#0d0887"
             ],
             [
              0.1111111111111111,
              "#46039f"
             ],
             [
              0.2222222222222222,
              "#7201a8"
             ],
             [
              0.3333333333333333,
              "#9c179e"
             ],
             [
              0.4444444444444444,
              "#bd3786"
             ],
             [
              0.5555555555555556,
              "#d8576b"
             ],
             [
              0.6666666666666666,
              "#ed7953"
             ],
             [
              0.7777777777777778,
              "#fb9f3a"
             ],
             [
              0.8888888888888888,
              "#fdca26"
             ],
             [
              1,
              "#f0f921"
             ]
            ],
            "type": "histogram2dcontour"
           }
          ],
          "mesh3d": [
           {
            "colorbar": {
             "outlinewidth": 0,
             "ticks": ""
            },
            "type": "mesh3d"
           }
          ],
          "parcoords": [
           {
            "line": {
             "colorbar": {
              "outlinewidth": 0,
              "ticks": ""
             }
            },
            "type": "parcoords"
           }
          ],
          "pie": [
           {
            "automargin": true,
            "type": "pie"
           }
          ],
          "scatter": [
           {
            "fillpattern": {
             "fillmode": "overlay",
             "size": 10,
             "solidity": 0.2
            },
            "type": "scatter"
           }
          ],
          "scatter3d": [
           {
            "line": {
             "colorbar": {
              "outlinewidth": 0,
              "ticks": ""
             }
            },
            "marker": {
             "colorbar": {
              "outlinewidth": 0,
              "ticks": ""
             }
            },
            "type": "scatter3d"
           }
          ],
          "scattercarpet": [
           {
            "marker": {
             "colorbar": {
              "outlinewidth": 0,
              "ticks": ""
             }
            },
            "type": "scattercarpet"
           }
          ],
          "scattergeo": [
           {
            "marker": {
             "colorbar": {
              "outlinewidth": 0,
              "ticks": ""
             }
            },
            "type": "scattergeo"
           }
          ],
          "scattergl": [
           {
            "marker": {
             "colorbar": {
              "outlinewidth": 0,
              "ticks": ""
             }
            },
            "type": "scattergl"
           }
          ],
          "scattermapbox": [
           {
            "marker": {
             "colorbar": {
              "outlinewidth": 0,
              "ticks": ""
             }
            },
            "type": "scattermapbox"
           }
          ],
          "scatterpolar": [
           {
            "marker": {
             "colorbar": {
              "outlinewidth": 0,
              "ticks": ""
             }
            },
            "type": "scatterpolar"
           }
          ],
          "scatterpolargl": [
           {
            "marker": {
             "colorbar": {
              "outlinewidth": 0,
              "ticks": ""
             }
            },
            "type": "scatterpolargl"
           }
          ],
          "scatterternary": [
           {
            "marker": {
             "colorbar": {
              "outlinewidth": 0,
              "ticks": ""
             }
            },
            "type": "scatterternary"
           }
          ],
          "surface": [
           {
            "colorbar": {
             "outlinewidth": 0,
             "ticks": ""
            },
            "colorscale": [
             [
              0,
              "#0d0887"
             ],
             [
              0.1111111111111111,
              "#46039f"
             ],
             [
              0.2222222222222222,
              "#7201a8"
             ],
             [
              0.3333333333333333,
              "#9c179e"
             ],
             [
              0.4444444444444444,
              "#bd3786"
             ],
             [
              0.5555555555555556,
              "#d8576b"
             ],
             [
              0.6666666666666666,
              "#ed7953"
             ],
             [
              0.7777777777777778,
              "#fb9f3a"
             ],
             [
              0.8888888888888888,
              "#fdca26"
             ],
             [
              1,
              "#f0f921"
             ]
            ],
            "type": "surface"
           }
          ],
          "table": [
           {
            "cells": {
             "fill": {
              "color": "#EBF0F8"
             },
             "line": {
              "color": "white"
             }
            },
            "header": {
             "fill": {
              "color": "#C8D4E3"
             },
             "line": {
              "color": "white"
             }
            },
            "type": "table"
           }
          ]
         },
         "layout": {
          "annotationdefaults": {
           "arrowcolor": "#2a3f5f",
           "arrowhead": 0,
           "arrowwidth": 1
          },
          "autotypenumbers": "strict",
          "coloraxis": {
           "colorbar": {
            "outlinewidth": 0,
            "ticks": ""
           }
          },
          "colorscale": {
           "diverging": [
            [
             0,
             "#8e0152"
            ],
            [
             0.1,
             "#c51b7d"
            ],
            [
             0.2,
             "#de77ae"
            ],
            [
             0.3,
             "#f1b6da"
            ],
            [
             0.4,
             "#fde0ef"
            ],
            [
             0.5,
             "#f7f7f7"
            ],
            [
             0.6,
             "#e6f5d0"
            ],
            [
             0.7,
             "#b8e186"
            ],
            [
             0.8,
             "#7fbc41"
            ],
            [
             0.9,
             "#4d9221"
            ],
            [
             1,
             "#276419"
            ]
           ],
           "sequential": [
            [
             0,
             "#0d0887"
            ],
            [
             0.1111111111111111,
             "#46039f"
            ],
            [
             0.2222222222222222,
             "#7201a8"
            ],
            [
             0.3333333333333333,
             "#9c179e"
            ],
            [
             0.4444444444444444,
             "#bd3786"
            ],
            [
             0.5555555555555556,
             "#d8576b"
            ],
            [
             0.6666666666666666,
             "#ed7953"
            ],
            [
             0.7777777777777778,
             "#fb9f3a"
            ],
            [
             0.8888888888888888,
             "#fdca26"
            ],
            [
             1,
             "#f0f921"
            ]
           ],
           "sequentialminus": [
            [
             0,
             "#0d0887"
            ],
            [
             0.1111111111111111,
             "#46039f"
            ],
            [
             0.2222222222222222,
             "#7201a8"
            ],
            [
             0.3333333333333333,
             "#9c179e"
            ],
            [
             0.4444444444444444,
             "#bd3786"
            ],
            [
             0.5555555555555556,
             "#d8576b"
            ],
            [
             0.6666666666666666,
             "#ed7953"
            ],
            [
             0.7777777777777778,
             "#fb9f3a"
            ],
            [
             0.8888888888888888,
             "#fdca26"
            ],
            [
             1,
             "#f0f921"
            ]
           ]
          },
          "colorway": [
           "#636efa",
           "#EF553B",
           "#00cc96",
           "#ab63fa",
           "#FFA15A",
           "#19d3f3",
           "#FF6692",
           "#B6E880",
           "#FF97FF",
           "#FECB52"
          ],
          "font": {
           "color": "#2a3f5f"
          },
          "geo": {
           "bgcolor": "white",
           "lakecolor": "white",
           "landcolor": "#E5ECF6",
           "showlakes": true,
           "showland": true,
           "subunitcolor": "white"
          },
          "hoverlabel": {
           "align": "left"
          },
          "hovermode": "closest",
          "mapbox": {
           "style": "light"
          },
          "paper_bgcolor": "white",
          "plot_bgcolor": "#E5ECF6",
          "polar": {
           "angularaxis": {
            "gridcolor": "white",
            "linecolor": "white",
            "ticks": ""
           },
           "bgcolor": "#E5ECF6",
           "radialaxis": {
            "gridcolor": "white",
            "linecolor": "white",
            "ticks": ""
           }
          },
          "scene": {
           "xaxis": {
            "backgroundcolor": "#E5ECF6",
            "gridcolor": "white",
            "gridwidth": 2,
            "linecolor": "white",
            "showbackground": true,
            "ticks": "",
            "zerolinecolor": "white"
           },
           "yaxis": {
            "backgroundcolor": "#E5ECF6",
            "gridcolor": "white",
            "gridwidth": 2,
            "linecolor": "white",
            "showbackground": true,
            "ticks": "",
            "zerolinecolor": "white"
           },
           "zaxis": {
            "backgroundcolor": "#E5ECF6",
            "gridcolor": "white",
            "gridwidth": 2,
            "linecolor": "white",
            "showbackground": true,
            "ticks": "",
            "zerolinecolor": "white"
           }
          },
          "shapedefaults": {
           "line": {
            "color": "#2a3f5f"
           }
          },
          "ternary": {
           "aaxis": {
            "gridcolor": "white",
            "linecolor": "white",
            "ticks": ""
           },
           "baxis": {
            "gridcolor": "white",
            "linecolor": "white",
            "ticks": ""
           },
           "bgcolor": "#E5ECF6",
           "caxis": {
            "gridcolor": "white",
            "linecolor": "white",
            "ticks": ""
           }
          },
          "title": {
           "x": 0.05
          },
          "xaxis": {
           "automargin": true,
           "gridcolor": "white",
           "linecolor": "white",
           "ticks": "",
           "title": {
            "standoff": 15
           },
           "zerolinecolor": "white",
           "zerolinewidth": 2
          },
          "yaxis": {
           "automargin": true,
           "gridcolor": "white",
           "linecolor": "white",
           "ticks": "",
           "title": {
            "standoff": 15
           },
           "zerolinecolor": "white",
           "zerolinewidth": 2
          }
         }
        },
        "title": {
         "text": "1 Yr Performance v. 10Yr LoF Performance (Expense Ratio=Size)"
        },
        "xaxis": {
         "anchor": "y",
         "domain": [
          0,
          1
         ],
         "title": {
          "text": "1 Year"
         }
        },
        "yaxis": {
         "anchor": "x",
         "domain": [
          0,
          1
         ],
         "title": {
          "text": "10 Year/LOF"
         }
        }
       }
      }
     },
     "metadata": {},
     "output_type": "display_data"
    }
   ],
   "source": [
    "fig = px.scatter(fid401k_df, x=\"1 Year\", y=\"10 Year/LOF\", color=\"Category\",\n",
    "                 size='Gross Expense Ratio', hover_data=['Name/Inception Date'], title=\"1 Yr Performance v. 10Yr LoF Performance (Expense Ratio=Size)\")\n",
    "fig.show()\n",
    "fig.write_html(\"expense_perf_10_v_1yr.html\")"
   ]
  },
  {
   "cell_type": "code",
   "execution_count": null,
   "metadata": {},
   "outputs": [],
   "source": []
  }
 ],
 "metadata": {
  "kernelspec": {
   "display_name": "personalfinance",
   "language": "python",
   "name": "python3"
  },
  "language_info": {
   "codemirror_mode": {
    "name": "ipython",
    "version": 3
   },
   "file_extension": ".py",
   "mimetype": "text/x-python",
   "name": "python",
   "nbconvert_exporter": "python",
   "pygments_lexer": "ipython3",
   "version": "3.12.3"
  }
 },
 "nbformat": 4,
 "nbformat_minor": 2
}
