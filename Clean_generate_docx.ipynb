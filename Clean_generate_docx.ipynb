{
 "cells": [
  {
   "cell_type": "markdown",
   "id": "2859b31f",
   "metadata": {},
   "source": [
    "# From: python docx\n",
    "  * https://stackabuse.com/reading-and-writing-ms-word-files-in-python-via-python-docx-module/\n",
    "  * https://python-docx.readthedocs.io/en/latest/"
   ]
  },
  {
   "cell_type": "code",
   "execution_count": 1,
   "id": "08ebbcc0",
   "metadata": {},
   "outputs": [],
   "source": [
    "import docx"
   ]
  },
  {
   "cell_type": "code",
   "execution_count": 2,
   "id": "e1ec9046",
   "metadata": {},
   "outputs": [],
   "source": [
    "mydocx = docx.Document()"
   ]
  },
  {
   "cell_type": "code",
   "execution_count": 3,
   "id": "20d4b4da",
   "metadata": {},
   "outputs": [
    {
     "data": {
      "text/plain": [
       "<docx.text.paragraph.Paragraph at 0x11603dc10>"
      ]
     },
     "execution_count": 3,
     "metadata": {},
     "output_type": "execute_result"
    }
   ],
   "source": [
    "mydocx.add_paragraph(\"This is first paragraph of a MS Word file.\")"
   ]
  },
  {
   "cell_type": "markdown",
   "id": "625463f0",
   "metadata": {},
   "source": [
    "# The following script adds three headers of level 0, 1, and 2 to the file my_written_file.docx:"
   ]
  },
  {
   "cell_type": "code",
   "execution_count": 4,
   "id": "f882642e",
   "metadata": {},
   "outputs": [
    {
     "data": {
      "text/plain": [
       "<docx.text.paragraph.Paragraph at 0x1160c9c90>"
      ]
     },
     "execution_count": 4,
     "metadata": {},
     "output_type": "execute_result"
    }
   ],
   "source": [
    "mydocx.add_heading(\"This is level 1 heading\", 0)\n",
    "mydocx.add_heading(\"This is level 2 heading\", 1)\n",
    "mydocx.add_heading(\"This is level 3 heading\", 2)"
   ]
  },
  {
   "cell_type": "code",
   "execution_count": 5,
   "id": "81f29711",
   "metadata": {},
   "outputs": [
    {
     "data": {
      "text/plain": [
       "<docx.shape.InlineShape at 0x1160a19d0>"
      ]
     },
     "execution_count": 5,
     "metadata": {},
     "output_type": "execute_result"
    }
   ],
   "source": [
    "mydocx.add_picture(\"cloud.png\", width=docx.shared.Inches(5), height=docx.shared.Inches(7))"
   ]
  },
  {
   "cell_type": "code",
   "execution_count": 7,
   "id": "57b113e3",
   "metadata": {},
   "outputs": [],
   "source": [
    "mydocx.save(\"my_output_file.docx\")"
   ]
  },
  {
   "cell_type": "markdown",
   "id": "c9fa7d3f",
   "metadata": {},
   "source": [
    "# Original Example\n",
    "  * https://python-docx.readthedocs.io/en/latest/"
   ]
  },
  {
   "cell_type": "code",
   "execution_count": 9,
   "id": "4677db26",
   "metadata": {},
   "outputs": [],
   "source": [
    "from docx import Document, oxml, opc\n",
    "from docx.enum.dml import MSO_THEME_COLOR_INDEX\n",
    "from docx.shared import Inches"
   ]
  },
  {
   "cell_type": "code",
   "execution_count": 10,
   "id": "16846dd1",
   "metadata": {},
   "outputs": [],
   "source": [
    "def add_hyperlink(paragraph, url, text, color, underline):\n",
    "    \"\"\"\n",
    "    A function that places a hyperlink within a paragraph object.\n",
    "\n",
    "    :param paragraph: The paragraph we are adding the hyperlink to.\n",
    "    :param url: A string containing the required url\n",
    "    :param text: The text displayed for the url\n",
    "    :return: The hyperlink object\n",
    "    \"\"\"\n",
    "\n",
    "    # This gets access to the document.xml.rels file and gets a new relation id value\n",
    "    part = paragraph.part\n",
    "    r_id = part.relate_to(url, opc.constants.RELATIONSHIP_TYPE.HYPERLINK, is_external=True)\n",
    "\n",
    "    # Create the w:hyperlink tag and add needed values\n",
    "    hyperlink = oxml.shared.OxmlElement('w:hyperlink')\n",
    "    hyperlink.set(oxml.shared.qn('r:id'), r_id, )\n",
    "\n",
    "    # Create a w:r element\n",
    "    new_run = oxml.shared.OxmlElement('w:r')\n",
    "\n",
    "    # Create a new w:rPr element\n",
    "    rPr = oxml.shared.OxmlElement('w:rPr')\n",
    "\n",
    "    # Add color if it is given\n",
    "    if not color is None:\n",
    "      c = oxml.shared.OxmlElement('w:color')\n",
    "      c.set(oxml.shared.qn('w:val'), color)\n",
    "      rPr.append(c)\n",
    "\n",
    "    # Remove underlining if it is requested\n",
    "    if not underline:\n",
    "      u = oxml.shared.OxmlElement('w:u')\n",
    "      u.set(oxml.shared.qn('w:val'), 'none')\n",
    "      rPr.append(u)\n",
    "\n",
    "    # Join all the xml elements together add add the required text to the w:r element\n",
    "    new_run.append(rPr)\n",
    "    new_run.text = text\n",
    "    hyperlink.append(new_run)\n",
    "\n",
    "    paragraph._p.append(hyperlink)\n",
    "\n",
    "    return hyperlink"
   ]
  },
  {
   "cell_type": "code",
   "execution_count": 11,
   "id": "9abce7d7",
   "metadata": {},
   "outputs": [
    {
     "name": "stdout",
     "output_type": "stream",
     "text": [
      "Wrote: demo.docx\n"
     ]
    }
   ],
   "source": [
    "document = Document()\n",
    "\n",
    "document.add_heading('Document Title', 0)\n",
    "\n",
    "p = document.add_paragraph('A plain paragraph having some ')\n",
    "p.add_run('bold').bold = True\n",
    "p.add_run(' and some ')\n",
    "p.add_run('italic.').italic = True\n",
    "\n",
    "document.add_heading('Heading, level 1', level=1)\n",
    "document.add_paragraph('Intense quote', style='Intense Quote')\n",
    "\n",
    "document.add_paragraph(\n",
    "    'first item in unordered list', style='List Bullet'\n",
    ")\n",
    "document.add_paragraph(\n",
    "    'first item in ordered list', style='List Number'\n",
    ")\n",
    "\n",
    "#add a hyperlink with the normal formatting (blue underline)\n",
    "hyperlink = add_hyperlink(p, 'http://www.google.com', ' Google ', '0645AD', True)\n",
    "\n",
    "p = document.add_paragraph(' A plain paragraph having some ')\n",
    "\n",
    "document.add_picture('cloud.png', width=Inches(1.25))\n",
    "\n",
    "records = (\n",
    "    (3, '101', 'Spam'),\n",
    "    (7, '422', 'Eggs'),\n",
    "    (4, '631', 'Spam, spam, eggs, and spam')\n",
    ")\n",
    "\n",
    "table = document.add_table(rows=1, cols=3)\n",
    "hdr_cells = table.rows[0].cells\n",
    "hdr_cells[0].text = 'Qty'\n",
    "hdr_cells[1].text = 'Id'\n",
    "hdr_cells[2].text = 'Desc'\n",
    "for qty, id, desc in records:\n",
    "    row_cells = table.add_row().cells\n",
    "    row_cells[0].text = str(qty)\n",
    "    row_cells[1].text = id\n",
    "    row_cells[2].text = desc\n",
    "\n",
    "document.add_page_break()\n",
    "\n",
    "outfile = 'demo.docx'\n",
    "document.save(outfile)\n",
    "print ('Wrote:', outfile)"
   ]
  },
  {
   "cell_type": "markdown",
   "id": "529c781a",
   "metadata": {},
   "source": [
    "# Done - ZZZZ"
   ]
  },
  {
   "cell_type": "code",
   "execution_count": null,
   "id": "e3242176",
   "metadata": {},
   "outputs": [],
   "source": []
  }
 ],
 "metadata": {
  "kernelspec": {
   "display_name": "Python 3 (ipykernel)",
   "language": "python",
   "name": "python3"
  },
  "language_info": {
   "codemirror_mode": {
    "name": "ipython",
    "version": 3
   },
   "file_extension": ".py",
   "mimetype": "text/x-python",
   "name": "python",
   "nbconvert_exporter": "python",
   "pygments_lexer": "ipython3",
   "version": "3.10.9"
  }
 },
 "nbformat": 4,
 "nbformat_minor": 5
}
